{
  "cells": [
    {
      "cell_type": "markdown",
      "source": [
        "#**Enhanced Pedestrian Intention Detection for ADAS and Autonomous Vehicles**\n",
        "Demo of the PID model on the JAAD dataset."
      ],
      "metadata": {
        "id": "K8-OFNVTREVj"
      }
    },
    {
      "cell_type": "markdown",
      "source": [
        "\n",
        "##Step 1: Mount google drive and create folder for output"
      ],
      "metadata": {
        "id": "cfI2AP-8MpBy"
      }
    },
    {
      "cell_type": "code",
      "source": [
        "from google.colab import drive\n",
        "\n",
        "# Check if Google Drive is mounted\n",
        "if not drive.is_mounted():\n",
        "    # Mount Google Drive if not already mounted\n",
        "    drive.mount('/content/drive')\n",
        "\n",
        "# Get the path to the desired parent folder (replace with your desired path)\n",
        "parent_folder_path = '/content/drive/My Drive'\n",
        "\n",
        "# Create the folder\n",
        "folder_name = 'pid_model_output'\n",
        "folder_path = os.path.join(parent_folder_path, folder_name)\n",
        "\n",
        "# Check if the folder already exists\n",
        "if not os.path.exists(folder_path):\n",
        "    os.makedirs(folder_path)\n",
        "\n",
        "# Print the path to the created folder\n",
        "print(f\"Folder created at: {folder_path}\")"
      ],
      "metadata": {
        "colab": {
          "base_uri": "https://localhost:8080/"
        },
        "id": "8D9GlH0IMWT6",
        "outputId": "8500c15d-163c-4d14-ce88-04452da24e24"
      },
      "execution_count": null,
      "outputs": [
        {
          "output_type": "stream",
          "name": "stdout",
          "text": [
            "Drive already mounted at /content/drive; to attempt to forcibly remount, call drive.mount(\"/content/drive\", force_remount=True).\n"
          ]
        }
      ]
    },
    {
      "cell_type": "markdown",
      "source": [
        "## Steps 2-5\n",
        "## Step 2: Clone the JAAD repositry to the content directory on google colab:\n",
        "https://github.com/ykotseruba/JAAD\n",
        "\n",
        "##Step 3: Upload a zipped file of the JAAD clips into your google drive:\n",
        "http://data.nvision2.eecs.yorku.ca/JAAD_dataset/data/JAAD_clips.zip\n",
        "\n",
        "##Step 4: Unzip JAAD_clips.zip and copy the jaad_data.py file into the content directory on google colab.\n",
        "\n",
        "##Step 5: Clone the YOLOP repository into the content directory."
      ],
      "metadata": {
        "id": "-Ku5AKn6M1zN"
      }
    },
    {
      "cell_type": "code",
      "execution_count": null,
      "metadata": {
        "colab": {
          "base_uri": "https://localhost:8080/"
        },
        "id": "GjvmLJzhB5A4",
        "outputId": "1ef78644-a515-498e-b0f5-91bffea42f4f"
      },
      "outputs": [
        {
          "output_type": "stream",
          "name": "stdout",
          "text": [
            "Archive:  /content/drive/My Drive/JAAD/JAAD_clips.zip\n",
            "replace /content/JAAD_clips/video_0001.mp4? [y]es, [n]o, [A]ll, [N]one, [r]ename: Cloning into 'JAAD'...\n",
            "remote: Enumerating objects: 6149, done.\u001b[K\n",
            "remote: Counting objects: 100% (718/718), done.\u001b[K\n",
            "remote: Compressing objects: 100% (66/66), done.\u001b[K\n",
            "remote: Total 6149 (delta 668), reused 695 (delta 652), pack-reused 5431\u001b[K\n",
            "Receiving objects: 100% (6149/6149), 42.16 MiB | 12.21 MiB/s, done.\n",
            "Resolving deltas: 100% (5487/5487), done.\n",
            "fatal: destination path 'YOLOP' already exists and is not an empty directory.\n"
          ]
        }
      ],
      "source": [
        "!unzip \"/content/drive/My Drive/JAAD/JAAD_clips.zip\" -d \"/content\"\n",
        "!git clone https://github.com/ykotseruba/JAAD.git\n",
        "!cp '/content/JAAD/jaad_data.py' '/content'\n",
        "!git clone https://github.com/hustvl/YOLOP"
      ]
    },
    {
      "cell_type": "markdown",
      "source": [
        "## Step 6: Import OpenCV and Tensorflow"
      ],
      "metadata": {
        "id": "TQJQVUQdhsl2"
      }
    },
    {
      "cell_type": "code",
      "execution_count": null,
      "metadata": {
        "id": "4Ya_2W-CJ238"
      },
      "outputs": [],
      "source": [
        "import csv\n",
        "import os\n",
        "import pandas as pd\n",
        "import h5py\n",
        "import numpy as np\n",
        "import cv2\n",
        "\n",
        "import tensorflow as tf\n",
        "\n",
        "from jaad_data import JAAD"
      ]
    },
    {
      "cell_type": "markdown",
      "source": [
        "## Step 6: Define a function YOLOPdetect that returns the drivable area and lane segmentation for an image.\n",
        "\n",
        " This is a modified version of the YOLOPdetect function that is in demo.py in the YOLOP directory. All credit goes to its authors."
      ],
      "metadata": {
        "id": "e8s8vh-_iCvM"
      }
    },
    {
      "cell_type": "code",
      "execution_count": null,
      "metadata": {
        "colab": {
          "base_uri": "https://localhost:8080/"
        },
        "id": "2vbhQ8qoKBAQ",
        "outputId": "05689a90-4001-4fe0-8ef7-49f87177e531"
      },
      "outputs": [
        {
          "output_type": "stream",
          "name": "stdout",
          "text": [
            "['/content', '/env/python', '/usr/lib/python310.zip', '/usr/lib/python3.10', '/usr/lib/python3.10/lib-dynload', '', '/usr/local/lib/python3.10/dist-packages', '/usr/lib/python3/dist-packages', '/usr/local/lib/python3.10/dist-packages/IPython/extensions', '/root/.ipython', '/content/YOLOP', '/content/YOLOP']\n",
            "Requirement already satisfied: yacs in /usr/local/lib/python3.10/dist-packages (0.1.8)\n",
            "Requirement already satisfied: PyYAML in /usr/local/lib/python3.10/dist-packages (from yacs) (6.0.1)\n"
          ]
        }
      ],
      "source": [
        "import argparse\n",
        "import os, sys\n",
        "\n",
        "BASE_DIR = os.path.dirname('/content/YOLOP')\n",
        "sys.path.append('/content/YOLOP')\n",
        "\n",
        "import shutil\n",
        "import time\n",
        "from pathlib import Path\n",
        "import imageio\n",
        "\n",
        "print(sys.path)\n",
        "import torch\n",
        "import torch.backends.cudnn as cudnn\n",
        "from numpy import random\n",
        "import scipy.special\n",
        "import torchvision.transforms as transforms\n",
        "import PIL.Image as image\n",
        "\n",
        "!sudo pip install yacs\n",
        "from lib.config import cfg\n",
        "from lib.config import update_config\n",
        "from lib.utils.utils import create_logger, select_device, time_synchronized\n",
        "from lib.models import get_net\n",
        "from lib.dataset import LoadImages, LoadStreams\n",
        "from lib.core.general import non_max_suppression, scale_coords\n",
        "from lib.utils import plot_one_box,show_seg_result\n",
        "from lib.core.function import AverageMeter\n",
        "from lib.core.postprocess import morphological_process, connect_lane\n",
        "from lib.utils import letterbox_for_img, clean_str\n",
        "from tqdm import tqdm\n",
        "from numba import cuda\n",
        "\n",
        "from google.colab.patches import cv2_imshow\n",
        "\n",
        "normalize = transforms.Normalize(\n",
        "        mean=[0.485, 0.456, 0.406], std=[0.229, 0.224, 0.225]\n",
        "    )\n",
        "\n",
        "transform=transforms.Compose([\n",
        "            transforms.ToTensor(),\n",
        "            normalize,\n",
        "        ])\n",
        "\n",
        "class opt:\n",
        "      device = '0'\n",
        "      weights = '/content/YOLOP/weights/End-to-end.pth'\n",
        "      source = '/content/YOLOPstream.png'\n",
        "      img_size = 640\n",
        "      conf_thres = 0.25\n",
        "      iou_thres = 0.45\n",
        "      save_dir = '/content/YOLOP/output'\n",
        "\n",
        "opt = opt()\n",
        "\n",
        "device = select_device(None,opt.device)\n",
        "half = device.type != 'cpu'  # half precision only supported on CUDA\n",
        "\n",
        "# Load model\n",
        "yolop_model = get_net(cfg)\n",
        "checkpoint = torch.load(opt.weights, map_location= device)\n",
        "yolop_model.load_state_dict(checkpoint['state_dict'])\n",
        "yolop_model = yolop_model.to(device)\n",
        "if half:\n",
        "    yolop_model.half()  # to FP16\n",
        "\n",
        "img = torch.zeros((1, 3, opt.img_size, opt.img_size), device=device)  # init img\n",
        "_ = yolop_model(img.half() if half else img) if device.type != 'cpu' else None  # run once\n",
        "yolop_model.eval()\n",
        "\n",
        "def YOLOPdetect(img0):\n",
        "\n",
        "    h0, w0 = img0.shape[:2]\n",
        "    img, ratio, pad = letterbox_for_img(img0, new_shape=opt.img_size, auto=True)\n",
        "    h, w = img.shape[:2]\n",
        "    shapes = (h0, w0), ((h / h0, w / w0), pad)\n",
        "\n",
        "    dataset = [(None, img, img0, None, shapes)]\n",
        "    bs = 1  # batch_size\n",
        "\n",
        "\n",
        "    # Get names and colors\n",
        "    names = yolop_model.module.names if hasattr(yolop_model, 'module') else yolop_model.names\n",
        "    colors = [[random.randint(0, 255) for _ in range(3)] for _ in range(len(names))]\n",
        "\n",
        "\n",
        "    # Run inference\n",
        "    t0 = time.time()\n",
        "\n",
        "    inf_time = AverageMeter()\n",
        "    nms_time = AverageMeter()\n",
        "\n",
        "\n",
        "\n",
        "    da_seg_mask = None\n",
        "\n",
        "    for i, (path, img, img_det, vid_cap,shapes) in enumerate(dataset):\n",
        "        with torch.no_grad():\n",
        "          torch.cuda.empty_cache()\n",
        "          img = transform(img).to(device)\n",
        "          img = img.half() if half else img.float()  # uint8 to fp16/32\n",
        "          if img.ndimension() == 3:\n",
        "              img = img.unsqueeze(0)\n",
        "          # Inference\n",
        "          t1 = time_synchronized()\n",
        "          det_out, da_seg_out,ll_seg_out= yolop_model(img)\n",
        "          t2 = time_synchronized()\n",
        "          # if i == 0:\n",
        "          #     print(det_out)\n",
        "          inf_out, _ = det_out\n",
        "          inf_time.update(t2-t1,img.size(0))\n",
        "\n",
        "          # Apply NMS\n",
        "          t3 = time_synchronized()\n",
        "          det_pred = non_max_suppression(inf_out, conf_thres=opt.conf_thres, iou_thres=opt.iou_thres, classes=None, agnostic=False)\n",
        "          t4 = time_synchronized()\n",
        "\n",
        "          nms_time.update(t4-t3,img.size(0))\n",
        "          det=det_pred[0]\n",
        "\n",
        "          _, _, height, width = img.shape\n",
        "          h,w,_=img_det.shape\n",
        "          pad_w, pad_h = shapes[1][1]\n",
        "          pad_w = int(pad_w)\n",
        "          pad_h = int(pad_h)\n",
        "          ratio = shapes[1][0][1]\n",
        "\n",
        "          da_predict = da_seg_out[:, :, pad_h:(height-pad_h),pad_w:(width-pad_w)]\n",
        "          da_seg_mask = torch.nn.functional.interpolate(da_predict, scale_factor=int(1/ratio), mode='bilinear')\n",
        "          _, da_seg_mask = torch.max(da_seg_mask, 1)\n",
        "          da_seg_mask = da_seg_mask.int().squeeze().cpu().numpy()\n",
        "\n",
        "          ll_predict = ll_seg_out[:, :,pad_h:(height-pad_h),pad_w:(width-pad_w)]\n",
        "          ll_seg_mask = torch.nn.functional.interpolate(ll_predict, scale_factor=int(1/ratio), mode='bilinear')\n",
        "          _, ll_seg_mask = torch.max(ll_seg_mask, 1)\n",
        "          ll_seg_mask = ll_seg_mask.int().squeeze().cpu().numpy()\n",
        "\n",
        "          img_det = show_seg_result(img_det, (da_seg_mask, ll_seg_mask), _, _, is_demo=True)\n",
        "\n",
        "          del ll_predict\n",
        "          del da_predict\n",
        "          del ll_seg_mask\n",
        "          del da_seg_mask\n",
        "          del inf_out\n",
        "          del det_out\n",
        "          del det_pred\n",
        "          del img\n",
        "          torch.cuda.empty_cache()\n",
        "    img_det = cv2.resize(img_det, (w0,h0))\n",
        "    return img_det"
      ]
    },
    {
      "cell_type": "markdown",
      "source": [
        "## Steps 7-8\n",
        "\n",
        "## Step 7: Upload the two files for the pre-trained model found on the github repo 'desenet_model.json' & 'densenet_weights.h5' to google drive\n",
        "\n",
        "## Step 8: Setup YOLO-NAS-Pose through super-gradients, Deep OC-Sort through boxmot, and the DenseNet model through tensorflow"
      ],
      "metadata": {
        "id": "ohrwG1xQiflg"
      }
    },
    {
      "cell_type": "code",
      "execution_count": null,
      "metadata": {
        "colab": {
          "base_uri": "https://localhost:8080/"
        },
        "id": "ve4Q_n3KKqfs",
        "outputId": "da5b4e8f-bc0c-465e-d1e4-bad7d198b55d"
      },
      "outputs": [
        {
          "output_type": "stream",
          "name": "stderr",
          "text": [
            "[2024-05-10 16:36:20] INFO - crash_tips_setup.py - Crash tips is enabled. You can set your environment variable to CRASH_HANDLER=FALSE to disable it\n"
          ]
        },
        {
          "output_type": "stream",
          "name": "stdout",
          "text": [
            "The console stream is logged into /root/sg_logs/console.log\n"
          ]
        },
        {
          "output_type": "stream",
          "name": "stderr",
          "text": [
            "[2024-05-10 16:36:22] WARNING - checkpoint_utils.py - :warning: The pre-trained models provided by SuperGradients may have their own licenses or terms and conditions derived from the dataset used for pre-training.\n",
            " It is your responsibility to determine whether you have permission to use the models for your use case.\n",
            " The model you have requested was pre-trained on the coco_pose dataset, published under the following terms: https://cocodataset.org/#termsofuse\n",
            "[2024-05-10 16:36:22] INFO - checkpoint_utils.py - License Notification: YOLO-NAS-POSE pre-trained weights are subjected to the specific license terms and conditions detailed in \n",
            "https://github.com/Deci-AI/super-gradients/blob/master/LICENSE.YOLONAS-POSE.md\n",
            "By downloading the pre-trained weight files you agree to comply with these terms.\n",
            "[2024-05-10 16:36:22] INFO - checkpoint_utils.py - Successfully loaded pretrained weights for architecture yolo_nas_pose_s\n"
          ]
        },
        {
          "output_type": "stream",
          "name": "stdout",
          "text": [
            "Requirement already satisfied: boxmot in /usr/local/lib/python3.10/dist-packages (10.0.69)\n",
            "Requirement already satisfied: filterpy<2.0.0,>=1.4.5 in /usr/local/lib/python3.10/dist-packages (from boxmot) (1.4.5)\n",
            "Requirement already satisfied: ftfy<7.0.0,>=6.1.3 in /usr/local/lib/python3.10/dist-packages (from boxmot) (6.2.0)\n",
            "Requirement already satisfied: gdown<6.0.0,>=5.1.0 in /usr/local/lib/python3.10/dist-packages (from boxmot) (5.1.0)\n",
            "Requirement already satisfied: gitpython<4.0.0,>=3.1.42 in /usr/local/lib/python3.10/dist-packages (from boxmot) (3.1.43)\n",
            "Requirement already satisfied: lapx<0.6.0,>=0.5.5 in /usr/local/lib/python3.10/dist-packages (from boxmot) (0.5.8)\n",
            "Requirement already satisfied: loguru<0.8.0,>=0.7.2 in /usr/local/lib/python3.10/dist-packages (from boxmot) (0.7.2)\n",
            "Requirement already satisfied: numpy==1.24.4 in /usr/local/lib/python3.10/dist-packages (from boxmot) (1.24.4)\n",
            "Requirement already satisfied: opencv-python<5.0.0,>=4.7.0 in /usr/local/lib/python3.10/dist-packages (from boxmot) (4.8.0.76)\n",
            "Requirement already satisfied: pandas<3.0.0,>=2.0.0 in /usr/local/lib/python3.10/dist-packages (from boxmot) (2.0.3)\n",
            "Requirement already satisfied: pyyaml<7.0.0,>=6.0.1 in /usr/local/lib/python3.10/dist-packages (from boxmot) (6.0.1)\n",
            "Requirement already satisfied: regex<2025.0.0,>=2024.0.0 in /usr/local/lib/python3.10/dist-packages (from boxmot) (2024.5.10)\n",
            "Requirement already satisfied: scikit-learn<2.0.0,>=1.3.0 in /usr/local/lib/python3.10/dist-packages (from boxmot) (1.4.2)\n",
            "Requirement already satisfied: torch<3.0.0,>=2.2.1 in /usr/local/lib/python3.10/dist-packages (from boxmot) (2.2.1+cu121)\n",
            "Requirement already satisfied: torchvision<0.18.0,>=0.17.1 in /usr/local/lib/python3.10/dist-packages (from boxmot) (0.17.1+cu121)\n",
            "Requirement already satisfied: yacs<0.2.0,>=0.1.8 in /usr/local/lib/python3.10/dist-packages (from boxmot) (0.1.8)\n",
            "Requirement already satisfied: scipy in /usr/local/lib/python3.10/dist-packages (from filterpy<2.0.0,>=1.4.5->boxmot) (1.11.4)\n",
            "Requirement already satisfied: matplotlib in /usr/local/lib/python3.10/dist-packages (from filterpy<2.0.0,>=1.4.5->boxmot) (3.7.1)\n",
            "Requirement already satisfied: wcwidth<0.3.0,>=0.2.12 in /usr/local/lib/python3.10/dist-packages (from ftfy<7.0.0,>=6.1.3->boxmot) (0.2.13)\n",
            "Requirement already satisfied: beautifulsoup4 in /usr/local/lib/python3.10/dist-packages (from gdown<6.0.0,>=5.1.0->boxmot) (4.12.3)\n",
            "Requirement already satisfied: filelock in /usr/local/lib/python3.10/dist-packages (from gdown<6.0.0,>=5.1.0->boxmot) (3.14.0)\n",
            "Requirement already satisfied: requests[socks] in /usr/local/lib/python3.10/dist-packages (from gdown<6.0.0,>=5.1.0->boxmot) (2.31.0)\n",
            "Requirement already satisfied: tqdm in /usr/local/lib/python3.10/dist-packages (from gdown<6.0.0,>=5.1.0->boxmot) (4.66.4)\n",
            "Requirement already satisfied: gitdb<5,>=4.0.1 in /usr/local/lib/python3.10/dist-packages (from gitpython<4.0.0,>=3.1.42->boxmot) (4.0.11)\n",
            "Requirement already satisfied: Cython>=0.29.32 in /usr/local/lib/python3.10/dist-packages (from lapx<0.6.0,>=0.5.5->boxmot) (3.0.10)\n",
            "Requirement already satisfied: python-dateutil>=2.8.2 in /usr/local/lib/python3.10/dist-packages (from pandas<3.0.0,>=2.0.0->boxmot) (2.8.2)\n",
            "Requirement already satisfied: pytz>=2020.1 in /usr/local/lib/python3.10/dist-packages (from pandas<3.0.0,>=2.0.0->boxmot) (2023.4)\n",
            "Requirement already satisfied: tzdata>=2022.1 in /usr/local/lib/python3.10/dist-packages (from pandas<3.0.0,>=2.0.0->boxmot) (2024.1)\n",
            "Requirement already satisfied: joblib>=1.2.0 in /usr/local/lib/python3.10/dist-packages (from scikit-learn<2.0.0,>=1.3.0->boxmot) (1.4.2)\n",
            "Requirement already satisfied: threadpoolctl>=2.0.0 in /usr/local/lib/python3.10/dist-packages (from scikit-learn<2.0.0,>=1.3.0->boxmot) (3.5.0)\n",
            "Requirement already satisfied: typing-extensions>=4.8.0 in /usr/local/lib/python3.10/dist-packages (from torch<3.0.0,>=2.2.1->boxmot) (4.11.0)\n",
            "Requirement already satisfied: sympy in /usr/local/lib/python3.10/dist-packages (from torch<3.0.0,>=2.2.1->boxmot) (1.12)\n",
            "Requirement already satisfied: networkx in /usr/local/lib/python3.10/dist-packages (from torch<3.0.0,>=2.2.1->boxmot) (3.3)\n",
            "Requirement already satisfied: jinja2 in /usr/local/lib/python3.10/dist-packages (from torch<3.0.0,>=2.2.1->boxmot) (3.1.4)\n",
            "Requirement already satisfied: fsspec in /usr/local/lib/python3.10/dist-packages (from torch<3.0.0,>=2.2.1->boxmot) (2023.6.0)\n",
            "Requirement already satisfied: nvidia-cuda-nvrtc-cu12==12.1.105 in /usr/local/lib/python3.10/dist-packages (from torch<3.0.0,>=2.2.1->boxmot) (12.1.105)\n",
            "Requirement already satisfied: nvidia-cuda-runtime-cu12==12.1.105 in /usr/local/lib/python3.10/dist-packages (from torch<3.0.0,>=2.2.1->boxmot) (12.1.105)\n",
            "Requirement already satisfied: nvidia-cuda-cupti-cu12==12.1.105 in /usr/local/lib/python3.10/dist-packages (from torch<3.0.0,>=2.2.1->boxmot) (12.1.105)\n",
            "Requirement already satisfied: nvidia-cudnn-cu12==8.9.2.26 in /usr/local/lib/python3.10/dist-packages (from torch<3.0.0,>=2.2.1->boxmot) (8.9.2.26)\n",
            "Requirement already satisfied: nvidia-cublas-cu12==12.1.3.1 in /usr/local/lib/python3.10/dist-packages (from torch<3.0.0,>=2.2.1->boxmot) (12.1.3.1)\n",
            "Requirement already satisfied: nvidia-cufft-cu12==11.0.2.54 in /usr/local/lib/python3.10/dist-packages (from torch<3.0.0,>=2.2.1->boxmot) (11.0.2.54)\n",
            "Requirement already satisfied: nvidia-curand-cu12==10.3.2.106 in /usr/local/lib/python3.10/dist-packages (from torch<3.0.0,>=2.2.1->boxmot) (10.3.2.106)\n",
            "Requirement already satisfied: nvidia-cusolver-cu12==11.4.5.107 in /usr/local/lib/python3.10/dist-packages (from torch<3.0.0,>=2.2.1->boxmot) (11.4.5.107)\n",
            "Requirement already satisfied: nvidia-cusparse-cu12==12.1.0.106 in /usr/local/lib/python3.10/dist-packages (from torch<3.0.0,>=2.2.1->boxmot) (12.1.0.106)\n",
            "Requirement already satisfied: nvidia-nccl-cu12==2.19.3 in /usr/local/lib/python3.10/dist-packages (from torch<3.0.0,>=2.2.1->boxmot) (2.19.3)\n",
            "Requirement already satisfied: nvidia-nvtx-cu12==12.1.105 in /usr/local/lib/python3.10/dist-packages (from torch<3.0.0,>=2.2.1->boxmot) (12.1.105)\n",
            "Requirement already satisfied: triton==2.2.0 in /usr/local/lib/python3.10/dist-packages (from torch<3.0.0,>=2.2.1->boxmot) (2.2.0)\n",
            "Requirement already satisfied: nvidia-nvjitlink-cu12 in /usr/local/lib/python3.10/dist-packages (from nvidia-cusolver-cu12==11.4.5.107->torch<3.0.0,>=2.2.1->boxmot) (12.4.127)\n",
            "Requirement already satisfied: pillow!=8.3.*,>=5.3.0 in /usr/local/lib/python3.10/dist-packages (from torchvision<0.18.0,>=0.17.1->boxmot) (10.3.0)\n",
            "Requirement already satisfied: smmap<6,>=3.0.1 in /usr/local/lib/python3.10/dist-packages (from gitdb<5,>=4.0.1->gitpython<4.0.0,>=3.1.42->boxmot) (5.0.1)\n",
            "Requirement already satisfied: six>=1.5 in /usr/local/lib/python3.10/dist-packages (from python-dateutil>=2.8.2->pandas<3.0.0,>=2.0.0->boxmot) (1.16.0)\n",
            "Requirement already satisfied: soupsieve>1.2 in /usr/local/lib/python3.10/dist-packages (from beautifulsoup4->gdown<6.0.0,>=5.1.0->boxmot) (2.5)\n",
            "Requirement already satisfied: MarkupSafe>=2.0 in /usr/local/lib/python3.10/dist-packages (from jinja2->torch<3.0.0,>=2.2.1->boxmot) (2.1.5)\n",
            "Requirement already satisfied: contourpy>=1.0.1 in /usr/local/lib/python3.10/dist-packages (from matplotlib->filterpy<2.0.0,>=1.4.5->boxmot) (1.2.1)\n",
            "Requirement already satisfied: cycler>=0.10 in /usr/local/lib/python3.10/dist-packages (from matplotlib->filterpy<2.0.0,>=1.4.5->boxmot) (0.12.1)\n",
            "Requirement already satisfied: fonttools>=4.22.0 in /usr/local/lib/python3.10/dist-packages (from matplotlib->filterpy<2.0.0,>=1.4.5->boxmot) (4.51.0)\n",
            "Requirement already satisfied: kiwisolver>=1.0.1 in /usr/local/lib/python3.10/dist-packages (from matplotlib->filterpy<2.0.0,>=1.4.5->boxmot) (1.4.5)\n",
            "Requirement already satisfied: packaging>=20.0 in /usr/local/lib/python3.10/dist-packages (from matplotlib->filterpy<2.0.0,>=1.4.5->boxmot) (24.0)\n",
            "Requirement already satisfied: pyparsing>=2.3.1 in /usr/local/lib/python3.10/dist-packages (from matplotlib->filterpy<2.0.0,>=1.4.5->boxmot) (3.1.2)\n",
            "Requirement already satisfied: charset-normalizer<4,>=2 in /usr/local/lib/python3.10/dist-packages (from requests[socks]->gdown<6.0.0,>=5.1.0->boxmot) (3.3.2)\n",
            "Requirement already satisfied: idna<4,>=2.5 in /usr/local/lib/python3.10/dist-packages (from requests[socks]->gdown<6.0.0,>=5.1.0->boxmot) (3.7)\n",
            "Requirement already satisfied: urllib3<3,>=1.21.1 in /usr/local/lib/python3.10/dist-packages (from requests[socks]->gdown<6.0.0,>=5.1.0->boxmot) (2.0.7)\n",
            "Requirement already satisfied: certifi>=2017.4.17 in /usr/local/lib/python3.10/dist-packages (from requests[socks]->gdown<6.0.0,>=5.1.0->boxmot) (2024.2.2)\n",
            "Requirement already satisfied: PySocks!=1.5.7,>=1.5.6 in /usr/local/lib/python3.10/dist-packages (from requests[socks]->gdown<6.0.0,>=5.1.0->boxmot) (1.7.1)\n",
            "Requirement already satisfied: mpmath>=0.19 in /usr/local/lib/python3.10/dist-packages (from sympy->torch<3.0.0,>=2.2.1->boxmot) (1.3.0)\n"
          ]
        },
        {
          "output_type": "stream",
          "name": "stderr",
          "text": [
            "\u001b[32m2024-05-10 16:36:29.291\u001b[0m | \u001b[1mINFO    \u001b[0m | \u001b[36mboxmot.utils.torch_utils\u001b[0m:\u001b[36mselect_device\u001b[0m:\u001b[36m52\u001b[0m - \u001b[1mYolo Tracking v10.1.67 🚀 Python-3.10.12 torch-2.2.1+cu121\n",
            "CUDA:0 (NVIDIA L4, 22700MiB)\u001b[0m\n",
            "Downloading...\n",
            "From: https://drive.google.com/uc?id=1sSwXSUlj4_tHZequ_iZ8w_Jh0VaRQMqF\n",
            "To: /content/osnet_x0_25_msmt17.pt\n",
            "100%|██████████| 3.06M/3.06M [00:00<00:00, 24.2MB/s]\n",
            "\u001b[32m2024-05-10 16:36:31.109\u001b[0m | \u001b[32m\u001b[1mSUCCESS \u001b[0m | \u001b[36mboxmot.appearance.reid_model_factory\u001b[0m:\u001b[36mload_pretrained_weights\u001b[0m:\u001b[36m207\u001b[0m - \u001b[32m\u001b[1mSuccessfully loaded pretrained weights from \"osnet_x0_25_msmt17.pt\"\u001b[0m\n"
          ]
        }
      ],
      "source": [
        "!pip install super-gradients\n",
        "from super_gradients.common.object_names import Models\n",
        "from super_gradients.training import models\n",
        "from super_gradients.training.utils.visualization.pose_estimation import draw_skeleton # draws skeletal graph given pose keypoints\n",
        "\n",
        "# yolo nas pose\n",
        "yolo_model = models.get(Models.YOLO_NAS_POSE_S, pretrained_weights=\"coco_pose\")\n",
        "\n",
        "yolo_model = yolo_model.to(\"cuda\")\n",
        "\n",
        "!pip install boxmot\n",
        "from boxmot import DeepOCSORT\n",
        "\n",
        "# deep oc-sort\n",
        "tracker = DeepOCSORT(\n",
        "    model_weights=Path('osnet_x0_25_msmt17.pt'), # which ReID model to use\n",
        "    device='cuda:0',\n",
        "    fp16=True,\n",
        "    det_thresh=0.2\n",
        ")\n",
        "\n",
        "# densenet\n",
        "with open('/content/drive/My Drive/densenet_model.json', 'r') as json_file:\n",
        "    json_savedModel= json_file.read()\n",
        "\n",
        "model_j = tf.keras.models.model_from_json(json_savedModel)\n",
        "model_j.load_weights('/content/drive/My Drive/densenet_weights.h5')\n",
        "\n",
        "def pred_func(X_test):\n",
        "  predictions = model_j.predict(X_test[0:1], verbose=0)\n",
        "  Y = np.argmax(predictions[0], axis=0)\n",
        "\n",
        "  return Y"
      ]
    },
    {
      "cell_type": "markdown",
      "source": [
        "## Run to demo the model\n",
        "\n",
        "Video files will be saved to google drive (make sure the folder exists)"
      ],
      "metadata": {
        "id": "J5jqGj8dkNo7"
      }
    },
    {
      "cell_type": "code",
      "execution_count": null,
      "metadata": {
        "colab": {
          "base_uri": "https://localhost:8080/"
        },
        "id": "b5bkwkARKHTW",
        "outputId": "2d072f5a-3682-4f2d-b8cc-a0d285dfab95"
      },
      "outputs": [
        {
          "output_type": "stream",
          "name": "stderr",
          "text": [
            "[2024-05-10 16:43:27] INFO - processing.py - Skipping processing `KeypointsLongestMaxSizeRescale` because it resizes the image.\n",
            "[2024-05-10 16:43:27] INFO - processing.py - Skipping processing `KeypointsBottomRightPadding` because it resizes the image.\n",
            "[2024-05-10 16:43:27] INFO - pipelines.py - Fusing some of the model's layers. If this takes too much memory, you can deactivate it by setting `fuse_model=False`\n",
            "[2024-05-10 16:43:28] INFO - processing.py - Skipping processing `KeypointsLongestMaxSizeRescale` because it resizes the image.\n",
            "[2024-05-10 16:43:28] INFO - processing.py - Skipping processing `KeypointsBottomRightPadding` because it resizes the image.\n",
            "[2024-05-10 16:43:28] INFO - pipelines.py - Fusing some of the model's layers. If this takes too much memory, you can deactivate it by setting `fuse_model=False`\n"
          ]
        },
        {
          "output_type": "stream",
          "name": "stdout",
          "text": [
            "Done. (0.156s)\n",
            "inf : (0.0264s/frame)   nms : (0.0013s/frame)\n"
          ]
        },
        {
          "output_type": "stream",
          "name": "stderr",
          "text": [
            "[2024-05-10 16:43:28] INFO - processing.py - Skipping processing `KeypointsLongestMaxSizeRescale` because it resizes the image.\n",
            "[2024-05-10 16:43:28] INFO - processing.py - Skipping processing `KeypointsBottomRightPadding` because it resizes the image.\n",
            "[2024-05-10 16:43:28] INFO - pipelines.py - Fusing some of the model's layers. If this takes too much memory, you can deactivate it by setting `fuse_model=False`\n"
          ]
        },
        {
          "output_type": "stream",
          "name": "stdout",
          "text": [
            "Done. (0.155s)\n",
            "inf : (0.0263s/frame)   nms : (0.0013s/frame)\n"
          ]
        },
        {
          "output_type": "stream",
          "name": "stderr",
          "text": [
            "[2024-05-10 16:43:28] INFO - processing.py - Skipping processing `KeypointsLongestMaxSizeRescale` because it resizes the image.\n",
            "[2024-05-10 16:43:28] INFO - processing.py - Skipping processing `KeypointsBottomRightPadding` because it resizes the image.\n",
            "[2024-05-10 16:43:29] INFO - pipelines.py - Fusing some of the model's layers. If this takes too much memory, you can deactivate it by setting `fuse_model=False`\n"
          ]
        },
        {
          "output_type": "stream",
          "name": "stdout",
          "text": [
            "Done. (0.155s)\n",
            "inf : (0.0260s/frame)   nms : (0.0013s/frame)\n"
          ]
        },
        {
          "output_type": "stream",
          "name": "stderr",
          "text": [
            "[2024-05-10 16:43:29] INFO - processing.py - Skipping processing `KeypointsLongestMaxSizeRescale` because it resizes the image.\n",
            "[2024-05-10 16:43:29] INFO - processing.py - Skipping processing `KeypointsBottomRightPadding` because it resizes the image.\n",
            "[2024-05-10 16:43:29] INFO - pipelines.py - Fusing some of the model's layers. If this takes too much memory, you can deactivate it by setting `fuse_model=False`\n"
          ]
        },
        {
          "output_type": "stream",
          "name": "stdout",
          "text": [
            "Done. (0.155s)\n",
            "inf : (0.0261s/frame)   nms : (0.0013s/frame)\n"
          ]
        },
        {
          "output_type": "stream",
          "name": "stderr",
          "text": [
            "[2024-05-10 16:43:29] INFO - processing.py - Skipping processing `KeypointsLongestMaxSizeRescale` because it resizes the image.\n",
            "[2024-05-10 16:43:29] INFO - processing.py - Skipping processing `KeypointsBottomRightPadding` because it resizes the image.\n",
            "[2024-05-10 16:43:30] INFO - pipelines.py - Fusing some of the model's layers. If this takes too much memory, you can deactivate it by setting `fuse_model=False`\n"
          ]
        },
        {
          "output_type": "stream",
          "name": "stdout",
          "text": [
            "Done. (0.157s)\n",
            "inf : (0.0265s/frame)   nms : (0.0013s/frame)\n"
          ]
        },
        {
          "output_type": "stream",
          "name": "stderr",
          "text": [
            "[2024-05-10 16:43:30] INFO - processing.py - Skipping processing `KeypointsLongestMaxSizeRescale` because it resizes the image.\n",
            "[2024-05-10 16:43:30] INFO - processing.py - Skipping processing `KeypointsBottomRightPadding` because it resizes the image.\n",
            "[2024-05-10 16:43:30] INFO - pipelines.py - Fusing some of the model's layers. If this takes too much memory, you can deactivate it by setting `fuse_model=False`\n"
          ]
        },
        {
          "output_type": "stream",
          "name": "stdout",
          "text": [
            "Done. (0.157s)\n",
            "inf : (0.0278s/frame)   nms : (0.0013s/frame)\n"
          ]
        },
        {
          "output_type": "stream",
          "name": "stderr",
          "text": [
            "[2024-05-10 16:43:31] INFO - processing.py - Skipping processing `KeypointsLongestMaxSizeRescale` because it resizes the image.\n",
            "[2024-05-10 16:43:31] INFO - processing.py - Skipping processing `KeypointsBottomRightPadding` because it resizes the image.\n",
            "[2024-05-10 16:43:31] INFO - pipelines.py - Fusing some of the model's layers. If this takes too much memory, you can deactivate it by setting `fuse_model=False`\n"
          ]
        },
        {
          "output_type": "stream",
          "name": "stdout",
          "text": [
            "Done. (0.154s)\n",
            "inf : (0.0270s/frame)   nms : (0.0012s/frame)\n"
          ]
        },
        {
          "output_type": "stream",
          "name": "stderr",
          "text": [
            "[2024-05-10 16:43:31] INFO - processing.py - Skipping processing `KeypointsLongestMaxSizeRescale` because it resizes the image.\n",
            "[2024-05-10 16:43:31] INFO - processing.py - Skipping processing `KeypointsBottomRightPadding` because it resizes the image.\n",
            "[2024-05-10 16:43:31] INFO - pipelines.py - Fusing some of the model's layers. If this takes too much memory, you can deactivate it by setting `fuse_model=False`\n"
          ]
        },
        {
          "output_type": "stream",
          "name": "stdout",
          "text": [
            "Done. (0.155s)\n",
            "inf : (0.0261s/frame)   nms : (0.0014s/frame)\n"
          ]
        },
        {
          "output_type": "stream",
          "name": "stderr",
          "text": [
            "[2024-05-10 16:43:32] INFO - processing.py - Skipping processing `KeypointsLongestMaxSizeRescale` because it resizes the image.\n",
            "[2024-05-10 16:43:32] INFO - processing.py - Skipping processing `KeypointsBottomRightPadding` because it resizes the image.\n",
            "[2024-05-10 16:43:32] INFO - pipelines.py - Fusing some of the model's layers. If this takes too much memory, you can deactivate it by setting `fuse_model=False`\n"
          ]
        },
        {
          "output_type": "stream",
          "name": "stdout",
          "text": [
            "Done. (0.169s)\n",
            "inf : (0.0337s/frame)   nms : (0.0017s/frame)\n"
          ]
        },
        {
          "output_type": "stream",
          "name": "stderr",
          "text": [
            "[2024-05-10 16:43:32] INFO - processing.py - Skipping processing `KeypointsLongestMaxSizeRescale` because it resizes the image.\n",
            "[2024-05-10 16:43:32] INFO - processing.py - Skipping processing `KeypointsBottomRightPadding` because it resizes the image.\n",
            "[2024-05-10 16:43:33] INFO - pipelines.py - Fusing some of the model's layers. If this takes too much memory, you can deactivate it by setting `fuse_model=False`\n"
          ]
        },
        {
          "output_type": "stream",
          "name": "stdout",
          "text": [
            "Done. (0.157s)\n",
            "inf : (0.0276s/frame)   nms : (0.0013s/frame)\n"
          ]
        },
        {
          "output_type": "stream",
          "name": "stderr",
          "text": [
            "[2024-05-10 16:43:33] INFO - processing.py - Skipping processing `KeypointsLongestMaxSizeRescale` because it resizes the image.\n",
            "[2024-05-10 16:43:33] INFO - processing.py - Skipping processing `KeypointsBottomRightPadding` because it resizes the image.\n",
            "[2024-05-10 16:43:33] INFO - pipelines.py - Fusing some of the model's layers. If this takes too much memory, you can deactivate it by setting `fuse_model=False`\n"
          ]
        },
        {
          "output_type": "stream",
          "name": "stdout",
          "text": [
            "Done. (0.158s)\n",
            "inf : (0.0280s/frame)   nms : (0.0013s/frame)\n"
          ]
        },
        {
          "output_type": "stream",
          "name": "stderr",
          "text": [
            "[2024-05-10 16:43:34] INFO - processing.py - Skipping processing `KeypointsLongestMaxSizeRescale` because it resizes the image.\n",
            "[2024-05-10 16:43:34] INFO - processing.py - Skipping processing `KeypointsBottomRightPadding` because it resizes the image.\n",
            "[2024-05-10 16:43:34] INFO - pipelines.py - Fusing some of the model's layers. If this takes too much memory, you can deactivate it by setting `fuse_model=False`\n"
          ]
        },
        {
          "output_type": "stream",
          "name": "stdout",
          "text": [
            "Done. (0.156s)\n",
            "inf : (0.0261s/frame)   nms : (0.0013s/frame)\n"
          ]
        },
        {
          "output_type": "stream",
          "name": "stderr",
          "text": [
            "[2024-05-10 16:43:34] INFO - processing.py - Skipping processing `KeypointsLongestMaxSizeRescale` because it resizes the image.\n",
            "[2024-05-10 16:43:34] INFO - processing.py - Skipping processing `KeypointsBottomRightPadding` because it resizes the image.\n",
            "[2024-05-10 16:43:34] INFO - pipelines.py - Fusing some of the model's layers. If this takes too much memory, you can deactivate it by setting `fuse_model=False`\n"
          ]
        },
        {
          "output_type": "stream",
          "name": "stdout",
          "text": [
            "Done. (0.157s)\n",
            "inf : (0.0272s/frame)   nms : (0.0014s/frame)\n"
          ]
        },
        {
          "output_type": "stream",
          "name": "stderr",
          "text": [
            "[2024-05-10 16:43:35] INFO - processing.py - Skipping processing `KeypointsLongestMaxSizeRescale` because it resizes the image.\n",
            "[2024-05-10 16:43:35] INFO - processing.py - Skipping processing `KeypointsBottomRightPadding` because it resizes the image.\n",
            "[2024-05-10 16:43:35] INFO - pipelines.py - Fusing some of the model's layers. If this takes too much memory, you can deactivate it by setting `fuse_model=False`\n"
          ]
        },
        {
          "output_type": "stream",
          "name": "stdout",
          "text": [
            "Done. (0.158s)\n",
            "inf : (0.0269s/frame)   nms : (0.0013s/frame)\n"
          ]
        },
        {
          "output_type": "stream",
          "name": "stderr",
          "text": [
            "[2024-05-10 16:43:35] INFO - processing.py - Skipping processing `KeypointsLongestMaxSizeRescale` because it resizes the image.\n",
            "[2024-05-10 16:43:35] INFO - processing.py - Skipping processing `KeypointsBottomRightPadding` because it resizes the image.\n",
            "[2024-05-10 16:43:35] INFO - pipelines.py - Fusing some of the model's layers. If this takes too much memory, you can deactivate it by setting `fuse_model=False`\n"
          ]
        },
        {
          "output_type": "stream",
          "name": "stdout",
          "text": [
            "Done. (0.155s)\n",
            "inf : (0.0259s/frame)   nms : (0.0012s/frame)\n"
          ]
        },
        {
          "output_type": "stream",
          "name": "stderr",
          "text": [
            "[2024-05-10 16:43:36] INFO - processing.py - Skipping processing `KeypointsLongestMaxSizeRescale` because it resizes the image.\n",
            "[2024-05-10 16:43:36] INFO - processing.py - Skipping processing `KeypointsBottomRightPadding` because it resizes the image.\n",
            "[2024-05-10 16:43:36] INFO - pipelines.py - Fusing some of the model's layers. If this takes too much memory, you can deactivate it by setting `fuse_model=False`\n"
          ]
        },
        {
          "output_type": "stream",
          "name": "stdout",
          "text": [
            "Done. (0.155s)\n",
            "inf : (0.0255s/frame)   nms : (0.0012s/frame)\n"
          ]
        },
        {
          "output_type": "stream",
          "name": "stderr",
          "text": [
            "[2024-05-10 16:43:36] INFO - processing.py - Skipping processing `KeypointsLongestMaxSizeRescale` because it resizes the image.\n",
            "[2024-05-10 16:43:36] INFO - processing.py - Skipping processing `KeypointsBottomRightPadding` because it resizes the image.\n",
            "[2024-05-10 16:43:36] INFO - pipelines.py - Fusing some of the model's layers. If this takes too much memory, you can deactivate it by setting `fuse_model=False`\n"
          ]
        },
        {
          "output_type": "stream",
          "name": "stdout",
          "text": [
            "Done. (0.156s)\n",
            "inf : (0.0270s/frame)   nms : (0.0013s/frame)\n"
          ]
        },
        {
          "output_type": "stream",
          "name": "stderr",
          "text": [
            "[2024-05-10 16:43:37] INFO - processing.py - Skipping processing `KeypointsLongestMaxSizeRescale` because it resizes the image.\n",
            "[2024-05-10 16:43:37] INFO - processing.py - Skipping processing `KeypointsBottomRightPadding` because it resizes the image.\n",
            "[2024-05-10 16:43:37] INFO - pipelines.py - Fusing some of the model's layers. If this takes too much memory, you can deactivate it by setting `fuse_model=False`\n"
          ]
        },
        {
          "output_type": "stream",
          "name": "stdout",
          "text": [
            "Done. (0.158s)\n",
            "inf : (0.0266s/frame)   nms : (0.0013s/frame)\n"
          ]
        },
        {
          "output_type": "stream",
          "name": "stderr",
          "text": [
            "[2024-05-10 16:43:37] INFO - processing.py - Skipping processing `KeypointsLongestMaxSizeRescale` because it resizes the image.\n",
            "[2024-05-10 16:43:37] INFO - processing.py - Skipping processing `KeypointsBottomRightPadding` because it resizes the image.\n",
            "[2024-05-10 16:43:37] INFO - pipelines.py - Fusing some of the model's layers. If this takes too much memory, you can deactivate it by setting `fuse_model=False`\n"
          ]
        },
        {
          "output_type": "stream",
          "name": "stdout",
          "text": [
            "Done. (0.156s)\n",
            "inf : (0.0266s/frame)   nms : (0.0013s/frame)\n"
          ]
        },
        {
          "output_type": "stream",
          "name": "stderr",
          "text": [
            "[2024-05-10 16:43:38] INFO - processing.py - Skipping processing `KeypointsLongestMaxSizeRescale` because it resizes the image.\n",
            "[2024-05-10 16:43:38] INFO - processing.py - Skipping processing `KeypointsBottomRightPadding` because it resizes the image.\n",
            "[2024-05-10 16:43:38] INFO - pipelines.py - Fusing some of the model's layers. If this takes too much memory, you can deactivate it by setting `fuse_model=False`\n"
          ]
        },
        {
          "output_type": "stream",
          "name": "stdout",
          "text": [
            "Done. (0.158s)\n",
            "inf : (0.0274s/frame)   nms : (0.0013s/frame)\n"
          ]
        },
        {
          "output_type": "stream",
          "name": "stderr",
          "text": [
            "[2024-05-10 16:43:38] INFO - processing.py - Skipping processing `KeypointsLongestMaxSizeRescale` because it resizes the image.\n",
            "[2024-05-10 16:43:38] INFO - processing.py - Skipping processing `KeypointsBottomRightPadding` because it resizes the image.\n",
            "[2024-05-10 16:43:38] INFO - pipelines.py - Fusing some of the model's layers. If this takes too much memory, you can deactivate it by setting `fuse_model=False`\n"
          ]
        },
        {
          "output_type": "stream",
          "name": "stdout",
          "text": [
            "Done. (0.154s)\n",
            "inf : (0.0263s/frame)   nms : (0.0012s/frame)\n"
          ]
        },
        {
          "output_type": "stream",
          "name": "stderr",
          "text": [
            "[2024-05-10 16:43:39] INFO - processing.py - Skipping processing `KeypointsLongestMaxSizeRescale` because it resizes the image.\n",
            "[2024-05-10 16:43:39] INFO - processing.py - Skipping processing `KeypointsBottomRightPadding` because it resizes the image.\n",
            "[2024-05-10 16:43:39] INFO - pipelines.py - Fusing some of the model's layers. If this takes too much memory, you can deactivate it by setting `fuse_model=False`\n"
          ]
        },
        {
          "output_type": "stream",
          "name": "stdout",
          "text": [
            "Done. (0.152s)\n",
            "inf : (0.0267s/frame)   nms : (0.0013s/frame)\n"
          ]
        },
        {
          "output_type": "stream",
          "name": "stderr",
          "text": [
            "[2024-05-10 16:43:39] INFO - processing.py - Skipping processing `KeypointsLongestMaxSizeRescale` because it resizes the image.\n",
            "[2024-05-10 16:43:39] INFO - processing.py - Skipping processing `KeypointsBottomRightPadding` because it resizes the image.\n",
            "[2024-05-10 16:43:39] INFO - pipelines.py - Fusing some of the model's layers. If this takes too much memory, you can deactivate it by setting `fuse_model=False`\n"
          ]
        },
        {
          "output_type": "stream",
          "name": "stdout",
          "text": [
            "Done. (0.150s)\n",
            "inf : (0.0262s/frame)   nms : (0.0013s/frame)\n"
          ]
        },
        {
          "output_type": "stream",
          "name": "stderr",
          "text": [
            "[2024-05-10 16:43:40] INFO - processing.py - Skipping processing `KeypointsLongestMaxSizeRescale` because it resizes the image.\n",
            "[2024-05-10 16:43:40] INFO - processing.py - Skipping processing `KeypointsBottomRightPadding` because it resizes the image.\n",
            "[2024-05-10 16:43:40] INFO - pipelines.py - Fusing some of the model's layers. If this takes too much memory, you can deactivate it by setting `fuse_model=False`\n"
          ]
        },
        {
          "output_type": "stream",
          "name": "stdout",
          "text": [
            "Done. (0.152s)\n",
            "inf : (0.0269s/frame)   nms : (0.0013s/frame)\n"
          ]
        },
        {
          "output_type": "stream",
          "name": "stderr",
          "text": [
            "[2024-05-10 16:43:41] INFO - processing.py - Skipping processing `KeypointsLongestMaxSizeRescale` because it resizes the image.\n",
            "[2024-05-10 16:43:41] INFO - processing.py - Skipping processing `KeypointsBottomRightPadding` because it resizes the image.\n"
          ]
        },
        {
          "output_type": "stream",
          "name": "stdout",
          "text": [
            "Done. (0.150s)\n",
            "inf : (0.0264s/frame)   nms : (0.0013s/frame)\n"
          ]
        },
        {
          "output_type": "stream",
          "name": "stderr",
          "text": [
            "[2024-05-10 16:43:41] INFO - pipelines.py - Fusing some of the model's layers. If this takes too much memory, you can deactivate it by setting `fuse_model=False`\n",
            "[2024-05-10 16:43:41] INFO - processing.py - Skipping processing `KeypointsLongestMaxSizeRescale` because it resizes the image.\n",
            "[2024-05-10 16:43:41] INFO - processing.py - Skipping processing `KeypointsBottomRightPadding` because it resizes the image.\n"
          ]
        },
        {
          "output_type": "stream",
          "name": "stdout",
          "text": [
            "Done. (0.149s)\n",
            "inf : (0.0262s/frame)   nms : (0.0013s/frame)\n"
          ]
        },
        {
          "output_type": "stream",
          "name": "stderr",
          "text": [
            "[2024-05-10 16:43:41] INFO - pipelines.py - Fusing some of the model's layers. If this takes too much memory, you can deactivate it by setting `fuse_model=False`\n"
          ]
        },
        {
          "output_type": "stream",
          "name": "stdout",
          "text": [
            "Done. (0.150s)\n",
            "inf : (0.0267s/frame)   nms : (0.0013s/frame)\n"
          ]
        },
        {
          "output_type": "stream",
          "name": "stderr",
          "text": [
            "[2024-05-10 16:43:42] INFO - processing.py - Skipping processing `KeypointsLongestMaxSizeRescale` because it resizes the image.\n",
            "[2024-05-10 16:43:42] INFO - processing.py - Skipping processing `KeypointsBottomRightPadding` because it resizes the image.\n",
            "[2024-05-10 16:43:42] INFO - pipelines.py - Fusing some of the model's layers. If this takes too much memory, you can deactivate it by setting `fuse_model=False`\n"
          ]
        },
        {
          "output_type": "stream",
          "name": "stdout",
          "text": [
            "Done. (0.151s)\n",
            "inf : (0.0269s/frame)   nms : (0.0013s/frame)\n"
          ]
        },
        {
          "output_type": "stream",
          "name": "stderr",
          "text": [
            "[2024-05-10 16:43:43] INFO - processing.py - Skipping processing `KeypointsLongestMaxSizeRescale` because it resizes the image.\n",
            "[2024-05-10 16:43:43] INFO - processing.py - Skipping processing `KeypointsBottomRightPadding` because it resizes the image.\n",
            "[2024-05-10 16:43:43] INFO - pipelines.py - Fusing some of the model's layers. If this takes too much memory, you can deactivate it by setting `fuse_model=False`\n",
            "[2024-05-10 16:43:43] INFO - processing.py - Skipping processing `KeypointsLongestMaxSizeRescale` because it resizes the image.\n"
          ]
        },
        {
          "output_type": "stream",
          "name": "stdout",
          "text": [
            "Done. (0.151s)\n",
            "inf : (0.0274s/frame)   nms : (0.0013s/frame)\n"
          ]
        },
        {
          "output_type": "stream",
          "name": "stderr",
          "text": [
            "[2024-05-10 16:43:43] INFO - processing.py - Skipping processing `KeypointsBottomRightPadding` because it resizes the image.\n",
            "[2024-05-10 16:43:43] INFO - pipelines.py - Fusing some of the model's layers. If this takes too much memory, you can deactivate it by setting `fuse_model=False`\n"
          ]
        },
        {
          "output_type": "stream",
          "name": "stdout",
          "text": [
            "Done. (0.149s)\n",
            "inf : (0.0261s/frame)   nms : (0.0013s/frame)\n"
          ]
        },
        {
          "output_type": "stream",
          "name": "stderr",
          "text": [
            "[2024-05-10 16:43:44] INFO - processing.py - Skipping processing `KeypointsLongestMaxSizeRescale` because it resizes the image.\n",
            "[2024-05-10 16:43:44] INFO - processing.py - Skipping processing `KeypointsBottomRightPadding` because it resizes the image.\n",
            "[2024-05-10 16:43:44] INFO - pipelines.py - Fusing some of the model's layers. If this takes too much memory, you can deactivate it by setting `fuse_model=False`\n",
            "[2024-05-10 16:43:44] INFO - processing.py - Skipping processing `KeypointsLongestMaxSizeRescale` because it resizes the image.\n",
            "[2024-05-10 16:43:44] INFO - processing.py - Skipping processing `KeypointsBottomRightPadding` because it resizes the image.\n"
          ]
        },
        {
          "output_type": "stream",
          "name": "stdout",
          "text": [
            "Done. (0.151s)\n",
            "inf : (0.0265s/frame)   nms : (0.0013s/frame)\n"
          ]
        },
        {
          "output_type": "stream",
          "name": "stderr",
          "text": [
            "[2024-05-10 16:43:45] INFO - pipelines.py - Fusing some of the model's layers. If this takes too much memory, you can deactivate it by setting `fuse_model=False`\n",
            "[2024-05-10 16:43:45] INFO - processing.py - Skipping processing `KeypointsLongestMaxSizeRescale` because it resizes the image.\n",
            "[2024-05-10 16:43:45] INFO - processing.py - Skipping processing `KeypointsBottomRightPadding` because it resizes the image.\n"
          ]
        },
        {
          "output_type": "stream",
          "name": "stdout",
          "text": [
            "Done. (0.150s)\n",
            "inf : (0.0272s/frame)   nms : (0.0013s/frame)\n"
          ]
        },
        {
          "output_type": "stream",
          "name": "stderr",
          "text": [
            "[2024-05-10 16:43:45] INFO - pipelines.py - Fusing some of the model's layers. If this takes too much memory, you can deactivate it by setting `fuse_model=False`\n",
            "[2024-05-10 16:43:46] INFO - processing.py - Skipping processing `KeypointsLongestMaxSizeRescale` because it resizes the image.\n",
            "[2024-05-10 16:43:46] INFO - processing.py - Skipping processing `KeypointsBottomRightPadding` because it resizes the image.\n",
            "[2024-05-10 16:43:46] INFO - pipelines.py - Fusing some of the model's layers. If this takes too much memory, you can deactivate it by setting `fuse_model=False`\n"
          ]
        },
        {
          "output_type": "stream",
          "name": "stdout",
          "text": [
            "Done. (0.152s)\n",
            "inf : (0.0261s/frame)   nms : (0.0013s/frame)\n"
          ]
        },
        {
          "output_type": "stream",
          "name": "stderr",
          "text": [
            "[2024-05-10 16:43:46] INFO - processing.py - Skipping processing `KeypointsLongestMaxSizeRescale` because it resizes the image.\n",
            "[2024-05-10 16:43:46] INFO - processing.py - Skipping processing `KeypointsBottomRightPadding` because it resizes the image.\n",
            "[2024-05-10 16:43:46] INFO - pipelines.py - Fusing some of the model's layers. If this takes too much memory, you can deactivate it by setting `fuse_model=False`\n"
          ]
        },
        {
          "output_type": "stream",
          "name": "stdout",
          "text": [
            "Done. (0.152s)\n",
            "inf : (0.0268s/frame)   nms : (0.0013s/frame)\n"
          ]
        },
        {
          "output_type": "stream",
          "name": "stderr",
          "text": [
            "[2024-05-10 16:43:47] INFO - processing.py - Skipping processing `KeypointsLongestMaxSizeRescale` because it resizes the image.\n",
            "[2024-05-10 16:43:47] INFO - processing.py - Skipping processing `KeypointsBottomRightPadding` because it resizes the image.\n",
            "[2024-05-10 16:43:47] INFO - pipelines.py - Fusing some of the model's layers. If this takes too much memory, you can deactivate it by setting `fuse_model=False`\n"
          ]
        },
        {
          "output_type": "stream",
          "name": "stdout",
          "text": [
            "Done. (0.154s)\n",
            "inf : (0.0275s/frame)   nms : (0.0014s/frame)\n"
          ]
        },
        {
          "output_type": "stream",
          "name": "stderr",
          "text": [
            "[2024-05-10 16:43:47] INFO - processing.py - Skipping processing `KeypointsLongestMaxSizeRescale` because it resizes the image.\n",
            "[2024-05-10 16:43:47] INFO - processing.py - Skipping processing `KeypointsBottomRightPadding` because it resizes the image.\n",
            "[2024-05-10 16:43:47] INFO - pipelines.py - Fusing some of the model's layers. If this takes too much memory, you can deactivate it by setting `fuse_model=False`\n"
          ]
        },
        {
          "output_type": "stream",
          "name": "stdout",
          "text": [
            "Done. (0.152s)\n",
            "inf : (0.0270s/frame)   nms : (0.0013s/frame)\n"
          ]
        },
        {
          "output_type": "stream",
          "name": "stderr",
          "text": [
            "[2024-05-10 16:43:48] INFO - processing.py - Skipping processing `KeypointsLongestMaxSizeRescale` because it resizes the image.\n",
            "[2024-05-10 16:43:48] INFO - processing.py - Skipping processing `KeypointsBottomRightPadding` because it resizes the image.\n",
            "[2024-05-10 16:43:48] INFO - pipelines.py - Fusing some of the model's layers. If this takes too much memory, you can deactivate it by setting `fuse_model=False`\n"
          ]
        },
        {
          "output_type": "stream",
          "name": "stdout",
          "text": [
            "Done. (0.152s)\n",
            "inf : (0.0259s/frame)   nms : (0.0013s/frame)\n"
          ]
        },
        {
          "output_type": "stream",
          "name": "stderr",
          "text": [
            "[2024-05-10 16:43:48] INFO - processing.py - Skipping processing `KeypointsLongestMaxSizeRescale` because it resizes the image.\n",
            "[2024-05-10 16:43:48] INFO - processing.py - Skipping processing `KeypointsBottomRightPadding` because it resizes the image.\n",
            "[2024-05-10 16:43:48] INFO - pipelines.py - Fusing some of the model's layers. If this takes too much memory, you can deactivate it by setting `fuse_model=False`\n"
          ]
        },
        {
          "output_type": "stream",
          "name": "stdout",
          "text": [
            "Done. (0.151s)\n",
            "inf : (0.0260s/frame)   nms : (0.0013s/frame)\n"
          ]
        },
        {
          "output_type": "stream",
          "name": "stderr",
          "text": [
            "[2024-05-10 16:43:49] INFO - processing.py - Skipping processing `KeypointsLongestMaxSizeRescale` because it resizes the image.\n",
            "[2024-05-10 16:43:49] INFO - processing.py - Skipping processing `KeypointsBottomRightPadding` because it resizes the image.\n"
          ]
        },
        {
          "output_type": "stream",
          "name": "stdout",
          "text": [
            "Done. (0.153s)\n",
            "inf : (0.0260s/frame)   nms : (0.0013s/frame)\n"
          ]
        },
        {
          "output_type": "stream",
          "name": "stderr",
          "text": [
            "[2024-05-10 16:43:49] INFO - pipelines.py - Fusing some of the model's layers. If this takes too much memory, you can deactivate it by setting `fuse_model=False`\n"
          ]
        },
        {
          "output_type": "stream",
          "name": "stdout",
          "text": [
            "Done. (0.155s)\n",
            "inf : (0.0272s/frame)   nms : (0.0013s/frame)\n"
          ]
        },
        {
          "output_type": "stream",
          "name": "stderr",
          "text": [
            "[2024-05-10 16:43:50] INFO - processing.py - Skipping processing `KeypointsLongestMaxSizeRescale` because it resizes the image.\n",
            "[2024-05-10 16:43:50] INFO - processing.py - Skipping processing `KeypointsBottomRightPadding` because it resizes the image.\n",
            "[2024-05-10 16:43:50] INFO - pipelines.py - Fusing some of the model's layers. If this takes too much memory, you can deactivate it by setting `fuse_model=False`\n",
            "[2024-05-10 16:43:51] INFO - processing.py - Skipping processing `KeypointsLongestMaxSizeRescale` because it resizes the image.\n",
            "[2024-05-10 16:43:51] INFO - processing.py - Skipping processing `KeypointsBottomRightPadding` because it resizes the image.\n"
          ]
        },
        {
          "output_type": "stream",
          "name": "stdout",
          "text": [
            "Done. (0.151s)\n",
            "inf : (0.0265s/frame)   nms : (0.0013s/frame)\n"
          ]
        },
        {
          "output_type": "stream",
          "name": "stderr",
          "text": [
            "[2024-05-10 16:43:51] INFO - pipelines.py - Fusing some of the model's layers. If this takes too much memory, you can deactivate it by setting `fuse_model=False`\n",
            "[2024-05-10 16:43:51] INFO - processing.py - Skipping processing `KeypointsLongestMaxSizeRescale` because it resizes the image.\n",
            "[2024-05-10 16:43:51] INFO - processing.py - Skipping processing `KeypointsBottomRightPadding` because it resizes the image.\n"
          ]
        },
        {
          "output_type": "stream",
          "name": "stdout",
          "text": [
            "Done. (0.152s)\n",
            "inf : (0.0261s/frame)   nms : (0.0013s/frame)\n"
          ]
        },
        {
          "output_type": "stream",
          "name": "stderr",
          "text": [
            "[2024-05-10 16:43:51] INFO - pipelines.py - Fusing some of the model's layers. If this takes too much memory, you can deactivate it by setting `fuse_model=False`\n",
            "[2024-05-10 16:43:52] INFO - processing.py - Skipping processing `KeypointsLongestMaxSizeRescale` because it resizes the image.\n",
            "[2024-05-10 16:43:52] INFO - processing.py - Skipping processing `KeypointsBottomRightPadding` because it resizes the image.\n"
          ]
        },
        {
          "output_type": "stream",
          "name": "stdout",
          "text": [
            "Done. (0.150s)\n",
            "inf : (0.0261s/frame)   nms : (0.0013s/frame)\n"
          ]
        },
        {
          "output_type": "stream",
          "name": "stderr",
          "text": [
            "[2024-05-10 16:43:52] INFO - pipelines.py - Fusing some of the model's layers. If this takes too much memory, you can deactivate it by setting `fuse_model=False`\n",
            "[2024-05-10 16:43:52] INFO - processing.py - Skipping processing `KeypointsLongestMaxSizeRescale` because it resizes the image.\n",
            "[2024-05-10 16:43:52] INFO - processing.py - Skipping processing `KeypointsBottomRightPadding` because it resizes the image.\n"
          ]
        },
        {
          "output_type": "stream",
          "name": "stdout",
          "text": [
            "Done. (0.150s)\n",
            "inf : (0.0260s/frame)   nms : (0.0013s/frame)\n"
          ]
        },
        {
          "output_type": "stream",
          "name": "stderr",
          "text": [
            "[2024-05-10 16:43:52] INFO - pipelines.py - Fusing some of the model's layers. If this takes too much memory, you can deactivate it by setting `fuse_model=False`\n",
            "[2024-05-10 16:43:53] INFO - processing.py - Skipping processing `KeypointsLongestMaxSizeRescale` because it resizes the image.\n",
            "[2024-05-10 16:43:53] INFO - processing.py - Skipping processing `KeypointsBottomRightPadding` because it resizes the image.\n",
            "[2024-05-10 16:43:53] INFO - pipelines.py - Fusing some of the model's layers. If this takes too much memory, you can deactivate it by setting `fuse_model=False`\n"
          ]
        },
        {
          "output_type": "stream",
          "name": "stdout",
          "text": [
            "Done. (0.150s)\n",
            "inf : (0.0262s/frame)   nms : (0.0013s/frame)\n"
          ]
        },
        {
          "output_type": "stream",
          "name": "stderr",
          "text": [
            "[2024-05-10 16:43:53] INFO - processing.py - Skipping processing `KeypointsLongestMaxSizeRescale` because it resizes the image.\n",
            "[2024-05-10 16:43:53] INFO - processing.py - Skipping processing `KeypointsBottomRightPadding` because it resizes the image.\n",
            "[2024-05-10 16:43:54] INFO - pipelines.py - Fusing some of the model's layers. If this takes too much memory, you can deactivate it by setting `fuse_model=False`\n"
          ]
        },
        {
          "output_type": "stream",
          "name": "stdout",
          "text": [
            "Done. (0.152s)\n",
            "inf : (0.0265s/frame)   nms : (0.0013s/frame)\n"
          ]
        },
        {
          "output_type": "stream",
          "name": "stderr",
          "text": [
            "[2024-05-10 16:43:54] INFO - processing.py - Skipping processing `KeypointsLongestMaxSizeRescale` because it resizes the image.\n",
            "[2024-05-10 16:43:54] INFO - processing.py - Skipping processing `KeypointsBottomRightPadding` because it resizes the image.\n",
            "[2024-05-10 16:43:54] INFO - pipelines.py - Fusing some of the model's layers. If this takes too much memory, you can deactivate it by setting `fuse_model=False`\n"
          ]
        },
        {
          "output_type": "stream",
          "name": "stdout",
          "text": [
            "Done. (0.148s)\n",
            "inf : (0.0259s/frame)   nms : (0.0013s/frame)\n"
          ]
        },
        {
          "output_type": "stream",
          "name": "stderr",
          "text": [
            "[2024-05-10 16:43:55] INFO - processing.py - Skipping processing `KeypointsLongestMaxSizeRescale` because it resizes the image.\n"
          ]
        },
        {
          "output_type": "stream",
          "name": "stdout",
          "text": [
            "Done. (0.150s)\n",
            "inf : (0.0267s/frame)   nms : (0.0012s/frame)\n"
          ]
        },
        {
          "output_type": "stream",
          "name": "stderr",
          "text": [
            "[2024-05-10 16:43:55] INFO - processing.py - Skipping processing `KeypointsBottomRightPadding` because it resizes the image.\n",
            "[2024-05-10 16:43:55] INFO - pipelines.py - Fusing some of the model's layers. If this takes too much memory, you can deactivate it by setting `fuse_model=False`\n"
          ]
        },
        {
          "output_type": "stream",
          "name": "stdout",
          "text": [
            "Done. (0.148s)\n",
            "inf : (0.0258s/frame)   nms : (0.0013s/frame)\n"
          ]
        },
        {
          "output_type": "stream",
          "name": "stderr",
          "text": [
            "[2024-05-10 16:43:55] INFO - processing.py - Skipping processing `KeypointsLongestMaxSizeRescale` because it resizes the image.\n",
            "[2024-05-10 16:43:55] INFO - processing.py - Skipping processing `KeypointsBottomRightPadding` because it resizes the image.\n",
            "[2024-05-10 16:43:55] INFO - pipelines.py - Fusing some of the model's layers. If this takes too much memory, you can deactivate it by setting `fuse_model=False`\n",
            "[2024-05-10 16:43:56] INFO - processing.py - Skipping processing `KeypointsLongestMaxSizeRescale` because it resizes the image.\n"
          ]
        },
        {
          "output_type": "stream",
          "name": "stdout",
          "text": [
            "Done. (0.148s)\n",
            "inf : (0.0262s/frame)   nms : (0.0013s/frame)\n"
          ]
        },
        {
          "output_type": "stream",
          "name": "stderr",
          "text": [
            "[2024-05-10 16:43:56] INFO - processing.py - Skipping processing `KeypointsBottomRightPadding` because it resizes the image.\n",
            "[2024-05-10 16:43:56] INFO - pipelines.py - Fusing some of the model's layers. If this takes too much memory, you can deactivate it by setting `fuse_model=False`\n",
            "[2024-05-10 16:43:57] INFO - processing.py - Skipping processing `KeypointsLongestMaxSizeRescale` because it resizes the image.\n",
            "[2024-05-10 16:43:57] INFO - processing.py - Skipping processing `KeypointsBottomRightPadding` because it resizes the image.\n"
          ]
        },
        {
          "output_type": "stream",
          "name": "stdout",
          "text": [
            "Done. (0.149s)\n",
            "inf : (0.0261s/frame)   nms : (0.0013s/frame)\n"
          ]
        },
        {
          "output_type": "stream",
          "name": "stderr",
          "text": [
            "[2024-05-10 16:43:57] INFO - pipelines.py - Fusing some of the model's layers. If this takes too much memory, you can deactivate it by setting `fuse_model=False`\n"
          ]
        },
        {
          "output_type": "stream",
          "name": "stdout",
          "text": [
            "Done. (0.155s)\n",
            "inf : (0.0333s/frame)   nms : (0.0013s/frame)\n"
          ]
        },
        {
          "output_type": "stream",
          "name": "stderr",
          "text": [
            "[2024-05-10 16:43:57] INFO - processing.py - Skipping processing `KeypointsLongestMaxSizeRescale` because it resizes the image.\n",
            "[2024-05-10 16:43:57] INFO - processing.py - Skipping processing `KeypointsBottomRightPadding` because it resizes the image.\n",
            "[2024-05-10 16:43:57] INFO - pipelines.py - Fusing some of the model's layers. If this takes too much memory, you can deactivate it by setting `fuse_model=False`\n"
          ]
        },
        {
          "output_type": "stream",
          "name": "stdout",
          "text": [
            "Done. (0.154s)\n",
            "inf : (0.0292s/frame)   nms : (0.0014s/frame)\n"
          ]
        },
        {
          "output_type": "stream",
          "name": "stderr",
          "text": [
            "[2024-05-10 16:43:58] INFO - processing.py - Skipping processing `KeypointsLongestMaxSizeRescale` because it resizes the image.\n",
            "[2024-05-10 16:43:58] INFO - processing.py - Skipping processing `KeypointsBottomRightPadding` because it resizes the image.\n",
            "[2024-05-10 16:43:58] INFO - pipelines.py - Fusing some of the model's layers. If this takes too much memory, you can deactivate it by setting `fuse_model=False`\n"
          ]
        },
        {
          "output_type": "stream",
          "name": "stdout",
          "text": [
            "Done. (0.156s)\n",
            "inf : (0.0344s/frame)   nms : (0.0016s/frame)\n"
          ]
        },
        {
          "output_type": "stream",
          "name": "stderr",
          "text": [
            "[2024-05-10 16:43:59] INFO - processing.py - Skipping processing `KeypointsLongestMaxSizeRescale` because it resizes the image.\n",
            "[2024-05-10 16:43:59] INFO - processing.py - Skipping processing `KeypointsBottomRightPadding` because it resizes the image.\n",
            "[2024-05-10 16:43:59] INFO - pipelines.py - Fusing some of the model's layers. If this takes too much memory, you can deactivate it by setting `fuse_model=False`\n"
          ]
        },
        {
          "output_type": "stream",
          "name": "stdout",
          "text": [
            "Done. (0.148s)\n",
            "inf : (0.0269s/frame)   nms : (0.0013s/frame)\n"
          ]
        },
        {
          "output_type": "stream",
          "name": "stderr",
          "text": [
            "[2024-05-10 16:43:59] INFO - processing.py - Skipping processing `KeypointsLongestMaxSizeRescale` because it resizes the image.\n",
            "[2024-05-10 16:43:59] INFO - processing.py - Skipping processing `KeypointsBottomRightPadding` because it resizes the image.\n",
            "[2024-05-10 16:43:59] INFO - pipelines.py - Fusing some of the model's layers. If this takes too much memory, you can deactivate it by setting `fuse_model=False`\n"
          ]
        },
        {
          "output_type": "stream",
          "name": "stdout",
          "text": [
            "Done. (0.149s)\n",
            "inf : (0.0265s/frame)   nms : (0.0013s/frame)\n"
          ]
        },
        {
          "output_type": "stream",
          "name": "stderr",
          "text": [
            "[2024-05-10 16:44:00] INFO - processing.py - Skipping processing `KeypointsLongestMaxSizeRescale` because it resizes the image.\n",
            "[2024-05-10 16:44:00] INFO - processing.py - Skipping processing `KeypointsBottomRightPadding` because it resizes the image.\n",
            "[2024-05-10 16:44:00] INFO - pipelines.py - Fusing some of the model's layers. If this takes too much memory, you can deactivate it by setting `fuse_model=False`\n"
          ]
        },
        {
          "output_type": "stream",
          "name": "stdout",
          "text": [
            "Done. (0.150s)\n",
            "inf : (0.0264s/frame)   nms : (0.0013s/frame)\n"
          ]
        },
        {
          "output_type": "stream",
          "name": "stderr",
          "text": [
            "[2024-05-10 16:44:01] INFO - processing.py - Skipping processing `KeypointsLongestMaxSizeRescale` because it resizes the image.\n",
            "[2024-05-10 16:44:01] INFO - processing.py - Skipping processing `KeypointsBottomRightPadding` because it resizes the image.\n",
            "[2024-05-10 16:44:01] INFO - pipelines.py - Fusing some of the model's layers. If this takes too much memory, you can deactivate it by setting `fuse_model=False`\n"
          ]
        },
        {
          "output_type": "stream",
          "name": "stdout",
          "text": [
            "Done. (0.150s)\n",
            "inf : (0.0279s/frame)   nms : (0.0013s/frame)\n"
          ]
        },
        {
          "output_type": "stream",
          "name": "stderr",
          "text": [
            "[2024-05-10 16:44:02] INFO - processing.py - Skipping processing `KeypointsLongestMaxSizeRescale` because it resizes the image.\n",
            "[2024-05-10 16:44:02] INFO - processing.py - Skipping processing `KeypointsBottomRightPadding` because it resizes the image.\n",
            "[2024-05-10 16:44:02] INFO - pipelines.py - Fusing some of the model's layers. If this takes too much memory, you can deactivate it by setting `fuse_model=False`\n"
          ]
        },
        {
          "output_type": "stream",
          "name": "stdout",
          "text": [
            "Done. (0.151s)\n",
            "inf : (0.0268s/frame)   nms : (0.0013s/frame)\n"
          ]
        },
        {
          "output_type": "stream",
          "name": "stderr",
          "text": [
            "[2024-05-10 16:44:02] INFO - processing.py - Skipping processing `KeypointsLongestMaxSizeRescale` because it resizes the image.\n",
            "[2024-05-10 16:44:02] INFO - processing.py - Skipping processing `KeypointsBottomRightPadding` because it resizes the image.\n",
            "[2024-05-10 16:44:02] INFO - pipelines.py - Fusing some of the model's layers. If this takes too much memory, you can deactivate it by setting `fuse_model=False`\n"
          ]
        },
        {
          "output_type": "stream",
          "name": "stdout",
          "text": [
            "Done. (0.148s)\n",
            "inf : (0.0264s/frame)   nms : (0.0013s/frame)\n"
          ]
        },
        {
          "output_type": "stream",
          "name": "stderr",
          "text": [
            "[2024-05-10 16:44:03] INFO - processing.py - Skipping processing `KeypointsLongestMaxSizeRescale` because it resizes the image.\n",
            "[2024-05-10 16:44:03] INFO - processing.py - Skipping processing `KeypointsBottomRightPadding` because it resizes the image.\n",
            "[2024-05-10 16:44:03] INFO - pipelines.py - Fusing some of the model's layers. If this takes too much memory, you can deactivate it by setting `fuse_model=False`\n"
          ]
        },
        {
          "output_type": "stream",
          "name": "stdout",
          "text": [
            "Done. (0.149s)\n",
            "inf : (0.0265s/frame)   nms : (0.0013s/frame)\n"
          ]
        },
        {
          "output_type": "stream",
          "name": "stderr",
          "text": [
            "[2024-05-10 16:44:04] INFO - processing.py - Skipping processing `KeypointsLongestMaxSizeRescale` because it resizes the image.\n",
            "[2024-05-10 16:44:04] INFO - processing.py - Skipping processing `KeypointsBottomRightPadding` because it resizes the image.\n",
            "[2024-05-10 16:44:04] INFO - pipelines.py - Fusing some of the model's layers. If this takes too much memory, you can deactivate it by setting `fuse_model=False`\n"
          ]
        },
        {
          "output_type": "stream",
          "name": "stdout",
          "text": [
            "Done. (0.151s)\n",
            "inf : (0.0265s/frame)   nms : (0.0013s/frame)\n"
          ]
        },
        {
          "output_type": "stream",
          "name": "stderr",
          "text": [
            "[2024-05-10 16:44:04] INFO - processing.py - Skipping processing `KeypointsLongestMaxSizeRescale` because it resizes the image.\n",
            "[2024-05-10 16:44:04] INFO - processing.py - Skipping processing `KeypointsBottomRightPadding` because it resizes the image.\n",
            "[2024-05-10 16:44:04] INFO - pipelines.py - Fusing some of the model's layers. If this takes too much memory, you can deactivate it by setting `fuse_model=False`\n",
            "[2024-05-10 16:44:05] INFO - processing.py - Skipping processing `KeypointsLongestMaxSizeRescale` because it resizes the image.\n",
            "[2024-05-10 16:44:05] INFO - processing.py - Skipping processing `KeypointsBottomRightPadding` because it resizes the image.\n"
          ]
        },
        {
          "output_type": "stream",
          "name": "stdout",
          "text": [
            "Done. (0.152s)\n",
            "inf : (0.0262s/frame)   nms : (0.0013s/frame)\n"
          ]
        },
        {
          "output_type": "stream",
          "name": "stderr",
          "text": [
            "[2024-05-10 16:44:05] INFO - pipelines.py - Fusing some of the model's layers. If this takes too much memory, you can deactivate it by setting `fuse_model=False`\n"
          ]
        },
        {
          "output_type": "stream",
          "name": "stdout",
          "text": [
            "Done. (0.150s)\n",
            "inf : (0.0260s/frame)   nms : (0.0013s/frame)\n"
          ]
        },
        {
          "output_type": "stream",
          "name": "stderr",
          "text": [
            "[2024-05-10 16:44:06] INFO - processing.py - Skipping processing `KeypointsLongestMaxSizeRescale` because it resizes the image.\n",
            "[2024-05-10 16:44:06] INFO - processing.py - Skipping processing `KeypointsBottomRightPadding` because it resizes the image.\n",
            "[2024-05-10 16:44:06] INFO - pipelines.py - Fusing some of the model's layers. If this takes too much memory, you can deactivate it by setting `fuse_model=False`\n"
          ]
        },
        {
          "output_type": "stream",
          "name": "stdout",
          "text": [
            "Done. (0.151s)\n",
            "inf : (0.0265s/frame)   nms : (0.0013s/frame)\n"
          ]
        },
        {
          "output_type": "stream",
          "name": "stderr",
          "text": [
            "[2024-05-10 16:44:06] INFO - processing.py - Skipping processing `KeypointsLongestMaxSizeRescale` because it resizes the image.\n",
            "[2024-05-10 16:44:06] INFO - processing.py - Skipping processing `KeypointsBottomRightPadding` because it resizes the image.\n",
            "[2024-05-10 16:44:06] INFO - pipelines.py - Fusing some of the model's layers. If this takes too much memory, you can deactivate it by setting `fuse_model=False`\n"
          ]
        },
        {
          "output_type": "stream",
          "name": "stdout",
          "text": [
            "Done. (0.151s)\n",
            "inf : (0.0259s/frame)   nms : (0.0013s/frame)\n"
          ]
        },
        {
          "output_type": "stream",
          "name": "stderr",
          "text": [
            "[2024-05-10 16:44:07] INFO - processing.py - Skipping processing `KeypointsLongestMaxSizeRescale` because it resizes the image.\n",
            "[2024-05-10 16:44:07] INFO - processing.py - Skipping processing `KeypointsBottomRightPadding` because it resizes the image.\n",
            "[2024-05-10 16:44:07] INFO - pipelines.py - Fusing some of the model's layers. If this takes too much memory, you can deactivate it by setting `fuse_model=False`\n"
          ]
        },
        {
          "output_type": "stream",
          "name": "stdout",
          "text": [
            "Done. (0.151s)\n",
            "inf : (0.0262s/frame)   nms : (0.0013s/frame)\n"
          ]
        },
        {
          "output_type": "stream",
          "name": "stderr",
          "text": [
            "[2024-05-10 16:44:08] INFO - processing.py - Skipping processing `KeypointsLongestMaxSizeRescale` because it resizes the image.\n",
            "[2024-05-10 16:44:08] INFO - processing.py - Skipping processing `KeypointsBottomRightPadding` because it resizes the image.\n",
            "[2024-05-10 16:44:08] INFO - pipelines.py - Fusing some of the model's layers. If this takes too much memory, you can deactivate it by setting `fuse_model=False`\n"
          ]
        },
        {
          "output_type": "stream",
          "name": "stdout",
          "text": [
            "Done. (0.152s)\n",
            "inf : (0.0268s/frame)   nms : (0.0013s/frame)\n"
          ]
        },
        {
          "output_type": "stream",
          "name": "stderr",
          "text": [
            "[2024-05-10 16:44:09] INFO - processing.py - Skipping processing `KeypointsLongestMaxSizeRescale` because it resizes the image.\n",
            "[2024-05-10 16:44:09] INFO - processing.py - Skipping processing `KeypointsBottomRightPadding` because it resizes the image.\n",
            "[2024-05-10 16:44:09] INFO - pipelines.py - Fusing some of the model's layers. If this takes too much memory, you can deactivate it by setting `fuse_model=False`\n"
          ]
        },
        {
          "output_type": "stream",
          "name": "stdout",
          "text": [
            "Done. (0.151s)\n",
            "inf : (0.0264s/frame)   nms : (0.0013s/frame)\n"
          ]
        },
        {
          "output_type": "stream",
          "name": "stderr",
          "text": [
            "[2024-05-10 16:44:09] INFO - processing.py - Skipping processing `KeypointsLongestMaxSizeRescale` because it resizes the image.\n",
            "[2024-05-10 16:44:09] INFO - processing.py - Skipping processing `KeypointsBottomRightPadding` because it resizes the image.\n",
            "[2024-05-10 16:44:09] INFO - pipelines.py - Fusing some of the model's layers. If this takes too much memory, you can deactivate it by setting `fuse_model=False`\n"
          ]
        },
        {
          "output_type": "stream",
          "name": "stdout",
          "text": [
            "Done. (0.152s)\n",
            "inf : (0.0267s/frame)   nms : (0.0013s/frame)\n"
          ]
        },
        {
          "output_type": "stream",
          "name": "stderr",
          "text": [
            "[2024-05-10 16:44:10] INFO - processing.py - Skipping processing `KeypointsLongestMaxSizeRescale` because it resizes the image.\n",
            "[2024-05-10 16:44:10] INFO - processing.py - Skipping processing `KeypointsBottomRightPadding` because it resizes the image.\n",
            "[2024-05-10 16:44:10] INFO - pipelines.py - Fusing some of the model's layers. If this takes too much memory, you can deactivate it by setting `fuse_model=False`\n"
          ]
        },
        {
          "output_type": "stream",
          "name": "stdout",
          "text": [
            "Done. (0.151s)\n",
            "inf : (0.0265s/frame)   nms : (0.0013s/frame)\n"
          ]
        },
        {
          "output_type": "stream",
          "name": "stderr",
          "text": [
            "[2024-05-10 16:44:11] INFO - processing.py - Skipping processing `KeypointsLongestMaxSizeRescale` because it resizes the image.\n",
            "[2024-05-10 16:44:11] INFO - processing.py - Skipping processing `KeypointsBottomRightPadding` because it resizes the image.\n",
            "[2024-05-10 16:44:11] INFO - pipelines.py - Fusing some of the model's layers. If this takes too much memory, you can deactivate it by setting `fuse_model=False`\n"
          ]
        },
        {
          "output_type": "stream",
          "name": "stdout",
          "text": [
            "Done. (0.160s)\n",
            "inf : (0.0334s/frame)   nms : (0.0017s/frame)\n"
          ]
        },
        {
          "output_type": "stream",
          "name": "stderr",
          "text": [
            "[2024-05-10 16:44:12] INFO - processing.py - Skipping processing `KeypointsLongestMaxSizeRescale` because it resizes the image.\n",
            "[2024-05-10 16:44:12] INFO - processing.py - Skipping processing `KeypointsBottomRightPadding` because it resizes the image.\n",
            "[2024-05-10 16:44:12] INFO - pipelines.py - Fusing some of the model's layers. If this takes too much memory, you can deactivate it by setting `fuse_model=False`\n"
          ]
        },
        {
          "output_type": "stream",
          "name": "stdout",
          "text": [
            "Done. (0.152s)\n",
            "inf : (0.0259s/frame)   nms : (0.0013s/frame)\n"
          ]
        },
        {
          "output_type": "stream",
          "name": "stderr",
          "text": [
            "[2024-05-10 16:44:13] INFO - processing.py - Skipping processing `KeypointsLongestMaxSizeRescale` because it resizes the image.\n",
            "[2024-05-10 16:44:13] INFO - processing.py - Skipping processing `KeypointsBottomRightPadding` because it resizes the image.\n",
            "[2024-05-10 16:44:13] INFO - pipelines.py - Fusing some of the model's layers. If this takes too much memory, you can deactivate it by setting `fuse_model=False`\n"
          ]
        },
        {
          "output_type": "stream",
          "name": "stdout",
          "text": [
            "Done. (0.153s)\n",
            "inf : (0.0267s/frame)   nms : (0.0013s/frame)\n"
          ]
        },
        {
          "output_type": "stream",
          "name": "stderr",
          "text": [
            "[2024-05-10 16:44:13] INFO - processing.py - Skipping processing `KeypointsLongestMaxSizeRescale` because it resizes the image.\n",
            "[2024-05-10 16:44:13] INFO - processing.py - Skipping processing `KeypointsBottomRightPadding` because it resizes the image.\n",
            "[2024-05-10 16:44:13] INFO - pipelines.py - Fusing some of the model's layers. If this takes too much memory, you can deactivate it by setting `fuse_model=False`\n"
          ]
        },
        {
          "output_type": "stream",
          "name": "stdout",
          "text": [
            "Done. (0.154s)\n",
            "inf : (0.0263s/frame)   nms : (0.0013s/frame)\n"
          ]
        },
        {
          "output_type": "stream",
          "name": "stderr",
          "text": [
            "[2024-05-10 16:44:14] INFO - processing.py - Skipping processing `KeypointsLongestMaxSizeRescale` because it resizes the image.\n",
            "[2024-05-10 16:44:14] INFO - processing.py - Skipping processing `KeypointsBottomRightPadding` because it resizes the image.\n",
            "[2024-05-10 16:44:14] INFO - pipelines.py - Fusing some of the model's layers. If this takes too much memory, you can deactivate it by setting `fuse_model=False`\n"
          ]
        },
        {
          "output_type": "stream",
          "name": "stdout",
          "text": [
            "Done. (0.150s)\n",
            "inf : (0.0257s/frame)   nms : (0.0013s/frame)\n"
          ]
        },
        {
          "output_type": "stream",
          "name": "stderr",
          "text": [
            "[2024-05-10 16:44:15] INFO - processing.py - Skipping processing `KeypointsLongestMaxSizeRescale` because it resizes the image.\n",
            "[2024-05-10 16:44:15] INFO - processing.py - Skipping processing `KeypointsBottomRightPadding` because it resizes the image.\n",
            "[2024-05-10 16:44:15] INFO - pipelines.py - Fusing some of the model's layers. If this takes too much memory, you can deactivate it by setting `fuse_model=False`\n"
          ]
        },
        {
          "output_type": "stream",
          "name": "stdout",
          "text": [
            "Done. (0.151s)\n",
            "inf : (0.0259s/frame)   nms : (0.0013s/frame)\n"
          ]
        },
        {
          "output_type": "stream",
          "name": "stderr",
          "text": [
            "[2024-05-10 16:44:16] INFO - processing.py - Skipping processing `KeypointsLongestMaxSizeRescale` because it resizes the image.\n",
            "[2024-05-10 16:44:16] INFO - processing.py - Skipping processing `KeypointsBottomRightPadding` because it resizes the image.\n",
            "[2024-05-10 16:44:16] INFO - pipelines.py - Fusing some of the model's layers. If this takes too much memory, you can deactivate it by setting `fuse_model=False`\n"
          ]
        },
        {
          "output_type": "stream",
          "name": "stdout",
          "text": [
            "Done. (0.152s)\n",
            "inf : (0.0261s/frame)   nms : (0.0013s/frame)\n"
          ]
        },
        {
          "output_type": "stream",
          "name": "stderr",
          "text": [
            "[2024-05-10 16:44:16] INFO - processing.py - Skipping processing `KeypointsLongestMaxSizeRescale` because it resizes the image.\n",
            "[2024-05-10 16:44:16] INFO - processing.py - Skipping processing `KeypointsBottomRightPadding` because it resizes the image.\n",
            "[2024-05-10 16:44:16] INFO - pipelines.py - Fusing some of the model's layers. If this takes too much memory, you can deactivate it by setting `fuse_model=False`\n"
          ]
        },
        {
          "output_type": "stream",
          "name": "stdout",
          "text": [
            "Done. (0.153s)\n",
            "inf : (0.0265s/frame)   nms : (0.0013s/frame)\n"
          ]
        },
        {
          "output_type": "stream",
          "name": "stderr",
          "text": [
            "[2024-05-10 16:44:17] INFO - processing.py - Skipping processing `KeypointsLongestMaxSizeRescale` because it resizes the image.\n",
            "[2024-05-10 16:44:17] INFO - processing.py - Skipping processing `KeypointsBottomRightPadding` because it resizes the image.\n",
            "[2024-05-10 16:44:17] INFO - pipelines.py - Fusing some of the model's layers. If this takes too much memory, you can deactivate it by setting `fuse_model=False`\n"
          ]
        },
        {
          "output_type": "stream",
          "name": "stdout",
          "text": [
            "Done. (0.151s)\n",
            "inf : (0.0262s/frame)   nms : (0.0013s/frame)\n"
          ]
        },
        {
          "output_type": "stream",
          "name": "stderr",
          "text": [
            "[2024-05-10 16:44:18] INFO - processing.py - Skipping processing `KeypointsLongestMaxSizeRescale` because it resizes the image.\n",
            "[2024-05-10 16:44:18] INFO - processing.py - Skipping processing `KeypointsBottomRightPadding` because it resizes the image.\n",
            "[2024-05-10 16:44:18] INFO - pipelines.py - Fusing some of the model's layers. If this takes too much memory, you can deactivate it by setting `fuse_model=False`\n"
          ]
        },
        {
          "output_type": "stream",
          "name": "stdout",
          "text": [
            "Done. (0.151s)\n",
            "inf : (0.0259s/frame)   nms : (0.0013s/frame)\n"
          ]
        },
        {
          "output_type": "stream",
          "name": "stderr",
          "text": [
            "[2024-05-10 16:44:18] INFO - processing.py - Skipping processing `KeypointsLongestMaxSizeRescale` because it resizes the image.\n",
            "[2024-05-10 16:44:18] INFO - processing.py - Skipping processing `KeypointsBottomRightPadding` because it resizes the image.\n",
            "[2024-05-10 16:44:18] INFO - pipelines.py - Fusing some of the model's layers. If this takes too much memory, you can deactivate it by setting `fuse_model=False`\n"
          ]
        },
        {
          "output_type": "stream",
          "name": "stdout",
          "text": [
            "Done. (0.151s)\n",
            "inf : (0.0263s/frame)   nms : (0.0013s/frame)\n"
          ]
        },
        {
          "output_type": "stream",
          "name": "stderr",
          "text": [
            "[2024-05-10 16:44:19] INFO - processing.py - Skipping processing `KeypointsLongestMaxSizeRescale` because it resizes the image.\n",
            "[2024-05-10 16:44:19] INFO - processing.py - Skipping processing `KeypointsBottomRightPadding` because it resizes the image.\n",
            "[2024-05-10 16:44:19] INFO - pipelines.py - Fusing some of the model's layers. If this takes too much memory, you can deactivate it by setting `fuse_model=False`\n"
          ]
        },
        {
          "output_type": "stream",
          "name": "stdout",
          "text": [
            "Done. (0.160s)\n",
            "inf : (0.0340s/frame)   nms : (0.0019s/frame)\n"
          ]
        },
        {
          "output_type": "stream",
          "name": "stderr",
          "text": [
            "[2024-05-10 16:44:20] INFO - processing.py - Skipping processing `KeypointsLongestMaxSizeRescale` because it resizes the image.\n",
            "[2024-05-10 16:44:20] INFO - processing.py - Skipping processing `KeypointsBottomRightPadding` because it resizes the image.\n",
            "[2024-05-10 16:44:20] INFO - pipelines.py - Fusing some of the model's layers. If this takes too much memory, you can deactivate it by setting `fuse_model=False`\n"
          ]
        },
        {
          "output_type": "stream",
          "name": "stdout",
          "text": [
            "Done. (0.151s)\n",
            "inf : (0.0263s/frame)   nms : (0.0013s/frame)\n"
          ]
        },
        {
          "output_type": "stream",
          "name": "stderr",
          "text": [
            "[2024-05-10 16:44:21] INFO - processing.py - Skipping processing `KeypointsLongestMaxSizeRescale` because it resizes the image.\n",
            "[2024-05-10 16:44:21] INFO - processing.py - Skipping processing `KeypointsBottomRightPadding` because it resizes the image.\n",
            "[2024-05-10 16:44:21] INFO - pipelines.py - Fusing some of the model's layers. If this takes too much memory, you can deactivate it by setting `fuse_model=False`\n"
          ]
        },
        {
          "output_type": "stream",
          "name": "stdout",
          "text": [
            "Done. (0.151s)\n",
            "inf : (0.0260s/frame)   nms : (0.0013s/frame)\n"
          ]
        },
        {
          "output_type": "stream",
          "name": "stderr",
          "text": [
            "[2024-05-10 16:44:21] INFO - processing.py - Skipping processing `KeypointsLongestMaxSizeRescale` because it resizes the image.\n",
            "[2024-05-10 16:44:21] INFO - processing.py - Skipping processing `KeypointsBottomRightPadding` because it resizes the image.\n",
            "[2024-05-10 16:44:21] INFO - pipelines.py - Fusing some of the model's layers. If this takes too much memory, you can deactivate it by setting `fuse_model=False`\n"
          ]
        },
        {
          "output_type": "stream",
          "name": "stdout",
          "text": [
            "Done. (0.153s)\n",
            "inf : (0.0278s/frame)   nms : (0.0014s/frame)\n"
          ]
        },
        {
          "output_type": "stream",
          "name": "stderr",
          "text": [
            "[2024-05-10 16:44:22] INFO - processing.py - Skipping processing `KeypointsLongestMaxSizeRescale` because it resizes the image.\n",
            "[2024-05-10 16:44:22] INFO - processing.py - Skipping processing `KeypointsBottomRightPadding` because it resizes the image.\n",
            "[2024-05-10 16:44:22] INFO - pipelines.py - Fusing some of the model's layers. If this takes too much memory, you can deactivate it by setting `fuse_model=False`\n"
          ]
        },
        {
          "output_type": "stream",
          "name": "stdout",
          "text": [
            "Done. (0.151s)\n",
            "inf : (0.0268s/frame)   nms : (0.0013s/frame)\n"
          ]
        },
        {
          "output_type": "stream",
          "name": "stderr",
          "text": [
            "[2024-05-10 16:44:23] INFO - processing.py - Skipping processing `KeypointsLongestMaxSizeRescale` because it resizes the image.\n",
            "[2024-05-10 16:44:23] INFO - processing.py - Skipping processing `KeypointsBottomRightPadding` because it resizes the image.\n",
            "[2024-05-10 16:44:23] INFO - pipelines.py - Fusing some of the model's layers. If this takes too much memory, you can deactivate it by setting `fuse_model=False`\n"
          ]
        },
        {
          "output_type": "stream",
          "name": "stdout",
          "text": [
            "Done. (0.154s)\n",
            "inf : (0.0274s/frame)   nms : (0.0013s/frame)\n"
          ]
        },
        {
          "output_type": "stream",
          "name": "stderr",
          "text": [
            "[2024-05-10 16:44:24] INFO - processing.py - Skipping processing `KeypointsLongestMaxSizeRescale` because it resizes the image.\n",
            "[2024-05-10 16:44:24] INFO - processing.py - Skipping processing `KeypointsBottomRightPadding` because it resizes the image.\n",
            "[2024-05-10 16:44:24] INFO - pipelines.py - Fusing some of the model's layers. If this takes too much memory, you can deactivate it by setting `fuse_model=False`\n"
          ]
        },
        {
          "output_type": "stream",
          "name": "stdout",
          "text": [
            "Done. (0.152s)\n",
            "inf : (0.0263s/frame)   nms : (0.0014s/frame)\n"
          ]
        },
        {
          "output_type": "stream",
          "name": "stderr",
          "text": [
            "[2024-05-10 16:44:25] INFO - processing.py - Skipping processing `KeypointsLongestMaxSizeRescale` because it resizes the image.\n",
            "[2024-05-10 16:44:25] INFO - processing.py - Skipping processing `KeypointsBottomRightPadding` because it resizes the image.\n",
            "[2024-05-10 16:44:25] INFO - pipelines.py - Fusing some of the model's layers. If this takes too much memory, you can deactivate it by setting `fuse_model=False`\n"
          ]
        },
        {
          "output_type": "stream",
          "name": "stdout",
          "text": [
            "Done. (0.151s)\n",
            "inf : (0.0262s/frame)   nms : (0.0015s/frame)\n"
          ]
        },
        {
          "output_type": "stream",
          "name": "stderr",
          "text": [
            "[2024-05-10 16:44:25] INFO - processing.py - Skipping processing `KeypointsLongestMaxSizeRescale` because it resizes the image.\n",
            "[2024-05-10 16:44:25] INFO - processing.py - Skipping processing `KeypointsBottomRightPadding` because it resizes the image.\n",
            "[2024-05-10 16:44:25] INFO - pipelines.py - Fusing some of the model's layers. If this takes too much memory, you can deactivate it by setting `fuse_model=False`\n"
          ]
        },
        {
          "output_type": "stream",
          "name": "stdout",
          "text": [
            "Done. (0.151s)\n",
            "inf : (0.0260s/frame)   nms : (0.0013s/frame)\n"
          ]
        },
        {
          "output_type": "stream",
          "name": "stderr",
          "text": [
            "[2024-05-10 16:44:26] INFO - processing.py - Skipping processing `KeypointsLongestMaxSizeRescale` because it resizes the image.\n",
            "[2024-05-10 16:44:26] INFO - processing.py - Skipping processing `KeypointsBottomRightPadding` because it resizes the image.\n",
            "[2024-05-10 16:44:26] INFO - pipelines.py - Fusing some of the model's layers. If this takes too much memory, you can deactivate it by setting `fuse_model=False`\n"
          ]
        },
        {
          "output_type": "stream",
          "name": "stdout",
          "text": [
            "Done. (0.147s)\n",
            "inf : (0.0261s/frame)   nms : (0.0013s/frame)\n"
          ]
        },
        {
          "output_type": "stream",
          "name": "stderr",
          "text": [
            "[2024-05-10 16:44:27] INFO - processing.py - Skipping processing `KeypointsLongestMaxSizeRescale` because it resizes the image.\n",
            "[2024-05-10 16:44:27] INFO - processing.py - Skipping processing `KeypointsBottomRightPadding` because it resizes the image.\n",
            "[2024-05-10 16:44:27] INFO - pipelines.py - Fusing some of the model's layers. If this takes too much memory, you can deactivate it by setting `fuse_model=False`\n"
          ]
        },
        {
          "output_type": "stream",
          "name": "stdout",
          "text": [
            "Done. (0.148s)\n",
            "inf : (0.0270s/frame)   nms : (0.0013s/frame)\n"
          ]
        },
        {
          "output_type": "stream",
          "name": "stderr",
          "text": [
            "[2024-05-10 16:44:27] INFO - processing.py - Skipping processing `KeypointsLongestMaxSizeRescale` because it resizes the image.\n",
            "[2024-05-10 16:44:27] INFO - processing.py - Skipping processing `KeypointsBottomRightPadding` because it resizes the image.\n",
            "[2024-05-10 16:44:27] INFO - pipelines.py - Fusing some of the model's layers. If this takes too much memory, you can deactivate it by setting `fuse_model=False`\n"
          ]
        },
        {
          "output_type": "stream",
          "name": "stdout",
          "text": [
            "Done. (0.154s)\n",
            "inf : (0.0337s/frame)   nms : (0.0017s/frame)\n"
          ]
        },
        {
          "output_type": "stream",
          "name": "stderr",
          "text": [
            "[2024-05-10 16:44:28] INFO - processing.py - Skipping processing `KeypointsLongestMaxSizeRescale` because it resizes the image.\n",
            "[2024-05-10 16:44:28] INFO - processing.py - Skipping processing `KeypointsBottomRightPadding` because it resizes the image.\n",
            "[2024-05-10 16:44:28] INFO - pipelines.py - Fusing some of the model's layers. If this takes too much memory, you can deactivate it by setting `fuse_model=False`\n"
          ]
        },
        {
          "output_type": "stream",
          "name": "stdout",
          "text": [
            "Done. (0.146s)\n",
            "inf : (0.0261s/frame)   nms : (0.0013s/frame)\n"
          ]
        },
        {
          "output_type": "stream",
          "name": "stderr",
          "text": [
            "[2024-05-10 16:44:29] INFO - processing.py - Skipping processing `KeypointsLongestMaxSizeRescale` because it resizes the image.\n",
            "[2024-05-10 16:44:29] INFO - processing.py - Skipping processing `KeypointsBottomRightPadding` because it resizes the image.\n",
            "[2024-05-10 16:44:29] INFO - pipelines.py - Fusing some of the model's layers. If this takes too much memory, you can deactivate it by setting `fuse_model=False`\n"
          ]
        },
        {
          "output_type": "stream",
          "name": "stdout",
          "text": [
            "Done. (0.146s)\n",
            "inf : (0.0268s/frame)   nms : (0.0013s/frame)\n"
          ]
        },
        {
          "output_type": "stream",
          "name": "stderr",
          "text": [
            "[2024-05-10 16:44:30] INFO - processing.py - Skipping processing `KeypointsLongestMaxSizeRescale` because it resizes the image.\n",
            "[2024-05-10 16:44:30] INFO - processing.py - Skipping processing `KeypointsBottomRightPadding` because it resizes the image.\n",
            "[2024-05-10 16:44:30] INFO - pipelines.py - Fusing some of the model's layers. If this takes too much memory, you can deactivate it by setting `fuse_model=False`\n"
          ]
        },
        {
          "output_type": "stream",
          "name": "stdout",
          "text": [
            "Done. (0.145s)\n",
            "inf : (0.0259s/frame)   nms : (0.0013s/frame)\n"
          ]
        },
        {
          "output_type": "stream",
          "name": "stderr",
          "text": [
            "[2024-05-10 16:44:30] INFO - processing.py - Skipping processing `KeypointsLongestMaxSizeRescale` because it resizes the image.\n",
            "[2024-05-10 16:44:30] INFO - processing.py - Skipping processing `KeypointsBottomRightPadding` because it resizes the image.\n",
            "[2024-05-10 16:44:30] INFO - pipelines.py - Fusing some of the model's layers. If this takes too much memory, you can deactivate it by setting `fuse_model=False`\n"
          ]
        },
        {
          "output_type": "stream",
          "name": "stdout",
          "text": [
            "Done. (0.145s)\n",
            "inf : (0.0262s/frame)   nms : (0.0013s/frame)\n"
          ]
        },
        {
          "output_type": "stream",
          "name": "stderr",
          "text": [
            "[2024-05-10 16:44:31] INFO - processing.py - Skipping processing `KeypointsLongestMaxSizeRescale` because it resizes the image.\n",
            "[2024-05-10 16:44:31] INFO - processing.py - Skipping processing `KeypointsBottomRightPadding` because it resizes the image.\n",
            "[2024-05-10 16:44:31] INFO - pipelines.py - Fusing some of the model's layers. If this takes too much memory, you can deactivate it by setting `fuse_model=False`\n"
          ]
        },
        {
          "output_type": "stream",
          "name": "stdout",
          "text": [
            "Done. (0.147s)\n",
            "inf : (0.0272s/frame)   nms : (0.0015s/frame)\n"
          ]
        },
        {
          "output_type": "stream",
          "name": "stderr",
          "text": [
            "[2024-05-10 16:44:32] INFO - processing.py - Skipping processing `KeypointsLongestMaxSizeRescale` because it resizes the image.\n",
            "[2024-05-10 16:44:32] INFO - processing.py - Skipping processing `KeypointsBottomRightPadding` because it resizes the image.\n",
            "[2024-05-10 16:44:32] INFO - pipelines.py - Fusing some of the model's layers. If this takes too much memory, you can deactivate it by setting `fuse_model=False`\n"
          ]
        },
        {
          "output_type": "stream",
          "name": "stdout",
          "text": [
            "Done. (0.145s)\n",
            "inf : (0.0260s/frame)   nms : (0.0013s/frame)\n"
          ]
        },
        {
          "output_type": "stream",
          "name": "stderr",
          "text": [
            "[2024-05-10 16:44:33] INFO - processing.py - Skipping processing `KeypointsLongestMaxSizeRescale` because it resizes the image.\n",
            "[2024-05-10 16:44:33] INFO - processing.py - Skipping processing `KeypointsBottomRightPadding` because it resizes the image.\n",
            "[2024-05-10 16:44:33] INFO - pipelines.py - Fusing some of the model's layers. If this takes too much memory, you can deactivate it by setting `fuse_model=False`\n"
          ]
        },
        {
          "output_type": "stream",
          "name": "stdout",
          "text": [
            "Done. (0.146s)\n",
            "inf : (0.0276s/frame)   nms : (0.0013s/frame)\n"
          ]
        },
        {
          "output_type": "stream",
          "name": "stderr",
          "text": [
            "[2024-05-10 16:44:34] INFO - processing.py - Skipping processing `KeypointsLongestMaxSizeRescale` because it resizes the image.\n",
            "[2024-05-10 16:44:34] INFO - processing.py - Skipping processing `KeypointsBottomRightPadding` because it resizes the image.\n",
            "[2024-05-10 16:44:34] INFO - pipelines.py - Fusing some of the model's layers. If this takes too much memory, you can deactivate it by setting `fuse_model=False`\n"
          ]
        },
        {
          "output_type": "stream",
          "name": "stdout",
          "text": [
            "Done. (0.145s)\n",
            "inf : (0.0260s/frame)   nms : (0.0013s/frame)\n"
          ]
        },
        {
          "output_type": "stream",
          "name": "stderr",
          "text": [
            "[2024-05-10 16:44:35] INFO - processing.py - Skipping processing `KeypointsLongestMaxSizeRescale` because it resizes the image.\n",
            "[2024-05-10 16:44:35] INFO - processing.py - Skipping processing `KeypointsBottomRightPadding` because it resizes the image.\n",
            "[2024-05-10 16:44:35] INFO - pipelines.py - Fusing some of the model's layers. If this takes too much memory, you can deactivate it by setting `fuse_model=False`\n"
          ]
        },
        {
          "output_type": "stream",
          "name": "stdout",
          "text": [
            "Done. (0.146s)\n",
            "inf : (0.0264s/frame)   nms : (0.0013s/frame)\n"
          ]
        },
        {
          "output_type": "stream",
          "name": "stderr",
          "text": [
            "[2024-05-10 16:44:36] INFO - processing.py - Skipping processing `KeypointsLongestMaxSizeRescale` because it resizes the image.\n",
            "[2024-05-10 16:44:36] INFO - processing.py - Skipping processing `KeypointsBottomRightPadding` because it resizes the image.\n",
            "[2024-05-10 16:44:36] INFO - pipelines.py - Fusing some of the model's layers. If this takes too much memory, you can deactivate it by setting `fuse_model=False`\n"
          ]
        },
        {
          "output_type": "stream",
          "name": "stdout",
          "text": [
            "Done. (0.157s)\n",
            "inf : (0.0262s/frame)   nms : (0.0013s/frame)\n"
          ]
        },
        {
          "output_type": "stream",
          "name": "stderr",
          "text": [
            "[2024-05-10 16:44:37] INFO - processing.py - Skipping processing `KeypointsLongestMaxSizeRescale` because it resizes the image.\n",
            "[2024-05-10 16:44:37] INFO - processing.py - Skipping processing `KeypointsBottomRightPadding` because it resizes the image.\n",
            "[2024-05-10 16:44:37] INFO - pipelines.py - Fusing some of the model's layers. If this takes too much memory, you can deactivate it by setting `fuse_model=False`\n"
          ]
        },
        {
          "output_type": "stream",
          "name": "stdout",
          "text": [
            "Done. (0.152s)\n",
            "inf : (0.0328s/frame)   nms : (0.0016s/frame)\n"
          ]
        },
        {
          "output_type": "stream",
          "name": "stderr",
          "text": [
            "[2024-05-10 16:44:37] INFO - processing.py - Skipping processing `KeypointsLongestMaxSizeRescale` because it resizes the image.\n",
            "[2024-05-10 16:44:37] INFO - processing.py - Skipping processing `KeypointsBottomRightPadding` because it resizes the image.\n",
            "[2024-05-10 16:44:37] INFO - pipelines.py - Fusing some of the model's layers. If this takes too much memory, you can deactivate it by setting `fuse_model=False`\n"
          ]
        },
        {
          "output_type": "stream",
          "name": "stdout",
          "text": [
            "Done. (0.146s)\n",
            "inf : (0.0265s/frame)   nms : (0.0013s/frame)\n"
          ]
        },
        {
          "output_type": "stream",
          "name": "stderr",
          "text": [
            "[2024-05-10 16:44:38] INFO - processing.py - Skipping processing `KeypointsLongestMaxSizeRescale` because it resizes the image.\n",
            "[2024-05-10 16:44:38] INFO - processing.py - Skipping processing `KeypointsBottomRightPadding` because it resizes the image.\n",
            "[2024-05-10 16:44:38] INFO - pipelines.py - Fusing some of the model's layers. If this takes too much memory, you can deactivate it by setting `fuse_model=False`\n"
          ]
        },
        {
          "output_type": "stream",
          "name": "stdout",
          "text": [
            "Done. (0.149s)\n",
            "inf : (0.0273s/frame)   nms : (0.0014s/frame)\n"
          ]
        },
        {
          "output_type": "stream",
          "name": "stderr",
          "text": [
            "[2024-05-10 16:44:39] INFO - processing.py - Skipping processing `KeypointsLongestMaxSizeRescale` because it resizes the image.\n",
            "[2024-05-10 16:44:39] INFO - processing.py - Skipping processing `KeypointsBottomRightPadding` because it resizes the image.\n",
            "[2024-05-10 16:44:39] INFO - pipelines.py - Fusing some of the model's layers. If this takes too much memory, you can deactivate it by setting `fuse_model=False`\n"
          ]
        },
        {
          "output_type": "stream",
          "name": "stdout",
          "text": [
            "Done. (0.146s)\n",
            "inf : (0.0260s/frame)   nms : (0.0013s/frame)\n"
          ]
        },
        {
          "output_type": "stream",
          "name": "stderr",
          "text": [
            "[2024-05-10 16:44:40] INFO - processing.py - Skipping processing `KeypointsLongestMaxSizeRescale` because it resizes the image.\n",
            "[2024-05-10 16:44:40] INFO - processing.py - Skipping processing `KeypointsBottomRightPadding` because it resizes the image.\n",
            "[2024-05-10 16:44:40] INFO - pipelines.py - Fusing some of the model's layers. If this takes too much memory, you can deactivate it by setting `fuse_model=False`\n"
          ]
        },
        {
          "output_type": "stream",
          "name": "stdout",
          "text": [
            "Done. (0.144s)\n",
            "inf : (0.0256s/frame)   nms : (0.0013s/frame)\n"
          ]
        },
        {
          "output_type": "stream",
          "name": "stderr",
          "text": [
            "[2024-05-10 16:44:41] INFO - processing.py - Skipping processing `KeypointsLongestMaxSizeRescale` because it resizes the image.\n",
            "[2024-05-10 16:44:41] INFO - processing.py - Skipping processing `KeypointsBottomRightPadding` because it resizes the image.\n",
            "[2024-05-10 16:44:41] INFO - pipelines.py - Fusing some of the model's layers. If this takes too much memory, you can deactivate it by setting `fuse_model=False`\n"
          ]
        },
        {
          "output_type": "stream",
          "name": "stdout",
          "text": [
            "Done. (0.146s)\n",
            "inf : (0.0269s/frame)   nms : (0.0014s/frame)\n"
          ]
        },
        {
          "output_type": "stream",
          "name": "stderr",
          "text": [
            "[2024-05-10 16:44:41] INFO - processing.py - Skipping processing `KeypointsLongestMaxSizeRescale` because it resizes the image.\n",
            "[2024-05-10 16:44:41] INFO - processing.py - Skipping processing `KeypointsBottomRightPadding` because it resizes the image.\n",
            "[2024-05-10 16:44:41] INFO - pipelines.py - Fusing some of the model's layers. If this takes too much memory, you can deactivate it by setting `fuse_model=False`\n"
          ]
        },
        {
          "output_type": "stream",
          "name": "stdout",
          "text": [
            "Done. (0.150s)\n",
            "inf : (0.0309s/frame)   nms : (0.0013s/frame)\n"
          ]
        },
        {
          "output_type": "stream",
          "name": "stderr",
          "text": [
            "[2024-05-10 16:44:42] INFO - processing.py - Skipping processing `KeypointsLongestMaxSizeRescale` because it resizes the image.\n",
            "[2024-05-10 16:44:42] INFO - processing.py - Skipping processing `KeypointsBottomRightPadding` because it resizes the image.\n",
            "[2024-05-10 16:44:42] INFO - pipelines.py - Fusing some of the model's layers. If this takes too much memory, you can deactivate it by setting `fuse_model=False`\n"
          ]
        },
        {
          "output_type": "stream",
          "name": "stdout",
          "text": [
            "Done. (0.146s)\n",
            "inf : (0.0258s/frame)   nms : (0.0013s/frame)\n"
          ]
        },
        {
          "output_type": "stream",
          "name": "stderr",
          "text": [
            "[2024-05-10 16:44:43] INFO - processing.py - Skipping processing `KeypointsLongestMaxSizeRescale` because it resizes the image.\n",
            "[2024-05-10 16:44:43] INFO - processing.py - Skipping processing `KeypointsBottomRightPadding` because it resizes the image.\n",
            "[2024-05-10 16:44:43] INFO - pipelines.py - Fusing some of the model's layers. If this takes too much memory, you can deactivate it by setting `fuse_model=False`\n"
          ]
        },
        {
          "output_type": "stream",
          "name": "stdout",
          "text": [
            "Done. (0.146s)\n",
            "inf : (0.0261s/frame)   nms : (0.0013s/frame)\n"
          ]
        },
        {
          "output_type": "stream",
          "name": "stderr",
          "text": [
            "[2024-05-10 16:44:44] INFO - processing.py - Skipping processing `KeypointsLongestMaxSizeRescale` because it resizes the image.\n",
            "[2024-05-10 16:44:44] INFO - processing.py - Skipping processing `KeypointsBottomRightPadding` because it resizes the image.\n",
            "[2024-05-10 16:44:44] INFO - pipelines.py - Fusing some of the model's layers. If this takes too much memory, you can deactivate it by setting `fuse_model=False`\n"
          ]
        },
        {
          "output_type": "stream",
          "name": "stdout",
          "text": [
            "Done. (0.147s)\n",
            "inf : (0.0266s/frame)   nms : (0.0014s/frame)\n"
          ]
        },
        {
          "output_type": "stream",
          "name": "stderr",
          "text": [
            "[2024-05-10 16:44:44] INFO - processing.py - Skipping processing `KeypointsLongestMaxSizeRescale` because it resizes the image.\n",
            "[2024-05-10 16:44:44] INFO - processing.py - Skipping processing `KeypointsBottomRightPadding` because it resizes the image.\n",
            "[2024-05-10 16:44:44] INFO - pipelines.py - Fusing some of the model's layers. If this takes too much memory, you can deactivate it by setting `fuse_model=False`\n"
          ]
        },
        {
          "output_type": "stream",
          "name": "stdout",
          "text": [
            "Done. (0.148s)\n",
            "inf : (0.0263s/frame)   nms : (0.0013s/frame)\n"
          ]
        },
        {
          "output_type": "stream",
          "name": "stderr",
          "text": [
            "[2024-05-10 16:44:45] INFO - processing.py - Skipping processing `KeypointsLongestMaxSizeRescale` because it resizes the image.\n",
            "[2024-05-10 16:44:45] INFO - processing.py - Skipping processing `KeypointsBottomRightPadding` because it resizes the image.\n",
            "[2024-05-10 16:44:45] INFO - pipelines.py - Fusing some of the model's layers. If this takes too much memory, you can deactivate it by setting `fuse_model=False`\n"
          ]
        },
        {
          "output_type": "stream",
          "name": "stdout",
          "text": [
            "Done. (0.142s)\n",
            "inf : (0.0266s/frame)   nms : (0.0013s/frame)\n"
          ]
        },
        {
          "output_type": "stream",
          "name": "stderr",
          "text": [
            "[2024-05-10 16:44:46] INFO - processing.py - Skipping processing `KeypointsLongestMaxSizeRescale` because it resizes the image.\n",
            "[2024-05-10 16:44:46] INFO - processing.py - Skipping processing `KeypointsBottomRightPadding` because it resizes the image.\n",
            "[2024-05-10 16:44:46] INFO - pipelines.py - Fusing some of the model's layers. If this takes too much memory, you can deactivate it by setting `fuse_model=False`\n"
          ]
        },
        {
          "output_type": "stream",
          "name": "stdout",
          "text": [
            "Done. (0.144s)\n",
            "inf : (0.0271s/frame)   nms : (0.0013s/frame)\n"
          ]
        },
        {
          "output_type": "stream",
          "name": "stderr",
          "text": [
            "[2024-05-10 16:44:47] INFO - processing.py - Skipping processing `KeypointsLongestMaxSizeRescale` because it resizes the image.\n",
            "[2024-05-10 16:44:47] INFO - processing.py - Skipping processing `KeypointsBottomRightPadding` because it resizes the image.\n",
            "[2024-05-10 16:44:47] INFO - pipelines.py - Fusing some of the model's layers. If this takes too much memory, you can deactivate it by setting `fuse_model=False`\n"
          ]
        },
        {
          "output_type": "stream",
          "name": "stdout",
          "text": [
            "Done. (0.146s)\n",
            "inf : (0.0269s/frame)   nms : (0.0013s/frame)\n"
          ]
        },
        {
          "output_type": "stream",
          "name": "stderr",
          "text": [
            "[2024-05-10 16:44:48] INFO - processing.py - Skipping processing `KeypointsLongestMaxSizeRescale` because it resizes the image.\n",
            "[2024-05-10 16:44:48] INFO - processing.py - Skipping processing `KeypointsBottomRightPadding` because it resizes the image.\n",
            "[2024-05-10 16:44:48] INFO - pipelines.py - Fusing some of the model's layers. If this takes too much memory, you can deactivate it by setting `fuse_model=False`\n"
          ]
        },
        {
          "output_type": "stream",
          "name": "stdout",
          "text": [
            "Done. (0.141s)\n",
            "inf : (0.0260s/frame)   nms : (0.0013s/frame)\n"
          ]
        },
        {
          "output_type": "stream",
          "name": "stderr",
          "text": [
            "[2024-05-10 16:44:49] INFO - processing.py - Skipping processing `KeypointsLongestMaxSizeRescale` because it resizes the image.\n",
            "[2024-05-10 16:44:49] INFO - processing.py - Skipping processing `KeypointsBottomRightPadding` because it resizes the image.\n",
            "[2024-05-10 16:44:49] INFO - pipelines.py - Fusing some of the model's layers. If this takes too much memory, you can deactivate it by setting `fuse_model=False`\n"
          ]
        },
        {
          "output_type": "stream",
          "name": "stdout",
          "text": [
            "Done. (0.145s)\n",
            "inf : (0.0272s/frame)   nms : (0.0014s/frame)\n"
          ]
        },
        {
          "output_type": "stream",
          "name": "stderr",
          "text": [
            "[2024-05-10 16:44:49] INFO - processing.py - Skipping processing `KeypointsLongestMaxSizeRescale` because it resizes the image.\n",
            "[2024-05-10 16:44:49] INFO - processing.py - Skipping processing `KeypointsBottomRightPadding` because it resizes the image.\n",
            "[2024-05-10 16:44:49] INFO - pipelines.py - Fusing some of the model's layers. If this takes too much memory, you can deactivate it by setting `fuse_model=False`\n"
          ]
        },
        {
          "output_type": "stream",
          "name": "stdout",
          "text": [
            "Done. (0.142s)\n",
            "inf : (0.0265s/frame)   nms : (0.0013s/frame)\n"
          ]
        },
        {
          "output_type": "stream",
          "name": "stderr",
          "text": [
            "[2024-05-10 16:44:50] INFO - processing.py - Skipping processing `KeypointsLongestMaxSizeRescale` because it resizes the image.\n",
            "[2024-05-10 16:44:50] INFO - processing.py - Skipping processing `KeypointsBottomRightPadding` because it resizes the image.\n",
            "[2024-05-10 16:44:50] INFO - pipelines.py - Fusing some of the model's layers. If this takes too much memory, you can deactivate it by setting `fuse_model=False`\n"
          ]
        },
        {
          "output_type": "stream",
          "name": "stdout",
          "text": [
            "Done. (0.143s)\n",
            "inf : (0.0271s/frame)   nms : (0.0013s/frame)\n"
          ]
        },
        {
          "output_type": "stream",
          "name": "stderr",
          "text": [
            "[2024-05-10 16:44:51] INFO - processing.py - Skipping processing `KeypointsLongestMaxSizeRescale` because it resizes the image.\n",
            "[2024-05-10 16:44:51] INFO - processing.py - Skipping processing `KeypointsBottomRightPadding` because it resizes the image.\n",
            "[2024-05-10 16:44:51] INFO - pipelines.py - Fusing some of the model's layers. If this takes too much memory, you can deactivate it by setting `fuse_model=False`\n"
          ]
        },
        {
          "output_type": "stream",
          "name": "stdout",
          "text": [
            "Done. (0.143s)\n",
            "inf : (0.0263s/frame)   nms : (0.0013s/frame)\n"
          ]
        },
        {
          "output_type": "stream",
          "name": "stderr",
          "text": [
            "[2024-05-10 16:44:52] INFO - processing.py - Skipping processing `KeypointsLongestMaxSizeRescale` because it resizes the image.\n",
            "[2024-05-10 16:44:52] INFO - processing.py - Skipping processing `KeypointsBottomRightPadding` because it resizes the image.\n",
            "[2024-05-10 16:44:52] INFO - pipelines.py - Fusing some of the model's layers. If this takes too much memory, you can deactivate it by setting `fuse_model=False`\n"
          ]
        },
        {
          "output_type": "stream",
          "name": "stdout",
          "text": [
            "Done. (0.143s)\n",
            "inf : (0.0262s/frame)   nms : (0.0013s/frame)\n"
          ]
        },
        {
          "output_type": "stream",
          "name": "stderr",
          "text": [
            "[2024-05-10 16:44:52] INFO - processing.py - Skipping processing `KeypointsLongestMaxSizeRescale` because it resizes the image.\n",
            "[2024-05-10 16:44:52] INFO - processing.py - Skipping processing `KeypointsBottomRightPadding` because it resizes the image.\n",
            "[2024-05-10 16:44:52] INFO - pipelines.py - Fusing some of the model's layers. If this takes too much memory, you can deactivate it by setting `fuse_model=False`\n"
          ]
        },
        {
          "output_type": "stream",
          "name": "stdout",
          "text": [
            "Done. (0.143s)\n",
            "inf : (0.0259s/frame)   nms : (0.0013s/frame)\n"
          ]
        },
        {
          "output_type": "stream",
          "name": "stderr",
          "text": [
            "[2024-05-10 16:44:53] INFO - processing.py - Skipping processing `KeypointsLongestMaxSizeRescale` because it resizes the image.\n",
            "[2024-05-10 16:44:53] INFO - processing.py - Skipping processing `KeypointsBottomRightPadding` because it resizes the image.\n",
            "[2024-05-10 16:44:53] INFO - pipelines.py - Fusing some of the model's layers. If this takes too much memory, you can deactivate it by setting `fuse_model=False`\n"
          ]
        },
        {
          "output_type": "stream",
          "name": "stdout",
          "text": [
            "Done. (0.144s)\n",
            "inf : (0.0259s/frame)   nms : (0.0013s/frame)\n"
          ]
        },
        {
          "output_type": "stream",
          "name": "stderr",
          "text": [
            "[2024-05-10 16:44:54] INFO - processing.py - Skipping processing `KeypointsLongestMaxSizeRescale` because it resizes the image.\n",
            "[2024-05-10 16:44:54] INFO - processing.py - Skipping processing `KeypointsBottomRightPadding` because it resizes the image.\n",
            "[2024-05-10 16:44:54] INFO - pipelines.py - Fusing some of the model's layers. If this takes too much memory, you can deactivate it by setting `fuse_model=False`\n"
          ]
        },
        {
          "output_type": "stream",
          "name": "stdout",
          "text": [
            "Done. (0.147s)\n",
            "inf : (0.0260s/frame)   nms : (0.0013s/frame)\n"
          ]
        },
        {
          "output_type": "stream",
          "name": "stderr",
          "text": [
            "[2024-05-10 16:44:55] INFO - processing.py - Skipping processing `KeypointsLongestMaxSizeRescale` because it resizes the image.\n",
            "[2024-05-10 16:44:55] INFO - processing.py - Skipping processing `KeypointsBottomRightPadding` because it resizes the image.\n",
            "[2024-05-10 16:44:55] INFO - pipelines.py - Fusing some of the model's layers. If this takes too much memory, you can deactivate it by setting `fuse_model=False`\n"
          ]
        },
        {
          "output_type": "stream",
          "name": "stdout",
          "text": [
            "Done. (0.145s)\n",
            "inf : (0.0264s/frame)   nms : (0.0013s/frame)\n"
          ]
        },
        {
          "output_type": "stream",
          "name": "stderr",
          "text": [
            "[2024-05-10 16:44:55] INFO - processing.py - Skipping processing `KeypointsLongestMaxSizeRescale` because it resizes the image.\n",
            "[2024-05-10 16:44:55] INFO - processing.py - Skipping processing `KeypointsBottomRightPadding` because it resizes the image.\n",
            "[2024-05-10 16:44:55] INFO - pipelines.py - Fusing some of the model's layers. If this takes too much memory, you can deactivate it by setting `fuse_model=False`\n"
          ]
        },
        {
          "output_type": "stream",
          "name": "stdout",
          "text": [
            "Done. (0.147s)\n",
            "inf : (0.0260s/frame)   nms : (0.0013s/frame)\n"
          ]
        },
        {
          "output_type": "stream",
          "name": "stderr",
          "text": [
            "[2024-05-10 16:44:56] INFO - processing.py - Skipping processing `KeypointsLongestMaxSizeRescale` because it resizes the image.\n",
            "[2024-05-10 16:44:56] INFO - processing.py - Skipping processing `KeypointsBottomRightPadding` because it resizes the image.\n",
            "[2024-05-10 16:44:56] INFO - pipelines.py - Fusing some of the model's layers. If this takes too much memory, you can deactivate it by setting `fuse_model=False`\n"
          ]
        },
        {
          "output_type": "stream",
          "name": "stdout",
          "text": [
            "Done. (0.146s)\n",
            "inf : (0.0264s/frame)   nms : (0.0013s/frame)\n"
          ]
        },
        {
          "output_type": "stream",
          "name": "stderr",
          "text": [
            "[2024-05-10 16:44:57] INFO - processing.py - Skipping processing `KeypointsLongestMaxSizeRescale` because it resizes the image.\n",
            "[2024-05-10 16:44:57] INFO - processing.py - Skipping processing `KeypointsBottomRightPadding` because it resizes the image.\n",
            "[2024-05-10 16:44:57] INFO - pipelines.py - Fusing some of the model's layers. If this takes too much memory, you can deactivate it by setting `fuse_model=False`\n"
          ]
        },
        {
          "output_type": "stream",
          "name": "stdout",
          "text": [
            "Done. (0.144s)\n",
            "inf : (0.0259s/frame)   nms : (0.0013s/frame)\n"
          ]
        },
        {
          "output_type": "stream",
          "name": "stderr",
          "text": [
            "[2024-05-10 16:44:58] INFO - processing.py - Skipping processing `KeypointsLongestMaxSizeRescale` because it resizes the image.\n",
            "[2024-05-10 16:44:58] INFO - processing.py - Skipping processing `KeypointsBottomRightPadding` because it resizes the image.\n",
            "[2024-05-10 16:44:58] INFO - pipelines.py - Fusing some of the model's layers. If this takes too much memory, you can deactivate it by setting `fuse_model=False`\n"
          ]
        },
        {
          "output_type": "stream",
          "name": "stdout",
          "text": [
            "Done. (0.145s)\n",
            "inf : (0.0264s/frame)   nms : (0.0013s/frame)\n"
          ]
        },
        {
          "output_type": "stream",
          "name": "stderr",
          "text": [
            "[2024-05-10 16:44:58] INFO - processing.py - Skipping processing `KeypointsLongestMaxSizeRescale` because it resizes the image.\n",
            "[2024-05-10 16:44:58] INFO - processing.py - Skipping processing `KeypointsBottomRightPadding` because it resizes the image.\n",
            "[2024-05-10 16:44:59] INFO - pipelines.py - Fusing some of the model's layers. If this takes too much memory, you can deactivate it by setting `fuse_model=False`\n"
          ]
        },
        {
          "output_type": "stream",
          "name": "stdout",
          "text": [
            "Done. (0.145s)\n",
            "inf : (0.0265s/frame)   nms : (0.0013s/frame)\n"
          ]
        },
        {
          "output_type": "stream",
          "name": "stderr",
          "text": [
            "[2024-05-10 16:44:59] INFO - processing.py - Skipping processing `KeypointsLongestMaxSizeRescale` because it resizes the image.\n",
            "[2024-05-10 16:44:59] INFO - processing.py - Skipping processing `KeypointsBottomRightPadding` because it resizes the image.\n",
            "[2024-05-10 16:44:59] INFO - pipelines.py - Fusing some of the model's layers. If this takes too much memory, you can deactivate it by setting `fuse_model=False`\n"
          ]
        },
        {
          "output_type": "stream",
          "name": "stdout",
          "text": [
            "Done. (0.155s)\n",
            "inf : (0.0334s/frame)   nms : (0.0016s/frame)\n"
          ]
        },
        {
          "output_type": "stream",
          "name": "stderr",
          "text": [
            "[2024-05-10 16:45:00] INFO - processing.py - Skipping processing `KeypointsLongestMaxSizeRescale` because it resizes the image.\n",
            "[2024-05-10 16:45:00] INFO - processing.py - Skipping processing `KeypointsBottomRightPadding` because it resizes the image.\n",
            "[2024-05-10 16:45:00] INFO - pipelines.py - Fusing some of the model's layers. If this takes too much memory, you can deactivate it by setting `fuse_model=False`\n"
          ]
        },
        {
          "output_type": "stream",
          "name": "stdout",
          "text": [
            "Done. (0.151s)\n",
            "inf : (0.0277s/frame)   nms : (0.0014s/frame)\n"
          ]
        },
        {
          "output_type": "stream",
          "name": "stderr",
          "text": [
            "[2024-05-10 16:45:01] INFO - processing.py - Skipping processing `KeypointsLongestMaxSizeRescale` because it resizes the image.\n",
            "[2024-05-10 16:45:01] INFO - processing.py - Skipping processing `KeypointsBottomRightPadding` because it resizes the image.\n",
            "[2024-05-10 16:45:01] INFO - pipelines.py - Fusing some of the model's layers. If this takes too much memory, you can deactivate it by setting `fuse_model=False`\n"
          ]
        },
        {
          "output_type": "stream",
          "name": "stdout",
          "text": [
            "Done. (0.150s)\n",
            "inf : (0.0272s/frame)   nms : (0.0013s/frame)\n"
          ]
        },
        {
          "output_type": "stream",
          "name": "stderr",
          "text": [
            "[2024-05-10 16:45:02] INFO - processing.py - Skipping processing `KeypointsLongestMaxSizeRescale` because it resizes the image.\n",
            "[2024-05-10 16:45:02] INFO - processing.py - Skipping processing `KeypointsBottomRightPadding` because it resizes the image.\n",
            "[2024-05-10 16:45:02] INFO - pipelines.py - Fusing some of the model's layers. If this takes too much memory, you can deactivate it by setting `fuse_model=False`\n"
          ]
        },
        {
          "output_type": "stream",
          "name": "stdout",
          "text": [
            "Done. (0.155s)\n",
            "inf : (0.0337s/frame)   nms : (0.0013s/frame)\n"
          ]
        },
        {
          "output_type": "stream",
          "name": "stderr",
          "text": [
            "[2024-05-10 16:45:03] INFO - processing.py - Skipping processing `KeypointsLongestMaxSizeRescale` because it resizes the image.\n",
            "[2024-05-10 16:45:03] INFO - processing.py - Skipping processing `KeypointsBottomRightPadding` because it resizes the image.\n",
            "[2024-05-10 16:45:03] INFO - pipelines.py - Fusing some of the model's layers. If this takes too much memory, you can deactivate it by setting `fuse_model=False`\n"
          ]
        },
        {
          "output_type": "stream",
          "name": "stdout",
          "text": [
            "Done. (0.146s)\n",
            "inf : (0.0257s/frame)   nms : (0.0013s/frame)\n"
          ]
        },
        {
          "output_type": "stream",
          "name": "stderr",
          "text": [
            "[2024-05-10 16:45:04] INFO - processing.py - Skipping processing `KeypointsLongestMaxSizeRescale` because it resizes the image.\n",
            "[2024-05-10 16:45:04] INFO - processing.py - Skipping processing `KeypointsBottomRightPadding` because it resizes the image.\n",
            "[2024-05-10 16:45:04] INFO - pipelines.py - Fusing some of the model's layers. If this takes too much memory, you can deactivate it by setting `fuse_model=False`\n"
          ]
        },
        {
          "output_type": "stream",
          "name": "stdout",
          "text": [
            "Done. (0.147s)\n",
            "inf : (0.0261s/frame)   nms : (0.0013s/frame)\n"
          ]
        },
        {
          "output_type": "stream",
          "name": "stderr",
          "text": [
            "[2024-05-10 16:45:04] INFO - processing.py - Skipping processing `KeypointsLongestMaxSizeRescale` because it resizes the image.\n",
            "[2024-05-10 16:45:04] INFO - processing.py - Skipping processing `KeypointsBottomRightPadding` because it resizes the image.\n",
            "[2024-05-10 16:45:05] INFO - pipelines.py - Fusing some of the model's layers. If this takes too much memory, you can deactivate it by setting `fuse_model=False`\n"
          ]
        },
        {
          "output_type": "stream",
          "name": "stdout",
          "text": [
            "Done. (0.150s)\n",
            "inf : (0.0277s/frame)   nms : (0.0013s/frame)\n"
          ]
        },
        {
          "output_type": "stream",
          "name": "stderr",
          "text": [
            "[2024-05-10 16:45:05] INFO - processing.py - Skipping processing `KeypointsLongestMaxSizeRescale` because it resizes the image.\n",
            "[2024-05-10 16:45:05] INFO - processing.py - Skipping processing `KeypointsBottomRightPadding` because it resizes the image.\n",
            "[2024-05-10 16:45:05] INFO - pipelines.py - Fusing some of the model's layers. If this takes too much memory, you can deactivate it by setting `fuse_model=False`\n"
          ]
        },
        {
          "output_type": "stream",
          "name": "stdout",
          "text": [
            "Done. (0.150s)\n",
            "inf : (0.0268s/frame)   nms : (0.0013s/frame)\n"
          ]
        },
        {
          "output_type": "stream",
          "name": "stderr",
          "text": [
            "[2024-05-10 16:45:06] INFO - processing.py - Skipping processing `KeypointsLongestMaxSizeRescale` because it resizes the image.\n",
            "[2024-05-10 16:45:06] INFO - processing.py - Skipping processing `KeypointsBottomRightPadding` because it resizes the image.\n",
            "[2024-05-10 16:45:06] INFO - pipelines.py - Fusing some of the model's layers. If this takes too much memory, you can deactivate it by setting `fuse_model=False`\n"
          ]
        },
        {
          "output_type": "stream",
          "name": "stdout",
          "text": [
            "Done. (0.147s)\n",
            "inf : (0.0267s/frame)   nms : (0.0015s/frame)\n"
          ]
        },
        {
          "output_type": "stream",
          "name": "stderr",
          "text": [
            "[2024-05-10 16:45:07] INFO - processing.py - Skipping processing `KeypointsLongestMaxSizeRescale` because it resizes the image.\n",
            "[2024-05-10 16:45:07] INFO - processing.py - Skipping processing `KeypointsBottomRightPadding` because it resizes the image.\n",
            "[2024-05-10 16:45:07] INFO - pipelines.py - Fusing some of the model's layers. If this takes too much memory, you can deactivate it by setting `fuse_model=False`\n"
          ]
        },
        {
          "output_type": "stream",
          "name": "stdout",
          "text": [
            "Done. (0.147s)\n",
            "inf : (0.0260s/frame)   nms : (0.0013s/frame)\n"
          ]
        },
        {
          "output_type": "stream",
          "name": "stderr",
          "text": [
            "[2024-05-10 16:45:07] INFO - processing.py - Skipping processing `KeypointsLongestMaxSizeRescale` because it resizes the image.\n",
            "[2024-05-10 16:45:07] INFO - processing.py - Skipping processing `KeypointsBottomRightPadding` because it resizes the image.\n",
            "[2024-05-10 16:45:08] INFO - pipelines.py - Fusing some of the model's layers. If this takes too much memory, you can deactivate it by setting `fuse_model=False`\n"
          ]
        },
        {
          "output_type": "stream",
          "name": "stdout",
          "text": [
            "Done. (0.147s)\n",
            "inf : (0.0262s/frame)   nms : (0.0013s/frame)\n"
          ]
        },
        {
          "output_type": "stream",
          "name": "stderr",
          "text": [
            "[2024-05-10 16:45:08] INFO - processing.py - Skipping processing `KeypointsLongestMaxSizeRescale` because it resizes the image.\n",
            "[2024-05-10 16:45:08] INFO - processing.py - Skipping processing `KeypointsBottomRightPadding` because it resizes the image.\n",
            "[2024-05-10 16:45:08] INFO - pipelines.py - Fusing some of the model's layers. If this takes too much memory, you can deactivate it by setting `fuse_model=False`\n"
          ]
        },
        {
          "output_type": "stream",
          "name": "stdout",
          "text": [
            "Done. (0.147s)\n",
            "inf : (0.0260s/frame)   nms : (0.0013s/frame)\n"
          ]
        },
        {
          "output_type": "stream",
          "name": "stderr",
          "text": [
            "[2024-05-10 16:45:09] INFO - processing.py - Skipping processing `KeypointsLongestMaxSizeRescale` because it resizes the image.\n",
            "[2024-05-10 16:45:09] INFO - processing.py - Skipping processing `KeypointsBottomRightPadding` because it resizes the image.\n",
            "[2024-05-10 16:45:09] INFO - pipelines.py - Fusing some of the model's layers. If this takes too much memory, you can deactivate it by setting `fuse_model=False`\n"
          ]
        },
        {
          "output_type": "stream",
          "name": "stdout",
          "text": [
            "Done. (0.146s)\n",
            "inf : (0.0252s/frame)   nms : (0.0012s/frame)\n"
          ]
        },
        {
          "output_type": "stream",
          "name": "stderr",
          "text": [
            "[2024-05-10 16:45:10] INFO - processing.py - Skipping processing `KeypointsLongestMaxSizeRescale` because it resizes the image.\n",
            "[2024-05-10 16:45:10] INFO - processing.py - Skipping processing `KeypointsBottomRightPadding` because it resizes the image.\n",
            "[2024-05-10 16:45:10] INFO - pipelines.py - Fusing some of the model's layers. If this takes too much memory, you can deactivate it by setting `fuse_model=False`\n"
          ]
        },
        {
          "output_type": "stream",
          "name": "stdout",
          "text": [
            "Done. (0.147s)\n",
            "inf : (0.0259s/frame)   nms : (0.0013s/frame)\n"
          ]
        },
        {
          "output_type": "stream",
          "name": "stderr",
          "text": [
            "[2024-05-10 16:45:10] INFO - processing.py - Skipping processing `KeypointsLongestMaxSizeRescale` because it resizes the image.\n",
            "[2024-05-10 16:45:10] INFO - processing.py - Skipping processing `KeypointsBottomRightPadding` because it resizes the image.\n",
            "[2024-05-10 16:45:10] INFO - pipelines.py - Fusing some of the model's layers. If this takes too much memory, you can deactivate it by setting `fuse_model=False`\n"
          ]
        },
        {
          "output_type": "stream",
          "name": "stdout",
          "text": [
            "Done. (0.145s)\n",
            "inf : (0.0256s/frame)   nms : (0.0013s/frame)\n"
          ]
        },
        {
          "output_type": "stream",
          "name": "stderr",
          "text": [
            "[2024-05-10 16:45:11] INFO - processing.py - Skipping processing `KeypointsLongestMaxSizeRescale` because it resizes the image.\n",
            "[2024-05-10 16:45:11] INFO - processing.py - Skipping processing `KeypointsBottomRightPadding` because it resizes the image.\n",
            "[2024-05-10 16:45:11] INFO - pipelines.py - Fusing some of the model's layers. If this takes too much memory, you can deactivate it by setting `fuse_model=False`\n"
          ]
        },
        {
          "output_type": "stream",
          "name": "stdout",
          "text": [
            "Done. (0.145s)\n",
            "inf : (0.0257s/frame)   nms : (0.0013s/frame)\n"
          ]
        },
        {
          "output_type": "stream",
          "name": "stderr",
          "text": [
            "[2024-05-10 16:45:12] INFO - processing.py - Skipping processing `KeypointsLongestMaxSizeRescale` because it resizes the image.\n",
            "[2024-05-10 16:45:12] INFO - processing.py - Skipping processing `KeypointsBottomRightPadding` because it resizes the image.\n",
            "[2024-05-10 16:45:12] INFO - pipelines.py - Fusing some of the model's layers. If this takes too much memory, you can deactivate it by setting `fuse_model=False`\n",
            "[2024-05-10 16:45:13] INFO - processing.py - Skipping processing `KeypointsLongestMaxSizeRescale` because it resizes the image.\n",
            "[2024-05-10 16:45:13] INFO - processing.py - Skipping processing `KeypointsBottomRightPadding` because it resizes the image.\n"
          ]
        },
        {
          "output_type": "stream",
          "name": "stdout",
          "text": [
            "Done. (0.152s)\n",
            "inf : (0.0292s/frame)   nms : (0.0013s/frame)\n"
          ]
        },
        {
          "output_type": "stream",
          "name": "stderr",
          "text": [
            "[2024-05-10 16:45:13] INFO - pipelines.py - Fusing some of the model's layers. If this takes too much memory, you can deactivate it by setting `fuse_model=False`\n",
            "[2024-05-10 16:45:13] INFO - processing.py - Skipping processing `KeypointsLongestMaxSizeRescale` because it resizes the image.\n",
            "[2024-05-10 16:45:13] INFO - processing.py - Skipping processing `KeypointsBottomRightPadding` because it resizes the image.\n"
          ]
        },
        {
          "output_type": "stream",
          "name": "stdout",
          "text": [
            "Done. (0.154s)\n",
            "inf : (0.0333s/frame)   nms : (0.0016s/frame)\n"
          ]
        },
        {
          "output_type": "stream",
          "name": "stderr",
          "text": [
            "[2024-05-10 16:45:13] INFO - pipelines.py - Fusing some of the model's layers. If this takes too much memory, you can deactivate it by setting `fuse_model=False`\n",
            "[2024-05-10 16:45:14] INFO - processing.py - Skipping processing `KeypointsLongestMaxSizeRescale` because it resizes the image.\n",
            "[2024-05-10 16:45:14] INFO - processing.py - Skipping processing `KeypointsBottomRightPadding` because it resizes the image.\n"
          ]
        },
        {
          "output_type": "stream",
          "name": "stdout",
          "text": [
            "Done. (0.165s)\n",
            "inf : (0.0334s/frame)   nms : (0.0016s/frame)\n"
          ]
        },
        {
          "output_type": "stream",
          "name": "stderr",
          "text": [
            "[2024-05-10 16:45:14] INFO - pipelines.py - Fusing some of the model's layers. If this takes too much memory, you can deactivate it by setting `fuse_model=False`\n",
            "[2024-05-10 16:45:14] INFO - processing.py - Skipping processing `KeypointsLongestMaxSizeRescale` because it resizes the image.\n",
            "[2024-05-10 16:45:14] INFO - processing.py - Skipping processing `KeypointsBottomRightPadding` because it resizes the image.\n"
          ]
        },
        {
          "output_type": "stream",
          "name": "stdout",
          "text": [
            "Done. (0.154s)\n",
            "inf : (0.0309s/frame)   nms : (0.0013s/frame)\n"
          ]
        },
        {
          "output_type": "stream",
          "name": "stderr",
          "text": [
            "[2024-05-10 16:45:15] INFO - pipelines.py - Fusing some of the model's layers. If this takes too much memory, you can deactivate it by setting `fuse_model=False`\n",
            "[2024-05-10 16:45:15] INFO - processing.py - Skipping processing `KeypointsLongestMaxSizeRescale` because it resizes the image.\n",
            "[2024-05-10 16:45:15] INFO - processing.py - Skipping processing `KeypointsBottomRightPadding` because it resizes the image.\n"
          ]
        },
        {
          "output_type": "stream",
          "name": "stdout",
          "text": [
            "Done. (0.150s)\n",
            "inf : (0.0267s/frame)   nms : (0.0013s/frame)\n"
          ]
        },
        {
          "output_type": "stream",
          "name": "stderr",
          "text": [
            "[2024-05-10 16:45:15] INFO - pipelines.py - Fusing some of the model's layers. If this takes too much memory, you can deactivate it by setting `fuse_model=False`\n",
            "[2024-05-10 16:45:16] INFO - processing.py - Skipping processing `KeypointsLongestMaxSizeRescale` because it resizes the image.\n",
            "[2024-05-10 16:45:16] INFO - processing.py - Skipping processing `KeypointsBottomRightPadding` because it resizes the image.\n"
          ]
        },
        {
          "output_type": "stream",
          "name": "stdout",
          "text": [
            "Done. (0.151s)\n",
            "inf : (0.0262s/frame)   nms : (0.0013s/frame)\n"
          ]
        },
        {
          "output_type": "stream",
          "name": "stderr",
          "text": [
            "[2024-05-10 16:45:16] INFO - pipelines.py - Fusing some of the model's layers. If this takes too much memory, you can deactivate it by setting `fuse_model=False`\n"
          ]
        },
        {
          "output_type": "stream",
          "name": "stdout",
          "text": [
            "Done. (0.149s)\n",
            "inf : (0.0264s/frame)   nms : (0.0013s/frame)\n"
          ]
        },
        {
          "output_type": "stream",
          "name": "stderr",
          "text": [
            "[2024-05-10 16:45:16] INFO - processing.py - Skipping processing `KeypointsLongestMaxSizeRescale` because it resizes the image.\n",
            "[2024-05-10 16:45:16] INFO - processing.py - Skipping processing `KeypointsBottomRightPadding` because it resizes the image.\n",
            "[2024-05-10 16:45:16] INFO - pipelines.py - Fusing some of the model's layers. If this takes too much memory, you can deactivate it by setting `fuse_model=False`\n",
            "[2024-05-10 16:45:17] INFO - processing.py - Skipping processing `KeypointsLongestMaxSizeRescale` because it resizes the image.\n",
            "[2024-05-10 16:45:17] INFO - processing.py - Skipping processing `KeypointsBottomRightPadding` because it resizes the image.\n"
          ]
        },
        {
          "output_type": "stream",
          "name": "stdout",
          "text": [
            "Done. (0.149s)\n",
            "inf : (0.0267s/frame)   nms : (0.0013s/frame)\n"
          ]
        },
        {
          "output_type": "stream",
          "name": "stderr",
          "text": [
            "[2024-05-10 16:45:17] INFO - pipelines.py - Fusing some of the model's layers. If this takes too much memory, you can deactivate it by setting `fuse_model=False`\n"
          ]
        },
        {
          "output_type": "stream",
          "name": "stdout",
          "text": [
            "Done. (0.148s)\n",
            "inf : (0.0260s/frame)   nms : (0.0013s/frame)\n"
          ]
        },
        {
          "output_type": "stream",
          "name": "stderr",
          "text": [
            "[2024-05-10 16:45:18] INFO - processing.py - Skipping processing `KeypointsLongestMaxSizeRescale` because it resizes the image.\n",
            "[2024-05-10 16:45:18] INFO - processing.py - Skipping processing `KeypointsBottomRightPadding` because it resizes the image.\n",
            "[2024-05-10 16:45:18] INFO - pipelines.py - Fusing some of the model's layers. If this takes too much memory, you can deactivate it by setting `fuse_model=False`\n",
            "[2024-05-10 16:45:18] INFO - processing.py - Skipping processing `KeypointsLongestMaxSizeRescale` because it resizes the image.\n",
            "[2024-05-10 16:45:18] INFO - processing.py - Skipping processing `KeypointsBottomRightPadding` because it resizes the image.\n"
          ]
        },
        {
          "output_type": "stream",
          "name": "stdout",
          "text": [
            "Done. (0.151s)\n",
            "inf : (0.0269s/frame)   nms : (0.0013s/frame)\n"
          ]
        },
        {
          "output_type": "stream",
          "name": "stderr",
          "text": [
            "[2024-05-10 16:45:18] INFO - pipelines.py - Fusing some of the model's layers. If this takes too much memory, you can deactivate it by setting `fuse_model=False`\n",
            "[2024-05-10 16:45:19] INFO - processing.py - Skipping processing `KeypointsLongestMaxSizeRescale` because it resizes the image.\n",
            "[2024-05-10 16:45:19] INFO - processing.py - Skipping processing `KeypointsBottomRightPadding` because it resizes the image.\n"
          ]
        },
        {
          "output_type": "stream",
          "name": "stdout",
          "text": [
            "Done. (0.151s)\n",
            "inf : (0.0259s/frame)   nms : (0.0013s/frame)\n"
          ]
        },
        {
          "output_type": "stream",
          "name": "stderr",
          "text": [
            "[2024-05-10 16:45:19] INFO - pipelines.py - Fusing some of the model's layers. If this takes too much memory, you can deactivate it by setting `fuse_model=False`\n",
            "[2024-05-10 16:45:19] INFO - processing.py - Skipping processing `KeypointsLongestMaxSizeRescale` because it resizes the image.\n",
            "[2024-05-10 16:45:19] INFO - processing.py - Skipping processing `KeypointsBottomRightPadding` because it resizes the image.\n",
            "[2024-05-10 16:45:19] INFO - pipelines.py - Fusing some of the model's layers. If this takes too much memory, you can deactivate it by setting `fuse_model=False`\n"
          ]
        },
        {
          "output_type": "stream",
          "name": "stdout",
          "text": [
            "Done. (0.156s)\n",
            "inf : (0.0258s/frame)   nms : (0.0013s/frame)\n"
          ]
        },
        {
          "output_type": "stream",
          "name": "stderr",
          "text": [
            "[2024-05-10 16:45:20] INFO - processing.py - Skipping processing `KeypointsLongestMaxSizeRescale` because it resizes the image.\n",
            "[2024-05-10 16:45:20] INFO - processing.py - Skipping processing `KeypointsBottomRightPadding` because it resizes the image.\n"
          ]
        },
        {
          "output_type": "stream",
          "name": "stdout",
          "text": [
            "Done. (0.154s)\n",
            "inf : (0.0259s/frame)   nms : (0.0013s/frame)\n"
          ]
        },
        {
          "output_type": "stream",
          "name": "stderr",
          "text": [
            "[2024-05-10 16:45:20] INFO - pipelines.py - Fusing some of the model's layers. If this takes too much memory, you can deactivate it by setting `fuse_model=False`\n",
            "[2024-05-10 16:45:21] INFO - processing.py - Skipping processing `KeypointsLongestMaxSizeRescale` because it resizes the image.\n",
            "[2024-05-10 16:45:21] INFO - processing.py - Skipping processing `KeypointsBottomRightPadding` because it resizes the image.\n"
          ]
        },
        {
          "output_type": "stream",
          "name": "stdout",
          "text": [
            "Done. (0.155s)\n",
            "inf : (0.0259s/frame)   nms : (0.0013s/frame)\n"
          ]
        },
        {
          "output_type": "stream",
          "name": "stderr",
          "text": [
            "[2024-05-10 16:45:21] INFO - pipelines.py - Fusing some of the model's layers. If this takes too much memory, you can deactivate it by setting `fuse_model=False`\n",
            "[2024-05-10 16:45:21] INFO - processing.py - Skipping processing `KeypointsLongestMaxSizeRescale` because it resizes the image.\n",
            "[2024-05-10 16:45:21] INFO - processing.py - Skipping processing `KeypointsBottomRightPadding` because it resizes the image.\n",
            "[2024-05-10 16:45:21] INFO - pipelines.py - Fusing some of the model's layers. If this takes too much memory, you can deactivate it by setting `fuse_model=False`\n"
          ]
        },
        {
          "output_type": "stream",
          "name": "stdout",
          "text": [
            "Done. (0.160s)\n",
            "inf : (0.0332s/frame)   nms : (0.0016s/frame)\n"
          ]
        },
        {
          "output_type": "stream",
          "name": "stderr",
          "text": [
            "[2024-05-10 16:45:22] INFO - processing.py - Skipping processing `KeypointsLongestMaxSizeRescale` because it resizes the image.\n",
            "[2024-05-10 16:45:22] INFO - processing.py - Skipping processing `KeypointsBottomRightPadding` because it resizes the image.\n",
            "[2024-05-10 16:45:22] INFO - pipelines.py - Fusing some of the model's layers. If this takes too much memory, you can deactivate it by setting `fuse_model=False`\n"
          ]
        },
        {
          "output_type": "stream",
          "name": "stdout",
          "text": [
            "Done. (0.154s)\n",
            "inf : (0.0268s/frame)   nms : (0.0013s/frame)\n"
          ]
        },
        {
          "output_type": "stream",
          "name": "stderr",
          "text": [
            "[2024-05-10 16:45:23] INFO - processing.py - Skipping processing `KeypointsLongestMaxSizeRescale` because it resizes the image.\n",
            "[2024-05-10 16:45:23] INFO - processing.py - Skipping processing `KeypointsBottomRightPadding` because it resizes the image.\n"
          ]
        },
        {
          "output_type": "stream",
          "name": "stdout",
          "text": [
            "Done. (0.153s)\n",
            "inf : (0.0261s/frame)   nms : (0.0013s/frame)\n"
          ]
        },
        {
          "output_type": "stream",
          "name": "stderr",
          "text": [
            "[2024-05-10 16:45:23] INFO - pipelines.py - Fusing some of the model's layers. If this takes too much memory, you can deactivate it by setting `fuse_model=False`\n",
            "[2024-05-10 16:45:23] INFO - processing.py - Skipping processing `KeypointsLongestMaxSizeRescale` because it resizes the image.\n",
            "[2024-05-10 16:45:23] INFO - processing.py - Skipping processing `KeypointsBottomRightPadding` because it resizes the image.\n"
          ]
        },
        {
          "output_type": "stream",
          "name": "stdout",
          "text": [
            "Done. (0.154s)\n",
            "inf : (0.0260s/frame)   nms : (0.0013s/frame)\n"
          ]
        },
        {
          "output_type": "stream",
          "name": "stderr",
          "text": [
            "[2024-05-10 16:45:23] INFO - pipelines.py - Fusing some of the model's layers. If this takes too much memory, you can deactivate it by setting `fuse_model=False`\n"
          ]
        },
        {
          "output_type": "stream",
          "name": "stdout",
          "text": [
            "Done. (0.155s)\n",
            "inf : (0.0267s/frame)   nms : (0.0013s/frame)\n"
          ]
        },
        {
          "output_type": "stream",
          "name": "stderr",
          "text": [
            "[2024-05-10 16:45:24] INFO - processing.py - Skipping processing `KeypointsLongestMaxSizeRescale` because it resizes the image.\n",
            "[2024-05-10 16:45:24] INFO - processing.py - Skipping processing `KeypointsBottomRightPadding` because it resizes the image.\n",
            "[2024-05-10 16:45:24] INFO - pipelines.py - Fusing some of the model's layers. If this takes too much memory, you can deactivate it by setting `fuse_model=False`\n"
          ]
        },
        {
          "output_type": "stream",
          "name": "stdout",
          "text": [
            "Done. (0.159s)\n",
            "inf : (0.0263s/frame)   nms : (0.0013s/frame)\n"
          ]
        },
        {
          "output_type": "stream",
          "name": "stderr",
          "text": [
            "[2024-05-10 16:45:25] INFO - processing.py - Skipping processing `KeypointsLongestMaxSizeRescale` because it resizes the image.\n",
            "[2024-05-10 16:45:25] INFO - processing.py - Skipping processing `KeypointsBottomRightPadding` because it resizes the image.\n",
            "[2024-05-10 16:45:25] INFO - pipelines.py - Fusing some of the model's layers. If this takes too much memory, you can deactivate it by setting `fuse_model=False`\n"
          ]
        },
        {
          "output_type": "stream",
          "name": "stdout",
          "text": [
            "Done. (0.162s)\n",
            "inf : (0.0334s/frame)   nms : (0.0016s/frame)\n"
          ]
        },
        {
          "output_type": "stream",
          "name": "stderr",
          "text": [
            "[2024-05-10 16:45:25] INFO - processing.py - Skipping processing `KeypointsLongestMaxSizeRescale` because it resizes the image.\n",
            "[2024-05-10 16:45:25] INFO - processing.py - Skipping processing `KeypointsBottomRightPadding` because it resizes the image.\n",
            "[2024-05-10 16:45:25] INFO - pipelines.py - Fusing some of the model's layers. If this takes too much memory, you can deactivate it by setting `fuse_model=False`\n"
          ]
        },
        {
          "output_type": "stream",
          "name": "stdout",
          "text": [
            "Done. (0.156s)\n",
            "inf : (0.0270s/frame)   nms : (0.0013s/frame)\n"
          ]
        },
        {
          "output_type": "stream",
          "name": "stderr",
          "text": [
            "[2024-05-10 16:45:26] INFO - processing.py - Skipping processing `KeypointsLongestMaxSizeRescale` because it resizes the image.\n",
            "[2024-05-10 16:45:26] INFO - processing.py - Skipping processing `KeypointsBottomRightPadding` because it resizes the image.\n",
            "[2024-05-10 16:45:26] INFO - pipelines.py - Fusing some of the model's layers. If this takes too much memory, you can deactivate it by setting `fuse_model=False`\n"
          ]
        },
        {
          "output_type": "stream",
          "name": "stdout",
          "text": [
            "Done. (0.163s)\n",
            "inf : (0.0336s/frame)   nms : (0.0019s/frame)\n"
          ]
        },
        {
          "output_type": "stream",
          "name": "stderr",
          "text": [
            "[2024-05-10 16:45:27] INFO - processing.py - Skipping processing `KeypointsLongestMaxSizeRescale` because it resizes the image.\n",
            "[2024-05-10 16:45:27] INFO - processing.py - Skipping processing `KeypointsBottomRightPadding` because it resizes the image.\n",
            "[2024-05-10 16:45:27] INFO - pipelines.py - Fusing some of the model's layers. If this takes too much memory, you can deactivate it by setting `fuse_model=False`\n"
          ]
        },
        {
          "output_type": "stream",
          "name": "stdout",
          "text": [
            "Done. (0.162s)\n",
            "inf : (0.0329s/frame)   nms : (0.0016s/frame)\n"
          ]
        },
        {
          "output_type": "stream",
          "name": "stderr",
          "text": [
            "[2024-05-10 16:45:28] INFO - processing.py - Skipping processing `KeypointsLongestMaxSizeRescale` because it resizes the image.\n",
            "[2024-05-10 16:45:28] INFO - processing.py - Skipping processing `KeypointsBottomRightPadding` because it resizes the image.\n",
            "[2024-05-10 16:45:28] INFO - pipelines.py - Fusing some of the model's layers. If this takes too much memory, you can deactivate it by setting `fuse_model=False`\n"
          ]
        },
        {
          "output_type": "stream",
          "name": "stdout",
          "text": [
            "Done. (0.154s)\n",
            "inf : (0.0263s/frame)   nms : (0.0013s/frame)\n"
          ]
        },
        {
          "output_type": "stream",
          "name": "stderr",
          "text": [
            "[2024-05-10 16:45:28] INFO - processing.py - Skipping processing `KeypointsLongestMaxSizeRescale` because it resizes the image.\n",
            "[2024-05-10 16:45:28] INFO - processing.py - Skipping processing `KeypointsBottomRightPadding` because it resizes the image.\n",
            "[2024-05-10 16:45:28] INFO - pipelines.py - Fusing some of the model's layers. If this takes too much memory, you can deactivate it by setting `fuse_model=False`\n"
          ]
        },
        {
          "output_type": "stream",
          "name": "stdout",
          "text": [
            "Done. (0.165s)\n",
            "inf : (0.0341s/frame)   nms : (0.0017s/frame)\n"
          ]
        },
        {
          "output_type": "stream",
          "name": "stderr",
          "text": [
            "[2024-05-10 16:45:29] INFO - processing.py - Skipping processing `KeypointsLongestMaxSizeRescale` because it resizes the image.\n",
            "[2024-05-10 16:45:29] INFO - processing.py - Skipping processing `KeypointsBottomRightPadding` because it resizes the image.\n",
            "[2024-05-10 16:45:29] INFO - pipelines.py - Fusing some of the model's layers. If this takes too much memory, you can deactivate it by setting `fuse_model=False`\n"
          ]
        },
        {
          "output_type": "stream",
          "name": "stdout",
          "text": [
            "Done. (0.155s)\n",
            "inf : (0.0256s/frame)   nms : (0.0013s/frame)\n"
          ]
        },
        {
          "output_type": "stream",
          "name": "stderr",
          "text": [
            "[2024-05-10 16:45:30] INFO - processing.py - Skipping processing `KeypointsLongestMaxSizeRescale` because it resizes the image.\n",
            "[2024-05-10 16:45:30] INFO - processing.py - Skipping processing `KeypointsBottomRightPadding` because it resizes the image.\n",
            "[2024-05-10 16:45:30] INFO - pipelines.py - Fusing some of the model's layers. If this takes too much memory, you can deactivate it by setting `fuse_model=False`\n",
            "[2024-05-10 16:45:30] INFO - processing.py - Skipping processing `KeypointsLongestMaxSizeRescale` because it resizes the image.\n",
            "[2024-05-10 16:45:30] INFO - processing.py - Skipping processing `KeypointsBottomRightPadding` because it resizes the image.\n"
          ]
        },
        {
          "output_type": "stream",
          "name": "stdout",
          "text": [
            "Done. (0.155s)\n",
            "inf : (0.0256s/frame)   nms : (0.0012s/frame)\n"
          ]
        },
        {
          "output_type": "stream",
          "name": "stderr",
          "text": [
            "[2024-05-10 16:45:31] INFO - pipelines.py - Fusing some of the model's layers. If this takes too much memory, you can deactivate it by setting `fuse_model=False`\n",
            "[2024-05-10 16:45:31] INFO - processing.py - Skipping processing `KeypointsLongestMaxSizeRescale` because it resizes the image.\n",
            "[2024-05-10 16:45:31] INFO - processing.py - Skipping processing `KeypointsBottomRightPadding` because it resizes the image.\n"
          ]
        },
        {
          "output_type": "stream",
          "name": "stdout",
          "text": [
            "Done. (0.155s)\n",
            "inf : (0.0261s/frame)   nms : (0.0012s/frame)\n"
          ]
        },
        {
          "output_type": "stream",
          "name": "stderr",
          "text": [
            "[2024-05-10 16:45:31] INFO - pipelines.py - Fusing some of the model's layers. If this takes too much memory, you can deactivate it by setting `fuse_model=False`\n",
            "[2024-05-10 16:45:32] INFO - processing.py - Skipping processing `KeypointsLongestMaxSizeRescale` because it resizes the image.\n",
            "[2024-05-10 16:45:32] INFO - processing.py - Skipping processing `KeypointsBottomRightPadding` because it resizes the image.\n"
          ]
        },
        {
          "output_type": "stream",
          "name": "stdout",
          "text": [
            "Done. (0.154s)\n",
            "inf : (0.0261s/frame)   nms : (0.0013s/frame)\n"
          ]
        },
        {
          "output_type": "stream",
          "name": "stderr",
          "text": [
            "[2024-05-10 16:45:32] INFO - pipelines.py - Fusing some of the model's layers. If this takes too much memory, you can deactivate it by setting `fuse_model=False`\n",
            "[2024-05-10 16:45:32] INFO - processing.py - Skipping processing `KeypointsLongestMaxSizeRescale` because it resizes the image.\n",
            "[2024-05-10 16:45:32] INFO - processing.py - Skipping processing `KeypointsBottomRightPadding` because it resizes the image.\n",
            "[2024-05-10 16:45:32] INFO - pipelines.py - Fusing some of the model's layers. If this takes too much memory, you can deactivate it by setting `fuse_model=False`\n"
          ]
        },
        {
          "output_type": "stream",
          "name": "stdout",
          "text": [
            "Done. (0.153s)\n",
            "inf : (0.0260s/frame)   nms : (0.0013s/frame)\n"
          ]
        },
        {
          "output_type": "stream",
          "name": "stderr",
          "text": [
            "[2024-05-10 16:45:33] INFO - processing.py - Skipping processing `KeypointsLongestMaxSizeRescale` because it resizes the image.\n",
            "[2024-05-10 16:45:33] INFO - processing.py - Skipping processing `KeypointsBottomRightPadding` because it resizes the image.\n"
          ]
        },
        {
          "output_type": "stream",
          "name": "stdout",
          "text": [
            "Done. (0.155s)\n",
            "inf : (0.0267s/frame)   nms : (0.0013s/frame)\n"
          ]
        },
        {
          "output_type": "stream",
          "name": "stderr",
          "text": [
            "[2024-05-10 16:45:33] INFO - pipelines.py - Fusing some of the model's layers. If this takes too much memory, you can deactivate it by setting `fuse_model=False`\n",
            "[2024-05-10 16:45:34] INFO - processing.py - Skipping processing `KeypointsLongestMaxSizeRescale` because it resizes the image.\n",
            "[2024-05-10 16:45:34] INFO - processing.py - Skipping processing `KeypointsBottomRightPadding` because it resizes the image.\n"
          ]
        },
        {
          "output_type": "stream",
          "name": "stdout",
          "text": [
            "Done. (0.156s)\n",
            "inf : (0.0266s/frame)   nms : (0.0013s/frame)\n"
          ]
        },
        {
          "output_type": "stream",
          "name": "stderr",
          "text": [
            "[2024-05-10 16:45:34] INFO - pipelines.py - Fusing some of the model's layers. If this takes too much memory, you can deactivate it by setting `fuse_model=False`\n",
            "[2024-05-10 16:45:34] INFO - processing.py - Skipping processing `KeypointsLongestMaxSizeRescale` because it resizes the image.\n",
            "[2024-05-10 16:45:34] INFO - processing.py - Skipping processing `KeypointsBottomRightPadding` because it resizes the image.\n"
          ]
        },
        {
          "output_type": "stream",
          "name": "stdout",
          "text": [
            "Done. (0.156s)\n",
            "inf : (0.0274s/frame)   nms : (0.0013s/frame)\n"
          ]
        },
        {
          "output_type": "stream",
          "name": "stderr",
          "text": [
            "[2024-05-10 16:45:35] INFO - pipelines.py - Fusing some of the model's layers. If this takes too much memory, you can deactivate it by setting `fuse_model=False`\n",
            "[2024-05-10 16:45:35] INFO - processing.py - Skipping processing `KeypointsLongestMaxSizeRescale` because it resizes the image.\n",
            "[2024-05-10 16:45:35] INFO - processing.py - Skipping processing `KeypointsBottomRightPadding` because it resizes the image.\n"
          ]
        },
        {
          "output_type": "stream",
          "name": "stdout",
          "text": [
            "Done. (0.154s)\n",
            "inf : (0.0260s/frame)   nms : (0.0013s/frame)\n"
          ]
        },
        {
          "output_type": "stream",
          "name": "stderr",
          "text": [
            "[2024-05-10 16:45:35] INFO - pipelines.py - Fusing some of the model's layers. If this takes too much memory, you can deactivate it by setting `fuse_model=False`\n",
            "[2024-05-10 16:45:36] INFO - processing.py - Skipping processing `KeypointsLongestMaxSizeRescale` because it resizes the image.\n",
            "[2024-05-10 16:45:36] INFO - processing.py - Skipping processing `KeypointsBottomRightPadding` because it resizes the image.\n"
          ]
        },
        {
          "output_type": "stream",
          "name": "stdout",
          "text": [
            "Done. (0.154s)\n",
            "inf : (0.0264s/frame)   nms : (0.0012s/frame)\n"
          ]
        },
        {
          "output_type": "stream",
          "name": "stderr",
          "text": [
            "[2024-05-10 16:45:36] INFO - pipelines.py - Fusing some of the model's layers. If this takes too much memory, you can deactivate it by setting `fuse_model=False`\n",
            "[2024-05-10 16:45:36] INFO - processing.py - Skipping processing `KeypointsLongestMaxSizeRescale` because it resizes the image.\n",
            "[2024-05-10 16:45:36] INFO - processing.py - Skipping processing `KeypointsBottomRightPadding` because it resizes the image.\n"
          ]
        },
        {
          "output_type": "stream",
          "name": "stdout",
          "text": [
            "Done. (0.155s)\n",
            "inf : (0.0273s/frame)   nms : (0.0013s/frame)\n"
          ]
        },
        {
          "output_type": "stream",
          "name": "stderr",
          "text": [
            "[2024-05-10 16:45:36] INFO - pipelines.py - Fusing some of the model's layers. If this takes too much memory, you can deactivate it by setting `fuse_model=False`\n",
            "[2024-05-10 16:45:37] INFO - processing.py - Skipping processing `KeypointsLongestMaxSizeRescale` because it resizes the image.\n",
            "[2024-05-10 16:45:37] INFO - processing.py - Skipping processing `KeypointsBottomRightPadding` because it resizes the image.\n"
          ]
        },
        {
          "output_type": "stream",
          "name": "stdout",
          "text": [
            "Done. (0.162s)\n",
            "inf : (0.0279s/frame)   nms : (0.0013s/frame)\n"
          ]
        },
        {
          "output_type": "stream",
          "name": "stderr",
          "text": [
            "[2024-05-10 16:45:37] INFO - pipelines.py - Fusing some of the model's layers. If this takes too much memory, you can deactivate it by setting `fuse_model=False`\n",
            "[2024-05-10 16:45:37] INFO - processing.py - Skipping processing `KeypointsLongestMaxSizeRescale` because it resizes the image.\n",
            "[2024-05-10 16:45:37] INFO - processing.py - Skipping processing `KeypointsBottomRightPadding` because it resizes the image.\n"
          ]
        },
        {
          "output_type": "stream",
          "name": "stdout",
          "text": [
            "Done. (0.165s)\n",
            "inf : (0.0334s/frame)   nms : (0.0016s/frame)\n"
          ]
        },
        {
          "output_type": "stream",
          "name": "stderr",
          "text": [
            "[2024-05-10 16:45:37] INFO - pipelines.py - Fusing some of the model's layers. If this takes too much memory, you can deactivate it by setting `fuse_model=False`\n",
            "[2024-05-10 16:45:38] INFO - processing.py - Skipping processing `KeypointsLongestMaxSizeRescale` because it resizes the image.\n",
            "[2024-05-10 16:45:38] INFO - processing.py - Skipping processing `KeypointsBottomRightPadding` because it resizes the image.\n",
            "[2024-05-10 16:45:38] INFO - pipelines.py - Fusing some of the model's layers. If this takes too much memory, you can deactivate it by setting `fuse_model=False`\n"
          ]
        },
        {
          "output_type": "stream",
          "name": "stdout",
          "text": [
            "Done. (0.156s)\n",
            "inf : (0.0266s/frame)   nms : (0.0013s/frame)\n"
          ]
        },
        {
          "output_type": "stream",
          "name": "stderr",
          "text": [
            "[2024-05-10 16:45:39] INFO - processing.py - Skipping processing `KeypointsLongestMaxSizeRescale` because it resizes the image.\n",
            "[2024-05-10 16:45:39] INFO - processing.py - Skipping processing `KeypointsBottomRightPadding` because it resizes the image.\n"
          ]
        },
        {
          "output_type": "stream",
          "name": "stdout",
          "text": [
            "Done. (0.157s)\n",
            "inf : (0.0265s/frame)   nms : (0.0013s/frame)\n"
          ]
        },
        {
          "output_type": "stream",
          "name": "stderr",
          "text": [
            "[2024-05-10 16:45:39] INFO - pipelines.py - Fusing some of the model's layers. If this takes too much memory, you can deactivate it by setting `fuse_model=False`\n",
            "[2024-05-10 16:45:39] INFO - processing.py - Skipping processing `KeypointsLongestMaxSizeRescale` because it resizes the image.\n",
            "[2024-05-10 16:45:39] INFO - processing.py - Skipping processing `KeypointsBottomRightPadding` because it resizes the image.\n",
            "[2024-05-10 16:45:39] INFO - pipelines.py - Fusing some of the model's layers. If this takes too much memory, you can deactivate it by setting `fuse_model=False`\n"
          ]
        },
        {
          "output_type": "stream",
          "name": "stdout",
          "text": [
            "Done. (0.157s)\n",
            "inf : (0.0278s/frame)   nms : (0.0013s/frame)\n"
          ]
        },
        {
          "output_type": "stream",
          "name": "stderr",
          "text": [
            "[2024-05-10 16:45:40] INFO - processing.py - Skipping processing `KeypointsLongestMaxSizeRescale` because it resizes the image.\n",
            "[2024-05-10 16:45:40] INFO - processing.py - Skipping processing `KeypointsBottomRightPadding` because it resizes the image.\n"
          ]
        },
        {
          "output_type": "stream",
          "name": "stdout",
          "text": [
            "Done. (0.157s)\n",
            "inf : (0.0270s/frame)   nms : (0.0013s/frame)\n"
          ]
        },
        {
          "output_type": "stream",
          "name": "stderr",
          "text": [
            "[2024-05-10 16:45:40] INFO - pipelines.py - Fusing some of the model's layers. If this takes too much memory, you can deactivate it by setting `fuse_model=False`\n",
            "[2024-05-10 16:45:40] INFO - processing.py - Skipping processing `KeypointsLongestMaxSizeRescale` because it resizes the image.\n",
            "[2024-05-10 16:45:40] INFO - processing.py - Skipping processing `KeypointsBottomRightPadding` because it resizes the image.\n",
            "[2024-05-10 16:45:40] INFO - pipelines.py - Fusing some of the model's layers. If this takes too much memory, you can deactivate it by setting `fuse_model=False`\n"
          ]
        },
        {
          "output_type": "stream",
          "name": "stdout",
          "text": [
            "Done. (0.156s)\n",
            "inf : (0.0270s/frame)   nms : (0.0013s/frame)\n"
          ]
        },
        {
          "output_type": "stream",
          "name": "stderr",
          "text": [
            "[2024-05-10 16:45:41] INFO - processing.py - Skipping processing `KeypointsLongestMaxSizeRescale` because it resizes the image.\n",
            "[2024-05-10 16:45:41] INFO - processing.py - Skipping processing `KeypointsBottomRightPadding` because it resizes the image.\n",
            "[2024-05-10 16:45:41] INFO - pipelines.py - Fusing some of the model's layers. If this takes too much memory, you can deactivate it by setting `fuse_model=False`\n"
          ]
        },
        {
          "output_type": "stream",
          "name": "stdout",
          "text": [
            "Done. (0.156s)\n",
            "inf : (0.0263s/frame)   nms : (0.0013s/frame)\n"
          ]
        },
        {
          "output_type": "stream",
          "name": "stderr",
          "text": [
            "[2024-05-10 16:45:42] INFO - processing.py - Skipping processing `KeypointsLongestMaxSizeRescale` because it resizes the image.\n",
            "[2024-05-10 16:45:42] INFO - processing.py - Skipping processing `KeypointsBottomRightPadding` because it resizes the image.\n",
            "[2024-05-10 16:45:42] INFO - pipelines.py - Fusing some of the model's layers. If this takes too much memory, you can deactivate it by setting `fuse_model=False`\n"
          ]
        },
        {
          "output_type": "stream",
          "name": "stdout",
          "text": [
            "Done. (0.154s)\n",
            "inf : (0.0258s/frame)   nms : (0.0013s/frame)\n"
          ]
        },
        {
          "output_type": "stream",
          "name": "stderr",
          "text": [
            "[2024-05-10 16:45:42] INFO - processing.py - Skipping processing `KeypointsLongestMaxSizeRescale` because it resizes the image.\n",
            "[2024-05-10 16:45:42] INFO - processing.py - Skipping processing `KeypointsBottomRightPadding` because it resizes the image.\n"
          ]
        },
        {
          "output_type": "stream",
          "name": "stdout",
          "text": [
            "Done. (0.157s)\n",
            "inf : (0.0268s/frame)   nms : (0.0013s/frame)\n"
          ]
        },
        {
          "output_type": "stream",
          "name": "stderr",
          "text": [
            "[2024-05-10 16:45:42] INFO - pipelines.py - Fusing some of the model's layers. If this takes too much memory, you can deactivate it by setting `fuse_model=False`\n",
            "[2024-05-10 16:45:43] INFO - processing.py - Skipping processing `KeypointsLongestMaxSizeRescale` because it resizes the image.\n",
            "[2024-05-10 16:45:43] INFO - processing.py - Skipping processing `KeypointsBottomRightPadding` because it resizes the image.\n"
          ]
        },
        {
          "output_type": "stream",
          "name": "stdout",
          "text": [
            "Done. (0.157s)\n",
            "inf : (0.0272s/frame)   nms : (0.0013s/frame)\n"
          ]
        },
        {
          "output_type": "stream",
          "name": "stderr",
          "text": [
            "[2024-05-10 16:45:43] INFO - pipelines.py - Fusing some of the model's layers. If this takes too much memory, you can deactivate it by setting `fuse_model=False`\n",
            "[2024-05-10 16:45:44] INFO - processing.py - Skipping processing `KeypointsLongestMaxSizeRescale` because it resizes the image.\n",
            "[2024-05-10 16:45:44] INFO - processing.py - Skipping processing `KeypointsBottomRightPadding` because it resizes the image.\n"
          ]
        },
        {
          "output_type": "stream",
          "name": "stdout",
          "text": [
            "Done. (0.156s)\n",
            "inf : (0.0263s/frame)   nms : (0.0013s/frame)\n"
          ]
        },
        {
          "output_type": "stream",
          "name": "stderr",
          "text": [
            "[2024-05-10 16:45:44] INFO - pipelines.py - Fusing some of the model's layers. If this takes too much memory, you can deactivate it by setting `fuse_model=False`\n",
            "[2024-05-10 16:45:44] INFO - processing.py - Skipping processing `KeypointsLongestMaxSizeRescale` because it resizes the image.\n",
            "[2024-05-10 16:45:44] INFO - processing.py - Skipping processing `KeypointsBottomRightPadding` because it resizes the image.\n"
          ]
        },
        {
          "output_type": "stream",
          "name": "stdout",
          "text": [
            "Done. (0.156s)\n",
            "inf : (0.0266s/frame)   nms : (0.0013s/frame)\n"
          ]
        },
        {
          "output_type": "stream",
          "name": "stderr",
          "text": [
            "[2024-05-10 16:45:44] INFO - pipelines.py - Fusing some of the model's layers. If this takes too much memory, you can deactivate it by setting `fuse_model=False`\n",
            "[2024-05-10 16:45:45] INFO - processing.py - Skipping processing `KeypointsLongestMaxSizeRescale` because it resizes the image.\n",
            "[2024-05-10 16:45:45] INFO - processing.py - Skipping processing `KeypointsBottomRightPadding` because it resizes the image.\n"
          ]
        },
        {
          "output_type": "stream",
          "name": "stdout",
          "text": [
            "Done. (0.155s)\n",
            "inf : (0.0271s/frame)   nms : (0.0013s/frame)\n"
          ]
        },
        {
          "output_type": "stream",
          "name": "stderr",
          "text": [
            "[2024-05-10 16:45:45] INFO - pipelines.py - Fusing some of the model's layers. If this takes too much memory, you can deactivate it by setting `fuse_model=False`\n",
            "[2024-05-10 16:45:45] INFO - processing.py - Skipping processing `KeypointsLongestMaxSizeRescale` because it resizes the image.\n",
            "[2024-05-10 16:45:45] INFO - processing.py - Skipping processing `KeypointsBottomRightPadding` because it resizes the image.\n"
          ]
        },
        {
          "output_type": "stream",
          "name": "stdout",
          "text": [
            "Done. (0.155s)\n",
            "inf : (0.0262s/frame)   nms : (0.0013s/frame)\n"
          ]
        },
        {
          "output_type": "stream",
          "name": "stderr",
          "text": [
            "[2024-05-10 16:45:45] INFO - pipelines.py - Fusing some of the model's layers. If this takes too much memory, you can deactivate it by setting `fuse_model=False`\n",
            "[2024-05-10 16:45:46] INFO - processing.py - Skipping processing `KeypointsLongestMaxSizeRescale` because it resizes the image.\n",
            "[2024-05-10 16:45:46] INFO - processing.py - Skipping processing `KeypointsBottomRightPadding` because it resizes the image.\n"
          ]
        },
        {
          "output_type": "stream",
          "name": "stdout",
          "text": [
            "Done. (0.155s)\n",
            "inf : (0.0267s/frame)   nms : (0.0013s/frame)\n"
          ]
        },
        {
          "output_type": "stream",
          "name": "stderr",
          "text": [
            "[2024-05-10 16:45:46] INFO - pipelines.py - Fusing some of the model's layers. If this takes too much memory, you can deactivate it by setting `fuse_model=False`\n",
            "[2024-05-10 16:45:47] INFO - processing.py - Skipping processing `KeypointsLongestMaxSizeRescale` because it resizes the image.\n",
            "[2024-05-10 16:45:47] INFO - processing.py - Skipping processing `KeypointsBottomRightPadding` because it resizes the image.\n"
          ]
        },
        {
          "output_type": "stream",
          "name": "stdout",
          "text": [
            "Done. (0.155s)\n",
            "inf : (0.0265s/frame)   nms : (0.0013s/frame)\n"
          ]
        },
        {
          "output_type": "stream",
          "name": "stderr",
          "text": [
            "[2024-05-10 16:45:47] INFO - pipelines.py - Fusing some of the model's layers. If this takes too much memory, you can deactivate it by setting `fuse_model=False`\n",
            "[2024-05-10 16:45:47] INFO - processing.py - Skipping processing `KeypointsLongestMaxSizeRescale` because it resizes the image.\n",
            "[2024-05-10 16:45:47] INFO - processing.py - Skipping processing `KeypointsBottomRightPadding` because it resizes the image.\n"
          ]
        },
        {
          "output_type": "stream",
          "name": "stdout",
          "text": [
            "Done. (0.153s)\n",
            "inf : (0.0265s/frame)   nms : (0.0014s/frame)\n"
          ]
        },
        {
          "output_type": "stream",
          "name": "stderr",
          "text": [
            "[2024-05-10 16:45:47] INFO - pipelines.py - Fusing some of the model's layers. If this takes too much memory, you can deactivate it by setting `fuse_model=False`\n",
            "[2024-05-10 16:45:48] INFO - processing.py - Skipping processing `KeypointsLongestMaxSizeRescale` because it resizes the image.\n",
            "[2024-05-10 16:45:48] INFO - processing.py - Skipping processing `KeypointsBottomRightPadding` because it resizes the image.\n"
          ]
        },
        {
          "output_type": "stream",
          "name": "stdout",
          "text": [
            "Done. (0.153s)\n",
            "inf : (0.0272s/frame)   nms : (0.0013s/frame)\n"
          ]
        },
        {
          "output_type": "stream",
          "name": "stderr",
          "text": [
            "[2024-05-10 16:45:48] INFO - pipelines.py - Fusing some of the model's layers. If this takes too much memory, you can deactivate it by setting `fuse_model=False`\n",
            "[2024-05-10 16:45:48] INFO - processing.py - Skipping processing `KeypointsLongestMaxSizeRescale` because it resizes the image.\n",
            "[2024-05-10 16:45:48] INFO - processing.py - Skipping processing `KeypointsBottomRightPadding` because it resizes the image.\n"
          ]
        },
        {
          "output_type": "stream",
          "name": "stdout",
          "text": [
            "Done. (0.152s)\n",
            "inf : (0.0260s/frame)   nms : (0.0013s/frame)\n"
          ]
        },
        {
          "output_type": "stream",
          "name": "stderr",
          "text": [
            "[2024-05-10 16:45:48] INFO - pipelines.py - Fusing some of the model's layers. If this takes too much memory, you can deactivate it by setting `fuse_model=False`\n",
            "[2024-05-10 16:45:49] INFO - processing.py - Skipping processing `KeypointsLongestMaxSizeRescale` because it resizes the image.\n",
            "[2024-05-10 16:45:49] INFO - processing.py - Skipping processing `KeypointsBottomRightPadding` because it resizes the image.\n"
          ]
        },
        {
          "output_type": "stream",
          "name": "stdout",
          "text": [
            "Done. (0.156s)\n",
            "inf : (0.0275s/frame)   nms : (0.0013s/frame)\n"
          ]
        },
        {
          "output_type": "stream",
          "name": "stderr",
          "text": [
            "[2024-05-10 16:45:49] INFO - pipelines.py - Fusing some of the model's layers. If this takes too much memory, you can deactivate it by setting `fuse_model=False`\n",
            "[2024-05-10 16:45:50] INFO - processing.py - Skipping processing `KeypointsLongestMaxSizeRescale` because it resizes the image.\n",
            "[2024-05-10 16:45:50] INFO - processing.py - Skipping processing `KeypointsBottomRightPadding` because it resizes the image.\n"
          ]
        },
        {
          "output_type": "stream",
          "name": "stdout",
          "text": [
            "Done. (0.162s)\n",
            "inf : (0.0278s/frame)   nms : (0.0013s/frame)\n"
          ]
        },
        {
          "output_type": "stream",
          "name": "stderr",
          "text": [
            "[2024-05-10 16:45:50] INFO - pipelines.py - Fusing some of the model's layers. If this takes too much memory, you can deactivate it by setting `fuse_model=False`\n"
          ]
        },
        {
          "output_type": "stream",
          "name": "stdout",
          "text": [
            "Done. (0.158s)\n",
            "inf : (0.0279s/frame)   nms : (0.0013s/frame)\n"
          ]
        },
        {
          "output_type": "stream",
          "name": "stderr",
          "text": [
            "[2024-05-10 16:45:53] INFO - processing.py - Skipping processing `KeypointsLongestMaxSizeRescale` because it resizes the image.\n",
            "[2024-05-10 16:45:53] INFO - processing.py - Skipping processing `KeypointsBottomRightPadding` because it resizes the image.\n",
            "[2024-05-10 16:45:53] INFO - pipelines.py - Fusing some of the model's layers. If this takes too much memory, you can deactivate it by setting `fuse_model=False`\n",
            "[2024-05-10 16:45:54] INFO - processing.py - Skipping processing `KeypointsLongestMaxSizeRescale` because it resizes the image.\n",
            "[2024-05-10 16:45:54] INFO - processing.py - Skipping processing `KeypointsBottomRightPadding` because it resizes the image.\n"
          ]
        },
        {
          "output_type": "stream",
          "name": "stdout",
          "text": [
            "Done. (0.152s)\n",
            "inf : (0.0259s/frame)   nms : (0.0013s/frame)\n"
          ]
        },
        {
          "output_type": "stream",
          "name": "stderr",
          "text": [
            "[2024-05-10 16:45:54] INFO - pipelines.py - Fusing some of the model's layers. If this takes too much memory, you can deactivate it by setting `fuse_model=False`\n",
            "[2024-05-10 16:45:54] INFO - processing.py - Skipping processing `KeypointsLongestMaxSizeRescale` because it resizes the image.\n",
            "[2024-05-10 16:45:54] INFO - processing.py - Skipping processing `KeypointsBottomRightPadding` because it resizes the image.\n"
          ]
        },
        {
          "output_type": "stream",
          "name": "stdout",
          "text": [
            "Done. (0.151s)\n",
            "inf : (0.0264s/frame)   nms : (0.0013s/frame)\n"
          ]
        },
        {
          "output_type": "stream",
          "name": "stderr",
          "text": [
            "[2024-05-10 16:45:54] INFO - pipelines.py - Fusing some of the model's layers. If this takes too much memory, you can deactivate it by setting `fuse_model=False`\n",
            "[2024-05-10 16:45:55] INFO - processing.py - Skipping processing `KeypointsLongestMaxSizeRescale` because it resizes the image.\n",
            "[2024-05-10 16:45:55] INFO - processing.py - Skipping processing `KeypointsBottomRightPadding` because it resizes the image.\n"
          ]
        },
        {
          "output_type": "stream",
          "name": "stdout",
          "text": [
            "Done. (0.150s)\n",
            "inf : (0.0261s/frame)   nms : (0.0013s/frame)\n"
          ]
        },
        {
          "output_type": "stream",
          "name": "stderr",
          "text": [
            "[2024-05-10 16:45:55] INFO - pipelines.py - Fusing some of the model's layers. If this takes too much memory, you can deactivate it by setting `fuse_model=False`\n",
            "[2024-05-10 16:45:56] INFO - processing.py - Skipping processing `KeypointsLongestMaxSizeRescale` because it resizes the image.\n",
            "[2024-05-10 16:45:56] INFO - processing.py - Skipping processing `KeypointsBottomRightPadding` because it resizes the image.\n"
          ]
        },
        {
          "output_type": "stream",
          "name": "stdout",
          "text": [
            "Done. (0.150s)\n",
            "inf : (0.0262s/frame)   nms : (0.0013s/frame)\n"
          ]
        },
        {
          "output_type": "stream",
          "name": "stderr",
          "text": [
            "[2024-05-10 16:45:56] INFO - pipelines.py - Fusing some of the model's layers. If this takes too much memory, you can deactivate it by setting `fuse_model=False`\n",
            "[2024-05-10 16:45:56] INFO - processing.py - Skipping processing `KeypointsLongestMaxSizeRescale` because it resizes the image.\n",
            "[2024-05-10 16:45:56] INFO - processing.py - Skipping processing `KeypointsBottomRightPadding` because it resizes the image.\n"
          ]
        },
        {
          "output_type": "stream",
          "name": "stdout",
          "text": [
            "Done. (0.148s)\n",
            "inf : (0.0261s/frame)   nms : (0.0013s/frame)\n"
          ]
        },
        {
          "output_type": "stream",
          "name": "stderr",
          "text": [
            "[2024-05-10 16:45:57] INFO - pipelines.py - Fusing some of the model's layers. If this takes too much memory, you can deactivate it by setting `fuse_model=False`\n",
            "[2024-05-10 16:45:57] INFO - processing.py - Skipping processing `KeypointsLongestMaxSizeRescale` because it resizes the image.\n",
            "[2024-05-10 16:45:57] INFO - processing.py - Skipping processing `KeypointsBottomRightPadding` because it resizes the image.\n"
          ]
        },
        {
          "output_type": "stream",
          "name": "stdout",
          "text": [
            "Done. (0.148s)\n",
            "inf : (0.0264s/frame)   nms : (0.0013s/frame)\n"
          ]
        },
        {
          "output_type": "stream",
          "name": "stderr",
          "text": [
            "[2024-05-10 16:45:57] INFO - pipelines.py - Fusing some of the model's layers. If this takes too much memory, you can deactivate it by setting `fuse_model=False`\n",
            "[2024-05-10 16:45:58] INFO - processing.py - Skipping processing `KeypointsLongestMaxSizeRescale` because it resizes the image.\n",
            "[2024-05-10 16:45:58] INFO - processing.py - Skipping processing `KeypointsBottomRightPadding` because it resizes the image.\n"
          ]
        },
        {
          "output_type": "stream",
          "name": "stdout",
          "text": [
            "Done. (0.147s)\n",
            "inf : (0.0261s/frame)   nms : (0.0013s/frame)\n"
          ]
        },
        {
          "output_type": "stream",
          "name": "stderr",
          "text": [
            "[2024-05-10 16:45:58] INFO - pipelines.py - Fusing some of the model's layers. If this takes too much memory, you can deactivate it by setting `fuse_model=False`\n",
            "[2024-05-10 16:45:58] INFO - processing.py - Skipping processing `KeypointsLongestMaxSizeRescale` because it resizes the image.\n",
            "[2024-05-10 16:45:58] INFO - processing.py - Skipping processing `KeypointsBottomRightPadding` because it resizes the image.\n"
          ]
        },
        {
          "output_type": "stream",
          "name": "stdout",
          "text": [
            "Done. (0.148s)\n",
            "inf : (0.0268s/frame)   nms : (0.0013s/frame)\n"
          ]
        },
        {
          "output_type": "stream",
          "name": "stderr",
          "text": [
            "[2024-05-10 16:45:58] INFO - pipelines.py - Fusing some of the model's layers. If this takes too much memory, you can deactivate it by setting `fuse_model=False`\n",
            "[2024-05-10 16:45:59] INFO - processing.py - Skipping processing `KeypointsLongestMaxSizeRescale` because it resizes the image.\n",
            "[2024-05-10 16:45:59] INFO - processing.py - Skipping processing `KeypointsBottomRightPadding` because it resizes the image.\n",
            "[2024-05-10 16:45:59] INFO - pipelines.py - Fusing some of the model's layers. If this takes too much memory, you can deactivate it by setting `fuse_model=False`\n"
          ]
        },
        {
          "output_type": "stream",
          "name": "stdout",
          "text": [
            "Done. (0.147s)\n",
            "inf : (0.0266s/frame)   nms : (0.0013s/frame)\n"
          ]
        },
        {
          "output_type": "stream",
          "name": "stderr",
          "text": [
            "[2024-05-10 16:45:59] INFO - processing.py - Skipping processing `KeypointsLongestMaxSizeRescale` because it resizes the image.\n",
            "[2024-05-10 16:45:59] INFO - processing.py - Skipping processing `KeypointsBottomRightPadding` because it resizes the image.\n",
            "[2024-05-10 16:45:59] INFO - pipelines.py - Fusing some of the model's layers. If this takes too much memory, you can deactivate it by setting `fuse_model=False`\n"
          ]
        },
        {
          "output_type": "stream",
          "name": "stdout",
          "text": [
            "Done. (0.145s)\n",
            "inf : (0.0270s/frame)   nms : (0.0013s/frame)\n"
          ]
        },
        {
          "output_type": "stream",
          "name": "stderr",
          "text": [
            "[2024-05-10 16:46:00] INFO - processing.py - Skipping processing `KeypointsLongestMaxSizeRescale` because it resizes the image.\n",
            "[2024-05-10 16:46:00] INFO - processing.py - Skipping processing `KeypointsBottomRightPadding` because it resizes the image.\n",
            "[2024-05-10 16:46:00] INFO - pipelines.py - Fusing some of the model's layers. If this takes too much memory, you can deactivate it by setting `fuse_model=False`\n"
          ]
        },
        {
          "output_type": "stream",
          "name": "stdout",
          "text": [
            "Done. (0.142s)\n",
            "inf : (0.0264s/frame)   nms : (0.0012s/frame)\n"
          ]
        },
        {
          "output_type": "stream",
          "name": "stderr",
          "text": [
            "[2024-05-10 16:46:01] INFO - processing.py - Skipping processing `KeypointsLongestMaxSizeRescale` because it resizes the image.\n",
            "[2024-05-10 16:46:01] INFO - processing.py - Skipping processing `KeypointsBottomRightPadding` because it resizes the image.\n",
            "[2024-05-10 16:46:01] INFO - pipelines.py - Fusing some of the model's layers. If this takes too much memory, you can deactivate it by setting `fuse_model=False`\n"
          ]
        },
        {
          "output_type": "stream",
          "name": "stdout",
          "text": [
            "Done. (0.142s)\n",
            "inf : (0.0263s/frame)   nms : (0.0013s/frame)\n"
          ]
        },
        {
          "output_type": "stream",
          "name": "stderr",
          "text": [
            "[2024-05-10 16:46:01] INFO - processing.py - Skipping processing `KeypointsLongestMaxSizeRescale` because it resizes the image.\n",
            "[2024-05-10 16:46:01] INFO - processing.py - Skipping processing `KeypointsBottomRightPadding` because it resizes the image.\n",
            "[2024-05-10 16:46:01] INFO - pipelines.py - Fusing some of the model's layers. If this takes too much memory, you can deactivate it by setting `fuse_model=False`\n"
          ]
        },
        {
          "output_type": "stream",
          "name": "stdout",
          "text": [
            "Done. (0.141s)\n",
            "inf : (0.0260s/frame)   nms : (0.0013s/frame)\n"
          ]
        },
        {
          "output_type": "stream",
          "name": "stderr",
          "text": [
            "[2024-05-10 16:46:02] INFO - processing.py - Skipping processing `KeypointsLongestMaxSizeRescale` because it resizes the image.\n",
            "[2024-05-10 16:46:02] INFO - processing.py - Skipping processing `KeypointsBottomRightPadding` because it resizes the image.\n",
            "[2024-05-10 16:46:02] INFO - pipelines.py - Fusing some of the model's layers. If this takes too much memory, you can deactivate it by setting `fuse_model=False`\n"
          ]
        },
        {
          "output_type": "stream",
          "name": "stdout",
          "text": [
            "Done. (0.143s)\n",
            "inf : (0.0262s/frame)   nms : (0.0013s/frame)\n"
          ]
        },
        {
          "output_type": "stream",
          "name": "stderr",
          "text": [
            "[2024-05-10 16:46:02] INFO - processing.py - Skipping processing `KeypointsLongestMaxSizeRescale` because it resizes the image.\n",
            "[2024-05-10 16:46:02] INFO - processing.py - Skipping processing `KeypointsBottomRightPadding` because it resizes the image.\n"
          ]
        },
        {
          "output_type": "stream",
          "name": "stdout",
          "text": [
            "Done. (0.151s)\n",
            "inf : (0.0335s/frame)   nms : (0.0016s/frame)\n"
          ]
        },
        {
          "output_type": "stream",
          "name": "stderr",
          "text": [
            "[2024-05-10 16:46:02] INFO - pipelines.py - Fusing some of the model's layers. If this takes too much memory, you can deactivate it by setting `fuse_model=False`\n",
            "[2024-05-10 16:46:03] INFO - processing.py - Skipping processing `KeypointsLongestMaxSizeRescale` because it resizes the image.\n",
            "[2024-05-10 16:46:03] INFO - processing.py - Skipping processing `KeypointsBottomRightPadding` because it resizes the image.\n",
            "[2024-05-10 16:46:03] INFO - pipelines.py - Fusing some of the model's layers. If this takes too much memory, you can deactivate it by setting `fuse_model=False`\n"
          ]
        },
        {
          "output_type": "stream",
          "name": "stdout",
          "text": [
            "Done. (0.143s)\n",
            "inf : (0.0269s/frame)   nms : (0.0013s/frame)\n"
          ]
        },
        {
          "output_type": "stream",
          "name": "stderr",
          "text": [
            "[2024-05-10 16:46:03] INFO - processing.py - Skipping processing `KeypointsLongestMaxSizeRescale` because it resizes the image.\n",
            "[2024-05-10 16:46:03] INFO - processing.py - Skipping processing `KeypointsBottomRightPadding` because it resizes the image.\n"
          ]
        },
        {
          "output_type": "stream",
          "name": "stdout",
          "text": [
            "Done. (0.161s)\n",
            "inf : (0.0333s/frame)   nms : (0.0017s/frame)\n"
          ]
        },
        {
          "output_type": "stream",
          "name": "stderr",
          "text": [
            "[2024-05-10 16:46:04] INFO - pipelines.py - Fusing some of the model's layers. If this takes too much memory, you can deactivate it by setting `fuse_model=False`\n",
            "[2024-05-10 16:46:04] INFO - processing.py - Skipping processing `KeypointsLongestMaxSizeRescale` because it resizes the image.\n",
            "[2024-05-10 16:46:04] INFO - processing.py - Skipping processing `KeypointsBottomRightPadding` because it resizes the image.\n",
            "[2024-05-10 16:46:04] INFO - pipelines.py - Fusing some of the model's layers. If this takes too much memory, you can deactivate it by setting `fuse_model=False`\n"
          ]
        },
        {
          "output_type": "stream",
          "name": "stdout",
          "text": [
            "Done. (0.143s)\n",
            "inf : (0.0268s/frame)   nms : (0.0013s/frame)\n"
          ]
        },
        {
          "output_type": "stream",
          "name": "stderr",
          "text": [
            "[2024-05-10 16:46:05] INFO - processing.py - Skipping processing `KeypointsLongestMaxSizeRescale` because it resizes the image.\n",
            "[2024-05-10 16:46:05] INFO - processing.py - Skipping processing `KeypointsBottomRightPadding` because it resizes the image.\n",
            "[2024-05-10 16:46:05] INFO - pipelines.py - Fusing some of the model's layers. If this takes too much memory, you can deactivate it by setting `fuse_model=False`\n"
          ]
        },
        {
          "output_type": "stream",
          "name": "stdout",
          "text": [
            "Done. (0.142s)\n",
            "inf : (0.0261s/frame)   nms : (0.0013s/frame)\n"
          ]
        },
        {
          "output_type": "stream",
          "name": "stderr",
          "text": [
            "[2024-05-10 16:46:06] INFO - processing.py - Skipping processing `KeypointsLongestMaxSizeRescale` because it resizes the image.\n",
            "[2024-05-10 16:46:06] INFO - processing.py - Skipping processing `KeypointsBottomRightPadding` because it resizes the image.\n"
          ]
        },
        {
          "output_type": "stream",
          "name": "stdout",
          "text": [
            "Done. (0.141s)\n",
            "inf : (0.0268s/frame)   nms : (0.0013s/frame)\n"
          ]
        },
        {
          "output_type": "stream",
          "name": "stderr",
          "text": [
            "[2024-05-10 16:46:06] INFO - pipelines.py - Fusing some of the model's layers. If this takes too much memory, you can deactivate it by setting `fuse_model=False`\n",
            "[2024-05-10 16:46:06] INFO - processing.py - Skipping processing `KeypointsLongestMaxSizeRescale` because it resizes the image.\n",
            "[2024-05-10 16:46:06] INFO - processing.py - Skipping processing `KeypointsBottomRightPadding` because it resizes the image.\n",
            "[2024-05-10 16:46:06] INFO - pipelines.py - Fusing some of the model's layers. If this takes too much memory, you can deactivate it by setting `fuse_model=False`\n"
          ]
        },
        {
          "output_type": "stream",
          "name": "stdout",
          "text": [
            "Done. (0.140s)\n",
            "inf : (0.0263s/frame)   nms : (0.0013s/frame)\n"
          ]
        },
        {
          "output_type": "stream",
          "name": "stderr",
          "text": [
            "[2024-05-10 16:46:07] INFO - processing.py - Skipping processing `KeypointsLongestMaxSizeRescale` because it resizes the image.\n",
            "[2024-05-10 16:46:07] INFO - processing.py - Skipping processing `KeypointsBottomRightPadding` because it resizes the image.\n"
          ]
        },
        {
          "output_type": "stream",
          "name": "stdout",
          "text": [
            "Done. (0.140s)\n",
            "inf : (0.0260s/frame)   nms : (0.0013s/frame)\n"
          ]
        },
        {
          "output_type": "stream",
          "name": "stderr",
          "text": [
            "[2024-05-10 16:46:07] INFO - pipelines.py - Fusing some of the model's layers. If this takes too much memory, you can deactivate it by setting `fuse_model=False`\n",
            "[2024-05-10 16:46:07] INFO - processing.py - Skipping processing `KeypointsLongestMaxSizeRescale` because it resizes the image.\n",
            "[2024-05-10 16:46:07] INFO - processing.py - Skipping processing `KeypointsBottomRightPadding` because it resizes the image.\n"
          ]
        },
        {
          "output_type": "stream",
          "name": "stdout",
          "text": [
            "Done. (0.142s)\n",
            "inf : (0.0274s/frame)   nms : (0.0013s/frame)\n"
          ]
        },
        {
          "output_type": "stream",
          "name": "stderr",
          "text": [
            "[2024-05-10 16:46:07] INFO - pipelines.py - Fusing some of the model's layers. If this takes too much memory, you can deactivate it by setting `fuse_model=False`\n",
            "[2024-05-10 16:46:08] INFO - processing.py - Skipping processing `KeypointsLongestMaxSizeRescale` because it resizes the image.\n",
            "[2024-05-10 16:46:08] INFO - processing.py - Skipping processing `KeypointsBottomRightPadding` because it resizes the image.\n"
          ]
        },
        {
          "output_type": "stream",
          "name": "stdout",
          "text": [
            "Done. (0.140s)\n",
            "inf : (0.0257s/frame)   nms : (0.0013s/frame)\n"
          ]
        },
        {
          "output_type": "stream",
          "name": "stderr",
          "text": [
            "[2024-05-10 16:46:08] INFO - pipelines.py - Fusing some of the model's layers. If this takes too much memory, you can deactivate it by setting `fuse_model=False`\n",
            "[2024-05-10 16:46:08] INFO - processing.py - Skipping processing `KeypointsLongestMaxSizeRescale` because it resizes the image.\n",
            "[2024-05-10 16:46:08] INFO - processing.py - Skipping processing `KeypointsBottomRightPadding` because it resizes the image.\n"
          ]
        },
        {
          "output_type": "stream",
          "name": "stdout",
          "text": [
            "Done. (0.142s)\n",
            "inf : (0.0281s/frame)   nms : (0.0013s/frame)\n"
          ]
        },
        {
          "output_type": "stream",
          "name": "stderr",
          "text": [
            "[2024-05-10 16:46:08] INFO - pipelines.py - Fusing some of the model's layers. If this takes too much memory, you can deactivate it by setting `fuse_model=False`\n",
            "[2024-05-10 16:46:09] INFO - processing.py - Skipping processing `KeypointsLongestMaxSizeRescale` because it resizes the image.\n",
            "[2024-05-10 16:46:09] INFO - processing.py - Skipping processing `KeypointsBottomRightPadding` because it resizes the image.\n",
            "[2024-05-10 16:46:09] INFO - pipelines.py - Fusing some of the model's layers. If this takes too much memory, you can deactivate it by setting `fuse_model=False`\n"
          ]
        },
        {
          "output_type": "stream",
          "name": "stdout",
          "text": [
            "Done. (0.140s)\n",
            "inf : (0.0262s/frame)   nms : (0.0013s/frame)\n"
          ]
        },
        {
          "output_type": "stream",
          "name": "stderr",
          "text": [
            "[2024-05-10 16:46:10] INFO - processing.py - Skipping processing `KeypointsLongestMaxSizeRescale` because it resizes the image.\n",
            "[2024-05-10 16:46:10] INFO - processing.py - Skipping processing `KeypointsBottomRightPadding` because it resizes the image.\n"
          ]
        },
        {
          "output_type": "stream",
          "name": "stdout",
          "text": [
            "Done. (0.139s)\n",
            "inf : (0.0255s/frame)   nms : (0.0013s/frame)\n"
          ]
        },
        {
          "output_type": "stream",
          "name": "stderr",
          "text": [
            "[2024-05-10 16:46:10] INFO - pipelines.py - Fusing some of the model's layers. If this takes too much memory, you can deactivate it by setting `fuse_model=False`\n",
            "[2024-05-10 16:46:10] INFO - processing.py - Skipping processing `KeypointsLongestMaxSizeRescale` because it resizes the image.\n",
            "[2024-05-10 16:46:10] INFO - processing.py - Skipping processing `KeypointsBottomRightPadding` because it resizes the image.\n",
            "[2024-05-10 16:46:10] INFO - pipelines.py - Fusing some of the model's layers. If this takes too much memory, you can deactivate it by setting `fuse_model=False`\n"
          ]
        },
        {
          "output_type": "stream",
          "name": "stdout",
          "text": [
            "Done. (0.140s)\n",
            "inf : (0.0261s/frame)   nms : (0.0013s/frame)\n"
          ]
        },
        {
          "output_type": "stream",
          "name": "stderr",
          "text": [
            "[2024-05-10 16:46:11] INFO - processing.py - Skipping processing `KeypointsLongestMaxSizeRescale` because it resizes the image.\n",
            "[2024-05-10 16:46:11] INFO - processing.py - Skipping processing `KeypointsBottomRightPadding` because it resizes the image.\n",
            "[2024-05-10 16:46:11] INFO - pipelines.py - Fusing some of the model's layers. If this takes too much memory, you can deactivate it by setting `fuse_model=False`\n"
          ]
        },
        {
          "output_type": "stream",
          "name": "stdout",
          "text": [
            "Done. (0.148s)\n",
            "inf : (0.0338s/frame)   nms : (0.0015s/frame)\n"
          ]
        },
        {
          "output_type": "stream",
          "name": "stderr",
          "text": [
            "[2024-05-10 16:46:11] INFO - processing.py - Skipping processing `KeypointsLongestMaxSizeRescale` because it resizes the image.\n",
            "[2024-05-10 16:46:11] INFO - processing.py - Skipping processing `KeypointsBottomRightPadding` because it resizes the image.\n",
            "[2024-05-10 16:46:11] INFO - pipelines.py - Fusing some of the model's layers. If this takes too much memory, you can deactivate it by setting `fuse_model=False`\n"
          ]
        },
        {
          "output_type": "stream",
          "name": "stdout",
          "text": [
            "Done. (0.140s)\n",
            "inf : (0.0261s/frame)   nms : (0.0013s/frame)\n"
          ]
        },
        {
          "output_type": "stream",
          "name": "stderr",
          "text": [
            "[2024-05-10 16:46:12] INFO - processing.py - Skipping processing `KeypointsLongestMaxSizeRescale` because it resizes the image.\n",
            "[2024-05-10 16:46:12] INFO - processing.py - Skipping processing `KeypointsBottomRightPadding` because it resizes the image.\n",
            "[2024-05-10 16:46:12] INFO - pipelines.py - Fusing some of the model's layers. If this takes too much memory, you can deactivate it by setting `fuse_model=False`\n"
          ]
        },
        {
          "output_type": "stream",
          "name": "stdout",
          "text": [
            "Done. (0.141s)\n",
            "inf : (0.0273s/frame)   nms : (0.0013s/frame)\n"
          ]
        },
        {
          "output_type": "stream",
          "name": "stderr",
          "text": [
            "[2024-05-10 16:46:12] INFO - processing.py - Skipping processing `KeypointsLongestMaxSizeRescale` because it resizes the image.\n",
            "[2024-05-10 16:46:12] INFO - processing.py - Skipping processing `KeypointsBottomRightPadding` because it resizes the image.\n",
            "[2024-05-10 16:46:12] INFO - pipelines.py - Fusing some of the model's layers. If this takes too much memory, you can deactivate it by setting `fuse_model=False`\n"
          ]
        },
        {
          "output_type": "stream",
          "name": "stdout",
          "text": [
            "Done. (0.139s)\n",
            "inf : (0.0263s/frame)   nms : (0.0013s/frame)\n"
          ]
        },
        {
          "output_type": "stream",
          "name": "stderr",
          "text": [
            "[2024-05-10 16:46:13] INFO - processing.py - Skipping processing `KeypointsLongestMaxSizeRescale` because it resizes the image.\n",
            "[2024-05-10 16:46:13] INFO - processing.py - Skipping processing `KeypointsBottomRightPadding` because it resizes the image.\n",
            "[2024-05-10 16:46:13] INFO - pipelines.py - Fusing some of the model's layers. If this takes too much memory, you can deactivate it by setting `fuse_model=False`\n"
          ]
        },
        {
          "output_type": "stream",
          "name": "stdout",
          "text": [
            "Done. (0.141s)\n",
            "inf : (0.0275s/frame)   nms : (0.0013s/frame)\n"
          ]
        },
        {
          "output_type": "stream",
          "name": "stderr",
          "text": [
            "[2024-05-10 16:46:13] INFO - processing.py - Skipping processing `KeypointsLongestMaxSizeRescale` because it resizes the image.\n",
            "[2024-05-10 16:46:13] INFO - processing.py - Skipping processing `KeypointsBottomRightPadding` because it resizes the image.\n"
          ]
        },
        {
          "output_type": "stream",
          "name": "stdout",
          "text": [
            "Done. (0.140s)\n",
            "inf : (0.0278s/frame)   nms : (0.0013s/frame)\n"
          ]
        },
        {
          "output_type": "stream",
          "name": "stderr",
          "text": [
            "[2024-05-10 16:46:14] INFO - pipelines.py - Fusing some of the model's layers. If this takes too much memory, you can deactivate it by setting `fuse_model=False`\n",
            "[2024-05-10 16:46:14] INFO - processing.py - Skipping processing `KeypointsLongestMaxSizeRescale` because it resizes the image.\n",
            "[2024-05-10 16:46:14] INFO - processing.py - Skipping processing `KeypointsBottomRightPadding` because it resizes the image.\n"
          ]
        },
        {
          "output_type": "stream",
          "name": "stdout",
          "text": [
            "Done. (0.143s)\n",
            "inf : (0.0269s/frame)   nms : (0.0013s/frame)\n"
          ]
        },
        {
          "output_type": "stream",
          "name": "stderr",
          "text": [
            "[2024-05-10 16:46:14] INFO - pipelines.py - Fusing some of the model's layers. If this takes too much memory, you can deactivate it by setting `fuse_model=False`\n",
            "[2024-05-10 16:46:15] INFO - processing.py - Skipping processing `KeypointsLongestMaxSizeRescale` because it resizes the image.\n",
            "[2024-05-10 16:46:15] INFO - processing.py - Skipping processing `KeypointsBottomRightPadding` because it resizes the image.\n"
          ]
        },
        {
          "output_type": "stream",
          "name": "stdout",
          "text": [
            "Done. (0.140s)\n",
            "inf : (0.0260s/frame)   nms : (0.0013s/frame)\n"
          ]
        },
        {
          "output_type": "stream",
          "name": "stderr",
          "text": [
            "[2024-05-10 16:46:15] INFO - pipelines.py - Fusing some of the model's layers. If this takes too much memory, you can deactivate it by setting `fuse_model=False`\n",
            "[2024-05-10 16:46:16] INFO - processing.py - Skipping processing `KeypointsLongestMaxSizeRescale` because it resizes the image.\n",
            "[2024-05-10 16:46:16] INFO - processing.py - Skipping processing `KeypointsBottomRightPadding` because it resizes the image.\n"
          ]
        },
        {
          "output_type": "stream",
          "name": "stdout",
          "text": [
            "Done. (0.141s)\n",
            "inf : (0.0263s/frame)   nms : (0.0013s/frame)\n"
          ]
        },
        {
          "output_type": "stream",
          "name": "stderr",
          "text": [
            "[2024-05-10 16:46:16] INFO - pipelines.py - Fusing some of the model's layers. If this takes too much memory, you can deactivate it by setting `fuse_model=False`\n",
            "[2024-05-10 16:46:16] INFO - processing.py - Skipping processing `KeypointsLongestMaxSizeRescale` because it resizes the image.\n",
            "[2024-05-10 16:46:16] INFO - processing.py - Skipping processing `KeypointsBottomRightPadding` because it resizes the image.\n"
          ]
        },
        {
          "output_type": "stream",
          "name": "stdout",
          "text": [
            "Done. (0.158s)\n",
            "inf : (0.0337s/frame)   nms : (0.0016s/frame)\n"
          ]
        },
        {
          "output_type": "stream",
          "name": "stderr",
          "text": [
            "[2024-05-10 16:46:16] INFO - pipelines.py - Fusing some of the model's layers. If this takes too much memory, you can deactivate it by setting `fuse_model=False`\n",
            "[2024-05-10 16:46:17] INFO - processing.py - Skipping processing `KeypointsLongestMaxSizeRescale` because it resizes the image.\n",
            "[2024-05-10 16:46:17] INFO - processing.py - Skipping processing `KeypointsBottomRightPadding` because it resizes the image.\n",
            "[2024-05-10 16:46:17] INFO - pipelines.py - Fusing some of the model's layers. If this takes too much memory, you can deactivate it by setting `fuse_model=False`\n"
          ]
        },
        {
          "output_type": "stream",
          "name": "stdout",
          "text": [
            "Done. (0.143s)\n",
            "inf : (0.0271s/frame)   nms : (0.0013s/frame)\n"
          ]
        },
        {
          "output_type": "stream",
          "name": "stderr",
          "text": [
            "[2024-05-10 16:46:17] INFO - processing.py - Skipping processing `KeypointsLongestMaxSizeRescale` because it resizes the image.\n",
            "[2024-05-10 16:46:17] INFO - processing.py - Skipping processing `KeypointsBottomRightPadding` because it resizes the image.\n"
          ]
        },
        {
          "output_type": "stream",
          "name": "stdout",
          "text": [
            "Done. (0.148s)\n",
            "inf : (0.0333s/frame)   nms : (0.0016s/frame)\n"
          ]
        },
        {
          "output_type": "stream",
          "name": "stderr",
          "text": [
            "[2024-05-10 16:46:17] INFO - pipelines.py - Fusing some of the model's layers. If this takes too much memory, you can deactivate it by setting `fuse_model=False`\n",
            "[2024-05-10 16:46:18] INFO - processing.py - Skipping processing `KeypointsLongestMaxSizeRescale` because it resizes the image.\n",
            "[2024-05-10 16:46:18] INFO - processing.py - Skipping processing `KeypointsBottomRightPadding` because it resizes the image.\n"
          ]
        },
        {
          "output_type": "stream",
          "name": "stdout",
          "text": [
            "Done. (0.143s)\n",
            "inf : (0.0262s/frame)   nms : (0.0014s/frame)\n"
          ]
        },
        {
          "output_type": "stream",
          "name": "stderr",
          "text": [
            "[2024-05-10 16:46:18] INFO - pipelines.py - Fusing some of the model's layers. If this takes too much memory, you can deactivate it by setting `fuse_model=False`\n",
            "[2024-05-10 16:46:18] INFO - processing.py - Skipping processing `KeypointsLongestMaxSizeRescale` because it resizes the image.\n",
            "[2024-05-10 16:46:18] INFO - processing.py - Skipping processing `KeypointsBottomRightPadding` because it resizes the image.\n"
          ]
        },
        {
          "output_type": "stream",
          "name": "stdout",
          "text": [
            "Done. (0.141s)\n",
            "inf : (0.0278s/frame)   nms : (0.0013s/frame)\n"
          ]
        },
        {
          "output_type": "stream",
          "name": "stderr",
          "text": [
            "[2024-05-10 16:46:19] INFO - pipelines.py - Fusing some of the model's layers. If this takes too much memory, you can deactivate it by setting `fuse_model=False`\n",
            "[2024-05-10 16:46:19] INFO - processing.py - Skipping processing `KeypointsLongestMaxSizeRescale` because it resizes the image.\n",
            "[2024-05-10 16:46:19] INFO - processing.py - Skipping processing `KeypointsBottomRightPadding` because it resizes the image.\n"
          ]
        },
        {
          "output_type": "stream",
          "name": "stdout",
          "text": [
            "Done. (0.141s)\n",
            "inf : (0.0266s/frame)   nms : (0.0013s/frame)\n"
          ]
        },
        {
          "output_type": "stream",
          "name": "stderr",
          "text": [
            "[2024-05-10 16:46:19] INFO - pipelines.py - Fusing some of the model's layers. If this takes too much memory, you can deactivate it by setting `fuse_model=False`\n",
            "[2024-05-10 16:46:20] INFO - processing.py - Skipping processing `KeypointsLongestMaxSizeRescale` because it resizes the image.\n",
            "[2024-05-10 16:46:20] INFO - processing.py - Skipping processing `KeypointsBottomRightPadding` because it resizes the image.\n"
          ]
        },
        {
          "output_type": "stream",
          "name": "stdout",
          "text": [
            "Done. (0.142s)\n",
            "inf : (0.0269s/frame)   nms : (0.0013s/frame)\n"
          ]
        },
        {
          "output_type": "stream",
          "name": "stderr",
          "text": [
            "[2024-05-10 16:46:20] INFO - pipelines.py - Fusing some of the model's layers. If this takes too much memory, you can deactivate it by setting `fuse_model=False`\n",
            "[2024-05-10 16:46:20] INFO - processing.py - Skipping processing `KeypointsLongestMaxSizeRescale` because it resizes the image.\n",
            "[2024-05-10 16:46:20] INFO - processing.py - Skipping processing `KeypointsBottomRightPadding` because it resizes the image.\n"
          ]
        },
        {
          "output_type": "stream",
          "name": "stdout",
          "text": [
            "Done. (0.141s)\n",
            "inf : (0.0266s/frame)   nms : (0.0013s/frame)\n"
          ]
        },
        {
          "output_type": "stream",
          "name": "stderr",
          "text": [
            "[2024-05-10 16:46:20] INFO - pipelines.py - Fusing some of the model's layers. If this takes too much memory, you can deactivate it by setting `fuse_model=False`\n",
            "[2024-05-10 16:46:21] INFO - processing.py - Skipping processing `KeypointsLongestMaxSizeRescale` because it resizes the image.\n",
            "[2024-05-10 16:46:21] INFO - processing.py - Skipping processing `KeypointsBottomRightPadding` because it resizes the image.\n"
          ]
        },
        {
          "output_type": "stream",
          "name": "stdout",
          "text": [
            "Done. (0.142s)\n",
            "inf : (0.0275s/frame)   nms : (0.0013s/frame)\n"
          ]
        },
        {
          "output_type": "stream",
          "name": "stderr",
          "text": [
            "[2024-05-10 16:46:21] INFO - pipelines.py - Fusing some of the model's layers. If this takes too much memory, you can deactivate it by setting `fuse_model=False`\n",
            "[2024-05-10 16:46:21] INFO - processing.py - Skipping processing `KeypointsLongestMaxSizeRescale` because it resizes the image.\n",
            "[2024-05-10 16:46:21] INFO - processing.py - Skipping processing `KeypointsBottomRightPadding` because it resizes the image.\n"
          ]
        },
        {
          "output_type": "stream",
          "name": "stdout",
          "text": [
            "Done. (0.141s)\n",
            "inf : (0.0266s/frame)   nms : (0.0013s/frame)\n"
          ]
        },
        {
          "output_type": "stream",
          "name": "stderr",
          "text": [
            "[2024-05-10 16:46:21] INFO - pipelines.py - Fusing some of the model's layers. If this takes too much memory, you can deactivate it by setting `fuse_model=False`\n",
            "[2024-05-10 16:46:22] INFO - processing.py - Skipping processing `KeypointsLongestMaxSizeRescale` because it resizes the image.\n",
            "[2024-05-10 16:46:22] INFO - processing.py - Skipping processing `KeypointsBottomRightPadding` because it resizes the image.\n"
          ]
        },
        {
          "output_type": "stream",
          "name": "stdout",
          "text": [
            "Done. (0.141s)\n",
            "inf : (0.0271s/frame)   nms : (0.0013s/frame)\n"
          ]
        },
        {
          "output_type": "stream",
          "name": "stderr",
          "text": [
            "[2024-05-10 16:46:22] INFO - pipelines.py - Fusing some of the model's layers. If this takes too much memory, you can deactivate it by setting `fuse_model=False`\n",
            "[2024-05-10 16:46:22] INFO - processing.py - Skipping processing `KeypointsLongestMaxSizeRescale` because it resizes the image.\n",
            "[2024-05-10 16:46:22] INFO - processing.py - Skipping processing `KeypointsBottomRightPadding` because it resizes the image.\n",
            "[2024-05-10 16:46:23] INFO - pipelines.py - Fusing some of the model's layers. If this takes too much memory, you can deactivate it by setting `fuse_model=False`\n"
          ]
        },
        {
          "output_type": "stream",
          "name": "stdout",
          "text": [
            "Done. (0.140s)\n",
            "inf : (0.0264s/frame)   nms : (0.0013s/frame)\n"
          ]
        },
        {
          "output_type": "stream",
          "name": "stderr",
          "text": [
            "[2024-05-10 16:46:23] INFO - processing.py - Skipping processing `KeypointsLongestMaxSizeRescale` because it resizes the image.\n",
            "[2024-05-10 16:46:23] INFO - processing.py - Skipping processing `KeypointsBottomRightPadding` because it resizes the image.\n"
          ]
        },
        {
          "output_type": "stream",
          "name": "stdout",
          "text": [
            "Done. (0.143s)\n",
            "inf : (0.0283s/frame)   nms : (0.0013s/frame)\n"
          ]
        },
        {
          "output_type": "stream",
          "name": "stderr",
          "text": [
            "[2024-05-10 16:46:23] INFO - pipelines.py - Fusing some of the model's layers. If this takes too much memory, you can deactivate it by setting `fuse_model=False`\n",
            "[2024-05-10 16:46:24] INFO - processing.py - Skipping processing `KeypointsLongestMaxSizeRescale` because it resizes the image.\n",
            "[2024-05-10 16:46:24] INFO - processing.py - Skipping processing `KeypointsBottomRightPadding` because it resizes the image.\n"
          ]
        },
        {
          "output_type": "stream",
          "name": "stdout",
          "text": [
            "Done. (0.140s)\n",
            "inf : (0.0253s/frame)   nms : (0.0013s/frame)\n"
          ]
        },
        {
          "output_type": "stream",
          "name": "stderr",
          "text": [
            "[2024-05-10 16:46:24] INFO - pipelines.py - Fusing some of the model's layers. If this takes too much memory, you can deactivate it by setting `fuse_model=False`\n",
            "[2024-05-10 16:46:25] INFO - processing.py - Skipping processing `KeypointsLongestMaxSizeRescale` because it resizes the image.\n",
            "[2024-05-10 16:46:25] INFO - processing.py - Skipping processing `KeypointsBottomRightPadding` because it resizes the image.\n"
          ]
        },
        {
          "output_type": "stream",
          "name": "stdout",
          "text": [
            "Done. (0.141s)\n",
            "inf : (0.0265s/frame)   nms : (0.0013s/frame)\n"
          ]
        },
        {
          "output_type": "stream",
          "name": "stderr",
          "text": [
            "[2024-05-10 16:46:25] INFO - pipelines.py - Fusing some of the model's layers. If this takes too much memory, you can deactivate it by setting `fuse_model=False`\n",
            "[2024-05-10 16:46:25] INFO - processing.py - Skipping processing `KeypointsLongestMaxSizeRescale` because it resizes the image.\n",
            "[2024-05-10 16:46:25] INFO - processing.py - Skipping processing `KeypointsBottomRightPadding` because it resizes the image.\n"
          ]
        },
        {
          "output_type": "stream",
          "name": "stdout",
          "text": [
            "Done. (0.141s)\n",
            "inf : (0.0264s/frame)   nms : (0.0013s/frame)\n"
          ]
        },
        {
          "output_type": "stream",
          "name": "stderr",
          "text": [
            "[2024-05-10 16:46:25] INFO - pipelines.py - Fusing some of the model's layers. If this takes too much memory, you can deactivate it by setting `fuse_model=False`\n",
            "[2024-05-10 16:46:26] INFO - processing.py - Skipping processing `KeypointsLongestMaxSizeRescale` because it resizes the image.\n",
            "[2024-05-10 16:46:26] INFO - processing.py - Skipping processing `KeypointsBottomRightPadding` because it resizes the image.\n"
          ]
        },
        {
          "output_type": "stream",
          "name": "stdout",
          "text": [
            "Done. (0.142s)\n",
            "inf : (0.0263s/frame)   nms : (0.0012s/frame)\n"
          ]
        },
        {
          "output_type": "stream",
          "name": "stderr",
          "text": [
            "[2024-05-10 16:46:26] INFO - pipelines.py - Fusing some of the model's layers. If this takes too much memory, you can deactivate it by setting `fuse_model=False`\n",
            "[2024-05-10 16:46:26] INFO - processing.py - Skipping processing `KeypointsLongestMaxSizeRescale` because it resizes the image.\n",
            "[2024-05-10 16:46:26] INFO - processing.py - Skipping processing `KeypointsBottomRightPadding` because it resizes the image.\n"
          ]
        },
        {
          "output_type": "stream",
          "name": "stdout",
          "text": [
            "Done. (0.141s)\n",
            "inf : (0.0268s/frame)   nms : (0.0013s/frame)\n"
          ]
        },
        {
          "output_type": "stream",
          "name": "stderr",
          "text": [
            "[2024-05-10 16:46:26] INFO - pipelines.py - Fusing some of the model's layers. If this takes too much memory, you can deactivate it by setting `fuse_model=False`\n",
            "[2024-05-10 16:46:27] INFO - processing.py - Skipping processing `KeypointsLongestMaxSizeRescale` because it resizes the image.\n",
            "[2024-05-10 16:46:27] INFO - processing.py - Skipping processing `KeypointsBottomRightPadding` because it resizes the image.\n"
          ]
        },
        {
          "output_type": "stream",
          "name": "stdout",
          "text": [
            "Done. (0.142s)\n",
            "inf : (0.0259s/frame)   nms : (0.0013s/frame)\n"
          ]
        },
        {
          "output_type": "stream",
          "name": "stderr",
          "text": [
            "[2024-05-10 16:46:27] INFO - pipelines.py - Fusing some of the model's layers. If this takes too much memory, you can deactivate it by setting `fuse_model=False`\n",
            "[2024-05-10 16:46:27] INFO - processing.py - Skipping processing `KeypointsLongestMaxSizeRescale` because it resizes the image.\n",
            "[2024-05-10 16:46:27] INFO - processing.py - Skipping processing `KeypointsBottomRightPadding` because it resizes the image.\n"
          ]
        },
        {
          "output_type": "stream",
          "name": "stdout",
          "text": [
            "Done. (0.142s)\n",
            "inf : (0.0267s/frame)   nms : (0.0013s/frame)\n"
          ]
        },
        {
          "output_type": "stream",
          "name": "stderr",
          "text": [
            "[2024-05-10 16:46:27] INFO - pipelines.py - Fusing some of the model's layers. If this takes too much memory, you can deactivate it by setting `fuse_model=False`\n",
            "[2024-05-10 16:46:28] INFO - processing.py - Skipping processing `KeypointsLongestMaxSizeRescale` because it resizes the image.\n",
            "[2024-05-10 16:46:28] INFO - processing.py - Skipping processing `KeypointsBottomRightPadding` because it resizes the image.\n"
          ]
        },
        {
          "output_type": "stream",
          "name": "stdout",
          "text": [
            "Done. (0.145s)\n",
            "inf : (0.0262s/frame)   nms : (0.0013s/frame)\n"
          ]
        },
        {
          "output_type": "stream",
          "name": "stderr",
          "text": [
            "[2024-05-10 16:46:28] INFO - pipelines.py - Fusing some of the model's layers. If this takes too much memory, you can deactivate it by setting `fuse_model=False`\n",
            "[2024-05-10 16:46:29] INFO - processing.py - Skipping processing `KeypointsLongestMaxSizeRescale` because it resizes the image.\n",
            "[2024-05-10 16:46:29] INFO - processing.py - Skipping processing `KeypointsBottomRightPadding` because it resizes the image.\n"
          ]
        },
        {
          "output_type": "stream",
          "name": "stdout",
          "text": [
            "Done. (0.143s)\n",
            "inf : (0.0276s/frame)   nms : (0.0013s/frame)\n"
          ]
        },
        {
          "output_type": "stream",
          "name": "stderr",
          "text": [
            "[2024-05-10 16:46:29] INFO - pipelines.py - Fusing some of the model's layers. If this takes too much memory, you can deactivate it by setting `fuse_model=False`\n",
            "[2024-05-10 16:46:29] INFO - processing.py - Skipping processing `KeypointsLongestMaxSizeRescale` because it resizes the image.\n",
            "[2024-05-10 16:46:29] INFO - processing.py - Skipping processing `KeypointsBottomRightPadding` because it resizes the image.\n"
          ]
        },
        {
          "output_type": "stream",
          "name": "stdout",
          "text": [
            "Done. (0.141s)\n",
            "inf : (0.0266s/frame)   nms : (0.0015s/frame)\n"
          ]
        },
        {
          "output_type": "stream",
          "name": "stderr",
          "text": [
            "[2024-05-10 16:46:29] INFO - pipelines.py - Fusing some of the model's layers. If this takes too much memory, you can deactivate it by setting `fuse_model=False`\n",
            "[2024-05-10 16:46:30] INFO - processing.py - Skipping processing `KeypointsLongestMaxSizeRescale` because it resizes the image.\n",
            "[2024-05-10 16:46:30] INFO - processing.py - Skipping processing `KeypointsBottomRightPadding` because it resizes the image.\n"
          ]
        },
        {
          "output_type": "stream",
          "name": "stdout",
          "text": [
            "Done. (0.142s)\n",
            "inf : (0.0261s/frame)   nms : (0.0013s/frame)\n"
          ]
        },
        {
          "output_type": "stream",
          "name": "stderr",
          "text": [
            "[2024-05-10 16:46:30] INFO - pipelines.py - Fusing some of the model's layers. If this takes too much memory, you can deactivate it by setting `fuse_model=False`\n",
            "[2024-05-10 16:46:30] INFO - processing.py - Skipping processing `KeypointsLongestMaxSizeRescale` because it resizes the image.\n",
            "[2024-05-10 16:46:30] INFO - processing.py - Skipping processing `KeypointsBottomRightPadding` because it resizes the image.\n"
          ]
        },
        {
          "output_type": "stream",
          "name": "stdout",
          "text": [
            "Done. (0.142s)\n",
            "inf : (0.0255s/frame)   nms : (0.0012s/frame)\n"
          ]
        },
        {
          "output_type": "stream",
          "name": "stderr",
          "text": [
            "[2024-05-10 16:46:30] INFO - pipelines.py - Fusing some of the model's layers. If this takes too much memory, you can deactivate it by setting `fuse_model=False`\n",
            "[2024-05-10 16:46:31] INFO - processing.py - Skipping processing `KeypointsLongestMaxSizeRescale` because it resizes the image.\n",
            "[2024-05-10 16:46:31] INFO - processing.py - Skipping processing `KeypointsBottomRightPadding` because it resizes the image.\n"
          ]
        },
        {
          "output_type": "stream",
          "name": "stdout",
          "text": [
            "Done. (0.142s)\n",
            "inf : (0.0261s/frame)   nms : (0.0013s/frame)\n"
          ]
        },
        {
          "output_type": "stream",
          "name": "stderr",
          "text": [
            "[2024-05-10 16:46:31] INFO - pipelines.py - Fusing some of the model's layers. If this takes too much memory, you can deactivate it by setting `fuse_model=False`\n",
            "[2024-05-10 16:46:31] INFO - processing.py - Skipping processing `KeypointsLongestMaxSizeRescale` because it resizes the image.\n",
            "[2024-05-10 16:46:31] INFO - processing.py - Skipping processing `KeypointsBottomRightPadding` because it resizes the image.\n"
          ]
        },
        {
          "output_type": "stream",
          "name": "stdout",
          "text": [
            "Done. (0.142s)\n",
            "inf : (0.0260s/frame)   nms : (0.0013s/frame)\n"
          ]
        },
        {
          "output_type": "stream",
          "name": "stderr",
          "text": [
            "[2024-05-10 16:46:31] INFO - pipelines.py - Fusing some of the model's layers. If this takes too much memory, you can deactivate it by setting `fuse_model=False`\n",
            "[2024-05-10 16:46:32] INFO - processing.py - Skipping processing `KeypointsLongestMaxSizeRescale` because it resizes the image.\n",
            "[2024-05-10 16:46:32] INFO - processing.py - Skipping processing `KeypointsBottomRightPadding` because it resizes the image.\n"
          ]
        },
        {
          "output_type": "stream",
          "name": "stdout",
          "text": [
            "Done. (0.143s)\n",
            "inf : (0.0268s/frame)   nms : (0.0013s/frame)\n"
          ]
        },
        {
          "output_type": "stream",
          "name": "stderr",
          "text": [
            "[2024-05-10 16:46:32] INFO - pipelines.py - Fusing some of the model's layers. If this takes too much memory, you can deactivate it by setting `fuse_model=False`\n",
            "[2024-05-10 16:46:33] INFO - processing.py - Skipping processing `KeypointsLongestMaxSizeRescale` because it resizes the image.\n",
            "[2024-05-10 16:46:33] INFO - processing.py - Skipping processing `KeypointsBottomRightPadding` because it resizes the image.\n",
            "[2024-05-10 16:46:33] INFO - pipelines.py - Fusing some of the model's layers. If this takes too much memory, you can deactivate it by setting `fuse_model=False`\n"
          ]
        },
        {
          "output_type": "stream",
          "name": "stdout",
          "text": [
            "Done. (0.144s)\n",
            "inf : (0.0263s/frame)   nms : (0.0013s/frame)\n"
          ]
        },
        {
          "output_type": "stream",
          "name": "stderr",
          "text": [
            "[2024-05-10 16:46:33] INFO - processing.py - Skipping processing `KeypointsLongestMaxSizeRescale` because it resizes the image.\n",
            "[2024-05-10 16:46:33] INFO - processing.py - Skipping processing `KeypointsBottomRightPadding` because it resizes the image.\n",
            "[2024-05-10 16:46:33] INFO - pipelines.py - Fusing some of the model's layers. If this takes too much memory, you can deactivate it by setting `fuse_model=False`\n"
          ]
        },
        {
          "output_type": "stream",
          "name": "stdout",
          "text": [
            "Done. (0.142s)\n",
            "inf : (0.0260s/frame)   nms : (0.0012s/frame)\n"
          ]
        },
        {
          "output_type": "stream",
          "name": "stderr",
          "text": [
            "[2024-05-10 16:46:34] INFO - processing.py - Skipping processing `KeypointsLongestMaxSizeRescale` because it resizes the image.\n",
            "[2024-05-10 16:46:34] INFO - processing.py - Skipping processing `KeypointsBottomRightPadding` because it resizes the image.\n",
            "[2024-05-10 16:46:34] INFO - pipelines.py - Fusing some of the model's layers. If this takes too much memory, you can deactivate it by setting `fuse_model=False`\n"
          ]
        },
        {
          "output_type": "stream",
          "name": "stdout",
          "text": [
            "Done. (0.144s)\n",
            "inf : (0.0257s/frame)   nms : (0.0012s/frame)\n"
          ]
        },
        {
          "output_type": "stream",
          "name": "stderr",
          "text": [
            "[2024-05-10 16:46:34] INFO - processing.py - Skipping processing `KeypointsLongestMaxSizeRescale` because it resizes the image.\n",
            "[2024-05-10 16:46:34] INFO - processing.py - Skipping processing `KeypointsBottomRightPadding` because it resizes the image.\n",
            "[2024-05-10 16:46:34] INFO - pipelines.py - Fusing some of the model's layers. If this takes too much memory, you can deactivate it by setting `fuse_model=False`\n"
          ]
        },
        {
          "output_type": "stream",
          "name": "stdout",
          "text": [
            "Done. (0.143s)\n",
            "inf : (0.0263s/frame)   nms : (0.0013s/frame)\n"
          ]
        },
        {
          "output_type": "stream",
          "name": "stderr",
          "text": [
            "[2024-05-10 16:46:35] INFO - processing.py - Skipping processing `KeypointsLongestMaxSizeRescale` because it resizes the image.\n",
            "[2024-05-10 16:46:35] INFO - processing.py - Skipping processing `KeypointsBottomRightPadding` because it resizes the image.\n",
            "[2024-05-10 16:46:35] INFO - pipelines.py - Fusing some of the model's layers. If this takes too much memory, you can deactivate it by setting `fuse_model=False`\n"
          ]
        },
        {
          "output_type": "stream",
          "name": "stdout",
          "text": [
            "Done. (0.157s)\n",
            "inf : (0.0332s/frame)   nms : (0.0016s/frame)\n"
          ]
        },
        {
          "output_type": "stream",
          "name": "stderr",
          "text": [
            "[2024-05-10 16:46:35] INFO - processing.py - Skipping processing `KeypointsLongestMaxSizeRescale` because it resizes the image.\n",
            "[2024-05-10 16:46:35] INFO - processing.py - Skipping processing `KeypointsBottomRightPadding` because it resizes the image.\n",
            "[2024-05-10 16:46:35] INFO - pipelines.py - Fusing some of the model's layers. If this takes too much memory, you can deactivate it by setting `fuse_model=False`\n"
          ]
        },
        {
          "output_type": "stream",
          "name": "stdout",
          "text": [
            "Done. (0.143s)\n",
            "inf : (0.0256s/frame)   nms : (0.0013s/frame)\n"
          ]
        },
        {
          "output_type": "stream",
          "name": "stderr",
          "text": [
            "[2024-05-10 16:46:36] INFO - processing.py - Skipping processing `KeypointsLongestMaxSizeRescale` because it resizes the image.\n",
            "[2024-05-10 16:46:36] INFO - processing.py - Skipping processing `KeypointsBottomRightPadding` because it resizes the image.\n",
            "[2024-05-10 16:46:36] INFO - pipelines.py - Fusing some of the model's layers. If this takes too much memory, you can deactivate it by setting `fuse_model=False`\n"
          ]
        },
        {
          "output_type": "stream",
          "name": "stdout",
          "text": [
            "Done. (0.145s)\n",
            "inf : (0.0262s/frame)   nms : (0.0013s/frame)\n"
          ]
        },
        {
          "output_type": "stream",
          "name": "stderr",
          "text": [
            "[2024-05-10 16:46:36] INFO - processing.py - Skipping processing `KeypointsLongestMaxSizeRescale` because it resizes the image.\n",
            "[2024-05-10 16:46:36] INFO - processing.py - Skipping processing `KeypointsBottomRightPadding` because it resizes the image.\n",
            "[2024-05-10 16:46:36] INFO - pipelines.py - Fusing some of the model's layers. If this takes too much memory, you can deactivate it by setting `fuse_model=False`\n"
          ]
        },
        {
          "output_type": "stream",
          "name": "stdout",
          "text": [
            "Done. (0.145s)\n",
            "inf : (0.0262s/frame)   nms : (0.0013s/frame)\n"
          ]
        },
        {
          "output_type": "stream",
          "name": "stderr",
          "text": [
            "[2024-05-10 16:46:37] INFO - processing.py - Skipping processing `KeypointsLongestMaxSizeRescale` because it resizes the image.\n",
            "[2024-05-10 16:46:37] INFO - processing.py - Skipping processing `KeypointsBottomRightPadding` because it resizes the image.\n",
            "[2024-05-10 16:46:37] INFO - pipelines.py - Fusing some of the model's layers. If this takes too much memory, you can deactivate it by setting `fuse_model=False`\n"
          ]
        },
        {
          "output_type": "stream",
          "name": "stdout",
          "text": [
            "Done. (0.145s)\n",
            "inf : (0.0264s/frame)   nms : (0.0013s/frame)\n"
          ]
        },
        {
          "output_type": "stream",
          "name": "stderr",
          "text": [
            "[2024-05-10 16:46:37] INFO - processing.py - Skipping processing `KeypointsLongestMaxSizeRescale` because it resizes the image.\n",
            "[2024-05-10 16:46:37] INFO - processing.py - Skipping processing `KeypointsBottomRightPadding` because it resizes the image.\n",
            "[2024-05-10 16:46:38] INFO - pipelines.py - Fusing some of the model's layers. If this takes too much memory, you can deactivate it by setting `fuse_model=False`\n"
          ]
        },
        {
          "output_type": "stream",
          "name": "stdout",
          "text": [
            "Done. (0.143s)\n",
            "inf : (0.0262s/frame)   nms : (0.0013s/frame)\n"
          ]
        },
        {
          "output_type": "stream",
          "name": "stderr",
          "text": [
            "[2024-05-10 16:46:38] INFO - processing.py - Skipping processing `KeypointsLongestMaxSizeRescale` because it resizes the image.\n",
            "[2024-05-10 16:46:38] INFO - processing.py - Skipping processing `KeypointsBottomRightPadding` because it resizes the image.\n",
            "[2024-05-10 16:46:38] INFO - pipelines.py - Fusing some of the model's layers. If this takes too much memory, you can deactivate it by setting `fuse_model=False`\n"
          ]
        },
        {
          "output_type": "stream",
          "name": "stdout",
          "text": [
            "Done. (0.143s)\n",
            "inf : (0.0259s/frame)   nms : (0.0013s/frame)\n"
          ]
        },
        {
          "output_type": "stream",
          "name": "stderr",
          "text": [
            "[2024-05-10 16:46:38] INFO - processing.py - Skipping processing `KeypointsLongestMaxSizeRescale` because it resizes the image.\n",
            "[2024-05-10 16:46:38] INFO - processing.py - Skipping processing `KeypointsBottomRightPadding` because it resizes the image.\n",
            "[2024-05-10 16:46:39] INFO - pipelines.py - Fusing some of the model's layers. If this takes too much memory, you can deactivate it by setting `fuse_model=False`\n"
          ]
        },
        {
          "output_type": "stream",
          "name": "stdout",
          "text": [
            "Done. (0.142s)\n",
            "inf : (0.0259s/frame)   nms : (0.0012s/frame)\n"
          ]
        },
        {
          "output_type": "stream",
          "name": "stderr",
          "text": [
            "[2024-05-10 16:46:39] INFO - processing.py - Skipping processing `KeypointsLongestMaxSizeRescale` because it resizes the image.\n",
            "[2024-05-10 16:46:39] INFO - processing.py - Skipping processing `KeypointsBottomRightPadding` because it resizes the image.\n",
            "[2024-05-10 16:46:39] INFO - pipelines.py - Fusing some of the model's layers. If this takes too much memory, you can deactivate it by setting `fuse_model=False`\n"
          ]
        },
        {
          "output_type": "stream",
          "name": "stdout",
          "text": [
            "Done. (0.146s)\n",
            "inf : (0.0257s/frame)   nms : (0.0012s/frame)\n"
          ]
        },
        {
          "output_type": "stream",
          "name": "stderr",
          "text": [
            "[2024-05-10 16:46:39] INFO - processing.py - Skipping processing `KeypointsLongestMaxSizeRescale` because it resizes the image.\n",
            "[2024-05-10 16:46:39] INFO - processing.py - Skipping processing `KeypointsBottomRightPadding` because it resizes the image.\n",
            "[2024-05-10 16:46:40] INFO - pipelines.py - Fusing some of the model's layers. If this takes too much memory, you can deactivate it by setting `fuse_model=False`\n"
          ]
        },
        {
          "output_type": "stream",
          "name": "stdout",
          "text": [
            "Done. (0.142s)\n",
            "inf : (0.0258s/frame)   nms : (0.0013s/frame)\n"
          ]
        },
        {
          "output_type": "stream",
          "name": "stderr",
          "text": [
            "[2024-05-10 16:46:40] INFO - processing.py - Skipping processing `KeypointsLongestMaxSizeRescale` because it resizes the image.\n",
            "[2024-05-10 16:46:40] INFO - processing.py - Skipping processing `KeypointsBottomRightPadding` because it resizes the image.\n",
            "[2024-05-10 16:46:40] INFO - pipelines.py - Fusing some of the model's layers. If this takes too much memory, you can deactivate it by setting `fuse_model=False`\n"
          ]
        },
        {
          "output_type": "stream",
          "name": "stdout",
          "text": [
            "Done. (0.143s)\n",
            "inf : (0.0263s/frame)   nms : (0.0013s/frame)\n"
          ]
        },
        {
          "output_type": "stream",
          "name": "stderr",
          "text": [
            "[2024-05-10 16:46:41] INFO - processing.py - Skipping processing `KeypointsLongestMaxSizeRescale` because it resizes the image.\n",
            "[2024-05-10 16:46:41] INFO - processing.py - Skipping processing `KeypointsBottomRightPadding` because it resizes the image.\n",
            "[2024-05-10 16:46:41] INFO - pipelines.py - Fusing some of the model's layers. If this takes too much memory, you can deactivate it by setting `fuse_model=False`\n"
          ]
        },
        {
          "output_type": "stream",
          "name": "stdout",
          "text": [
            "Done. (0.144s)\n",
            "inf : (0.0258s/frame)   nms : (0.0013s/frame)\n"
          ]
        },
        {
          "output_type": "stream",
          "name": "stderr",
          "text": [
            "[2024-05-10 16:46:41] INFO - processing.py - Skipping processing `KeypointsLongestMaxSizeRescale` because it resizes the image.\n",
            "[2024-05-10 16:46:41] INFO - processing.py - Skipping processing `KeypointsBottomRightPadding` because it resizes the image.\n",
            "[2024-05-10 16:46:41] INFO - pipelines.py - Fusing some of the model's layers. If this takes too much memory, you can deactivate it by setting `fuse_model=False`\n"
          ]
        },
        {
          "output_type": "stream",
          "name": "stdout",
          "text": [
            "Done. (0.143s)\n",
            "inf : (0.0263s/frame)   nms : (0.0013s/frame)\n"
          ]
        },
        {
          "output_type": "stream",
          "name": "stderr",
          "text": [
            "[2024-05-10 16:46:42] INFO - processing.py - Skipping processing `KeypointsLongestMaxSizeRescale` because it resizes the image.\n",
            "[2024-05-10 16:46:42] INFO - processing.py - Skipping processing `KeypointsBottomRightPadding` because it resizes the image.\n",
            "[2024-05-10 16:46:42] INFO - pipelines.py - Fusing some of the model's layers. If this takes too much memory, you can deactivate it by setting `fuse_model=False`\n"
          ]
        },
        {
          "output_type": "stream",
          "name": "stdout",
          "text": [
            "Done. (0.144s)\n",
            "inf : (0.0264s/frame)   nms : (0.0013s/frame)\n"
          ]
        },
        {
          "output_type": "stream",
          "name": "stderr",
          "text": [
            "[2024-05-10 16:46:42] INFO - processing.py - Skipping processing `KeypointsLongestMaxSizeRescale` because it resizes the image.\n",
            "[2024-05-10 16:46:42] INFO - processing.py - Skipping processing `KeypointsBottomRightPadding` because it resizes the image.\n",
            "[2024-05-10 16:46:42] INFO - pipelines.py - Fusing some of the model's layers. If this takes too much memory, you can deactivate it by setting `fuse_model=False`\n"
          ]
        },
        {
          "output_type": "stream",
          "name": "stdout",
          "text": [
            "Done. (0.141s)\n",
            "inf : (0.0261s/frame)   nms : (0.0013s/frame)\n"
          ]
        },
        {
          "output_type": "stream",
          "name": "stderr",
          "text": [
            "[2024-05-10 16:46:43] INFO - processing.py - Skipping processing `KeypointsLongestMaxSizeRescale` because it resizes the image.\n",
            "[2024-05-10 16:46:43] INFO - processing.py - Skipping processing `KeypointsBottomRightPadding` because it resizes the image.\n",
            "[2024-05-10 16:46:43] INFO - pipelines.py - Fusing some of the model's layers. If this takes too much memory, you can deactivate it by setting `fuse_model=False`\n"
          ]
        },
        {
          "output_type": "stream",
          "name": "stdout",
          "text": [
            "Done. (0.142s)\n",
            "inf : (0.0263s/frame)   nms : (0.0013s/frame)\n"
          ]
        },
        {
          "output_type": "stream",
          "name": "stderr",
          "text": [
            "[2024-05-10 16:46:43] INFO - processing.py - Skipping processing `KeypointsLongestMaxSizeRescale` because it resizes the image.\n",
            "[2024-05-10 16:46:43] INFO - processing.py - Skipping processing `KeypointsBottomRightPadding` because it resizes the image.\n",
            "[2024-05-10 16:46:43] INFO - pipelines.py - Fusing some of the model's layers. If this takes too much memory, you can deactivate it by setting `fuse_model=False`\n"
          ]
        },
        {
          "output_type": "stream",
          "name": "stdout",
          "text": [
            "Done. (0.145s)\n",
            "inf : (0.0287s/frame)   nms : (0.0013s/frame)\n"
          ]
        },
        {
          "output_type": "stream",
          "name": "stderr",
          "text": [
            "[2024-05-10 16:46:44] INFO - processing.py - Skipping processing `KeypointsLongestMaxSizeRescale` because it resizes the image.\n",
            "[2024-05-10 16:46:44] INFO - processing.py - Skipping processing `KeypointsBottomRightPadding` because it resizes the image.\n",
            "[2024-05-10 16:46:44] INFO - pipelines.py - Fusing some of the model's layers. If this takes too much memory, you can deactivate it by setting `fuse_model=False`\n"
          ]
        },
        {
          "output_type": "stream",
          "name": "stdout",
          "text": [
            "Done. (0.143s)\n",
            "inf : (0.0257s/frame)   nms : (0.0012s/frame)\n"
          ]
        },
        {
          "output_type": "stream",
          "name": "stderr",
          "text": [
            "[2024-05-10 16:46:44] INFO - processing.py - Skipping processing `KeypointsLongestMaxSizeRescale` because it resizes the image.\n",
            "[2024-05-10 16:46:44] INFO - processing.py - Skipping processing `KeypointsBottomRightPadding` because it resizes the image.\n",
            "[2024-05-10 16:46:45] INFO - pipelines.py - Fusing some of the model's layers. If this takes too much memory, you can deactivate it by setting `fuse_model=False`\n"
          ]
        },
        {
          "output_type": "stream",
          "name": "stdout",
          "text": [
            "Done. (0.144s)\n",
            "inf : (0.0267s/frame)   nms : (0.0013s/frame)\n"
          ]
        },
        {
          "output_type": "stream",
          "name": "stderr",
          "text": [
            "[2024-05-10 16:46:45] INFO - processing.py - Skipping processing `KeypointsLongestMaxSizeRescale` because it resizes the image.\n",
            "[2024-05-10 16:46:45] INFO - processing.py - Skipping processing `KeypointsBottomRightPadding` because it resizes the image.\n",
            "[2024-05-10 16:46:45] INFO - pipelines.py - Fusing some of the model's layers. If this takes too much memory, you can deactivate it by setting `fuse_model=False`\n"
          ]
        },
        {
          "output_type": "stream",
          "name": "stdout",
          "text": [
            "Done. (0.141s)\n",
            "inf : (0.0251s/frame)   nms : (0.0012s/frame)\n"
          ]
        },
        {
          "output_type": "stream",
          "name": "stderr",
          "text": [
            "[2024-05-10 16:46:45] INFO - processing.py - Skipping processing `KeypointsLongestMaxSizeRescale` because it resizes the image.\n",
            "[2024-05-10 16:46:45] INFO - processing.py - Skipping processing `KeypointsBottomRightPadding` because it resizes the image.\n",
            "[2024-05-10 16:46:46] INFO - pipelines.py - Fusing some of the model's layers. If this takes too much memory, you can deactivate it by setting `fuse_model=False`\n"
          ]
        },
        {
          "output_type": "stream",
          "name": "stdout",
          "text": [
            "Done. (0.144s)\n",
            "inf : (0.0264s/frame)   nms : (0.0013s/frame)\n"
          ]
        },
        {
          "output_type": "stream",
          "name": "stderr",
          "text": [
            "[2024-05-10 16:46:46] INFO - processing.py - Skipping processing `KeypointsLongestMaxSizeRescale` because it resizes the image.\n",
            "[2024-05-10 16:46:46] INFO - processing.py - Skipping processing `KeypointsBottomRightPadding` because it resizes the image.\n",
            "[2024-05-10 16:46:46] INFO - pipelines.py - Fusing some of the model's layers. If this takes too much memory, you can deactivate it by setting `fuse_model=False`\n"
          ]
        },
        {
          "output_type": "stream",
          "name": "stdout",
          "text": [
            "Done. (0.144s)\n",
            "inf : (0.0262s/frame)   nms : (0.0013s/frame)\n"
          ]
        },
        {
          "output_type": "stream",
          "name": "stderr",
          "text": [
            "[2024-05-10 16:46:46] INFO - processing.py - Skipping processing `KeypointsLongestMaxSizeRescale` because it resizes the image.\n",
            "[2024-05-10 16:46:46] INFO - processing.py - Skipping processing `KeypointsBottomRightPadding` because it resizes the image.\n",
            "[2024-05-10 16:46:47] INFO - pipelines.py - Fusing some of the model's layers. If this takes too much memory, you can deactivate it by setting `fuse_model=False`\n"
          ]
        },
        {
          "output_type": "stream",
          "name": "stdout",
          "text": [
            "Done. (0.141s)\n",
            "inf : (0.0264s/frame)   nms : (0.0013s/frame)\n"
          ]
        },
        {
          "output_type": "stream",
          "name": "stderr",
          "text": [
            "[2024-05-10 16:46:47] INFO - processing.py - Skipping processing `KeypointsLongestMaxSizeRescale` because it resizes the image.\n",
            "[2024-05-10 16:46:47] INFO - processing.py - Skipping processing `KeypointsBottomRightPadding` because it resizes the image.\n",
            "[2024-05-10 16:46:47] INFO - pipelines.py - Fusing some of the model's layers. If this takes too much memory, you can deactivate it by setting `fuse_model=False`\n"
          ]
        },
        {
          "output_type": "stream",
          "name": "stdout",
          "text": [
            "Done. (0.141s)\n",
            "inf : (0.0257s/frame)   nms : (0.0012s/frame)\n"
          ]
        },
        {
          "output_type": "stream",
          "name": "stderr",
          "text": [
            "[2024-05-10 16:46:47] INFO - processing.py - Skipping processing `KeypointsLongestMaxSizeRescale` because it resizes the image.\n",
            "[2024-05-10 16:46:47] INFO - processing.py - Skipping processing `KeypointsBottomRightPadding` because it resizes the image.\n",
            "[2024-05-10 16:46:48] INFO - pipelines.py - Fusing some of the model's layers. If this takes too much memory, you can deactivate it by setting `fuse_model=False`\n"
          ]
        },
        {
          "output_type": "stream",
          "name": "stdout",
          "text": [
            "Done. (0.141s)\n",
            "inf : (0.0264s/frame)   nms : (0.0013s/frame)\n"
          ]
        },
        {
          "output_type": "stream",
          "name": "stderr",
          "text": [
            "[2024-05-10 16:46:48] INFO - processing.py - Skipping processing `KeypointsLongestMaxSizeRescale` because it resizes the image.\n",
            "[2024-05-10 16:46:48] INFO - processing.py - Skipping processing `KeypointsBottomRightPadding` because it resizes the image.\n",
            "[2024-05-10 16:46:48] INFO - pipelines.py - Fusing some of the model's layers. If this takes too much memory, you can deactivate it by setting `fuse_model=False`\n"
          ]
        },
        {
          "output_type": "stream",
          "name": "stdout",
          "text": [
            "Done. (0.143s)\n",
            "inf : (0.0277s/frame)   nms : (0.0013s/frame)\n"
          ]
        },
        {
          "output_type": "stream",
          "name": "stderr",
          "text": [
            "[2024-05-10 16:46:49] INFO - processing.py - Skipping processing `KeypointsLongestMaxSizeRescale` because it resizes the image.\n",
            "[2024-05-10 16:46:49] INFO - processing.py - Skipping processing `KeypointsBottomRightPadding` because it resizes the image.\n",
            "[2024-05-10 16:46:49] INFO - pipelines.py - Fusing some of the model's layers. If this takes too much memory, you can deactivate it by setting `fuse_model=False`\n"
          ]
        },
        {
          "output_type": "stream",
          "name": "stdout",
          "text": [
            "Done. (0.144s)\n",
            "inf : (0.0261s/frame)   nms : (0.0014s/frame)\n"
          ]
        },
        {
          "output_type": "stream",
          "name": "stderr",
          "text": [
            "[2024-05-10 16:46:49] INFO - processing.py - Skipping processing `KeypointsLongestMaxSizeRescale` because it resizes the image.\n",
            "[2024-05-10 16:46:49] INFO - processing.py - Skipping processing `KeypointsBottomRightPadding` because it resizes the image.\n",
            "[2024-05-10 16:46:49] INFO - pipelines.py - Fusing some of the model's layers. If this takes too much memory, you can deactivate it by setting `fuse_model=False`\n"
          ]
        },
        {
          "output_type": "stream",
          "name": "stdout",
          "text": [
            "Done. (0.141s)\n",
            "inf : (0.0258s/frame)   nms : (0.0013s/frame)\n"
          ]
        },
        {
          "output_type": "stream",
          "name": "stderr",
          "text": [
            "[2024-05-10 16:46:50] INFO - processing.py - Skipping processing `KeypointsLongestMaxSizeRescale` because it resizes the image.\n",
            "[2024-05-10 16:46:50] INFO - processing.py - Skipping processing `KeypointsBottomRightPadding` because it resizes the image.\n",
            "[2024-05-10 16:46:50] INFO - pipelines.py - Fusing some of the model's layers. If this takes too much memory, you can deactivate it by setting `fuse_model=False`\n"
          ]
        },
        {
          "output_type": "stream",
          "name": "stdout",
          "text": [
            "Done. (0.142s)\n",
            "inf : (0.0259s/frame)   nms : (0.0013s/frame)\n"
          ]
        },
        {
          "output_type": "stream",
          "name": "stderr",
          "text": [
            "[2024-05-10 16:46:50] INFO - processing.py - Skipping processing `KeypointsLongestMaxSizeRescale` because it resizes the image.\n",
            "[2024-05-10 16:46:50] INFO - processing.py - Skipping processing `KeypointsBottomRightPadding` because it resizes the image.\n",
            "[2024-05-10 16:46:50] INFO - pipelines.py - Fusing some of the model's layers. If this takes too much memory, you can deactivate it by setting `fuse_model=False`\n"
          ]
        },
        {
          "output_type": "stream",
          "name": "stdout",
          "text": [
            "Done. (0.142s)\n",
            "inf : (0.0261s/frame)   nms : (0.0013s/frame)\n"
          ]
        },
        {
          "output_type": "stream",
          "name": "stderr",
          "text": [
            "[2024-05-10 16:46:51] INFO - processing.py - Skipping processing `KeypointsLongestMaxSizeRescale` because it resizes the image.\n",
            "[2024-05-10 16:46:51] INFO - processing.py - Skipping processing `KeypointsBottomRightPadding` because it resizes the image.\n",
            "[2024-05-10 16:46:51] INFO - pipelines.py - Fusing some of the model's layers. If this takes too much memory, you can deactivate it by setting `fuse_model=False`\n"
          ]
        },
        {
          "output_type": "stream",
          "name": "stdout",
          "text": [
            "Done. (0.142s)\n",
            "inf : (0.0263s/frame)   nms : (0.0013s/frame)\n"
          ]
        },
        {
          "output_type": "stream",
          "name": "stderr",
          "text": [
            "[2024-05-10 16:46:51] INFO - processing.py - Skipping processing `KeypointsLongestMaxSizeRescale` because it resizes the image.\n",
            "[2024-05-10 16:46:51] INFO - processing.py - Skipping processing `KeypointsBottomRightPadding` because it resizes the image.\n",
            "[2024-05-10 16:46:51] INFO - pipelines.py - Fusing some of the model's layers. If this takes too much memory, you can deactivate it by setting `fuse_model=False`\n"
          ]
        },
        {
          "output_type": "stream",
          "name": "stdout",
          "text": [
            "Done. (0.145s)\n",
            "inf : (0.0269s/frame)   nms : (0.0013s/frame)\n"
          ]
        },
        {
          "output_type": "stream",
          "name": "stderr",
          "text": [
            "[2024-05-10 16:46:52] INFO - processing.py - Skipping processing `KeypointsLongestMaxSizeRescale` because it resizes the image.\n",
            "[2024-05-10 16:46:52] INFO - processing.py - Skipping processing `KeypointsBottomRightPadding` because it resizes the image.\n",
            "[2024-05-10 16:46:52] INFO - pipelines.py - Fusing some of the model's layers. If this takes too much memory, you can deactivate it by setting `fuse_model=False`\n"
          ]
        },
        {
          "output_type": "stream",
          "name": "stdout",
          "text": [
            "Done. (0.142s)\n",
            "inf : (0.0260s/frame)   nms : (0.0013s/frame)\n"
          ]
        },
        {
          "output_type": "stream",
          "name": "stderr",
          "text": [
            "[2024-05-10 16:46:52] INFO - processing.py - Skipping processing `KeypointsLongestMaxSizeRescale` because it resizes the image.\n",
            "[2024-05-10 16:46:52] INFO - processing.py - Skipping processing `KeypointsBottomRightPadding` because it resizes the image.\n",
            "[2024-05-10 16:46:53] INFO - pipelines.py - Fusing some of the model's layers. If this takes too much memory, you can deactivate it by setting `fuse_model=False`\n"
          ]
        },
        {
          "output_type": "stream",
          "name": "stdout",
          "text": [
            "Done. (0.143s)\n",
            "inf : (0.0266s/frame)   nms : (0.0013s/frame)\n"
          ]
        },
        {
          "output_type": "stream",
          "name": "stderr",
          "text": [
            "[2024-05-10 16:46:53] INFO - processing.py - Skipping processing `KeypointsLongestMaxSizeRescale` because it resizes the image.\n",
            "[2024-05-10 16:46:53] INFO - processing.py - Skipping processing `KeypointsBottomRightPadding` because it resizes the image.\n",
            "[2024-05-10 16:46:53] INFO - pipelines.py - Fusing some of the model's layers. If this takes too much memory, you can deactivate it by setting `fuse_model=False`\n"
          ]
        },
        {
          "output_type": "stream",
          "name": "stdout",
          "text": [
            "Done. (0.152s)\n",
            "inf : (0.0334s/frame)   nms : (0.0016s/frame)\n"
          ]
        },
        {
          "output_type": "stream",
          "name": "stderr",
          "text": [
            "[2024-05-10 16:46:53] INFO - processing.py - Skipping processing `KeypointsLongestMaxSizeRescale` because it resizes the image.\n",
            "[2024-05-10 16:46:53] INFO - processing.py - Skipping processing `KeypointsBottomRightPadding` because it resizes the image.\n",
            "[2024-05-10 16:46:54] INFO - pipelines.py - Fusing some of the model's layers. If this takes too much memory, you can deactivate it by setting `fuse_model=False`\n"
          ]
        },
        {
          "output_type": "stream",
          "name": "stdout",
          "text": [
            "Done. (0.141s)\n",
            "inf : (0.0261s/frame)   nms : (0.0012s/frame)\n"
          ]
        },
        {
          "output_type": "stream",
          "name": "stderr",
          "text": [
            "[2024-05-10 16:46:54] INFO - processing.py - Skipping processing `KeypointsLongestMaxSizeRescale` because it resizes the image.\n",
            "[2024-05-10 16:46:54] INFO - processing.py - Skipping processing `KeypointsBottomRightPadding` because it resizes the image.\n",
            "[2024-05-10 16:46:54] INFO - pipelines.py - Fusing some of the model's layers. If this takes too much memory, you can deactivate it by setting `fuse_model=False`\n"
          ]
        },
        {
          "output_type": "stream",
          "name": "stdout",
          "text": [
            "Done. (0.142s)\n",
            "inf : (0.0264s/frame)   nms : (0.0013s/frame)\n"
          ]
        },
        {
          "output_type": "stream",
          "name": "stderr",
          "text": [
            "[2024-05-10 16:46:55] INFO - processing.py - Skipping processing `KeypointsLongestMaxSizeRescale` because it resizes the image.\n",
            "[2024-05-10 16:46:55] INFO - processing.py - Skipping processing `KeypointsBottomRightPadding` because it resizes the image.\n",
            "[2024-05-10 16:46:55] INFO - pipelines.py - Fusing some of the model's layers. If this takes too much memory, you can deactivate it by setting `fuse_model=False`\n"
          ]
        },
        {
          "output_type": "stream",
          "name": "stdout",
          "text": [
            "Done. (0.142s)\n",
            "inf : (0.0271s/frame)   nms : (0.0013s/frame)\n"
          ]
        },
        {
          "output_type": "stream",
          "name": "stderr",
          "text": [
            "[2024-05-10 16:46:55] INFO - processing.py - Skipping processing `KeypointsLongestMaxSizeRescale` because it resizes the image.\n",
            "[2024-05-10 16:46:55] INFO - processing.py - Skipping processing `KeypointsBottomRightPadding` because it resizes the image.\n",
            "[2024-05-10 16:46:55] INFO - pipelines.py - Fusing some of the model's layers. If this takes too much memory, you can deactivate it by setting `fuse_model=False`\n"
          ]
        },
        {
          "output_type": "stream",
          "name": "stdout",
          "text": [
            "Done. (0.140s)\n",
            "inf : (0.0256s/frame)   nms : (0.0013s/frame)\n"
          ]
        },
        {
          "output_type": "stream",
          "name": "stderr",
          "text": [
            "[2024-05-10 16:46:56] INFO - processing.py - Skipping processing `KeypointsLongestMaxSizeRescale` because it resizes the image.\n",
            "[2024-05-10 16:46:56] INFO - processing.py - Skipping processing `KeypointsBottomRightPadding` because it resizes the image.\n",
            "[2024-05-10 16:46:56] INFO - pipelines.py - Fusing some of the model's layers. If this takes too much memory, you can deactivate it by setting `fuse_model=False`\n"
          ]
        },
        {
          "output_type": "stream",
          "name": "stdout",
          "text": [
            "Done. (0.139s)\n",
            "inf : (0.0255s/frame)   nms : (0.0013s/frame)\n"
          ]
        },
        {
          "output_type": "stream",
          "name": "stderr",
          "text": [
            "[2024-05-10 16:46:56] INFO - processing.py - Skipping processing `KeypointsLongestMaxSizeRescale` because it resizes the image.\n",
            "[2024-05-10 16:46:56] INFO - processing.py - Skipping processing `KeypointsBottomRightPadding` because it resizes the image.\n",
            "[2024-05-10 16:46:56] INFO - pipelines.py - Fusing some of the model's layers. If this takes too much memory, you can deactivate it by setting `fuse_model=False`\n"
          ]
        },
        {
          "output_type": "stream",
          "name": "stdout",
          "text": [
            "Done. (0.161s)\n",
            "inf : (0.0263s/frame)   nms : (0.0013s/frame)\n"
          ]
        },
        {
          "output_type": "stream",
          "name": "stderr",
          "text": [
            "[2024-05-10 16:46:57] INFO - processing.py - Skipping processing `KeypointsLongestMaxSizeRescale` because it resizes the image.\n",
            "[2024-05-10 16:46:57] INFO - processing.py - Skipping processing `KeypointsBottomRightPadding` because it resizes the image.\n",
            "[2024-05-10 16:46:57] INFO - pipelines.py - Fusing some of the model's layers. If this takes too much memory, you can deactivate it by setting `fuse_model=False`\n"
          ]
        },
        {
          "output_type": "stream",
          "name": "stdout",
          "text": [
            "Done. (0.142s)\n",
            "inf : (0.0259s/frame)   nms : (0.0012s/frame)\n"
          ]
        },
        {
          "output_type": "stream",
          "name": "stderr",
          "text": [
            "[2024-05-10 16:46:57] INFO - processing.py - Skipping processing `KeypointsLongestMaxSizeRescale` because it resizes the image.\n",
            "[2024-05-10 16:46:57] INFO - processing.py - Skipping processing `KeypointsBottomRightPadding` because it resizes the image.\n",
            "[2024-05-10 16:46:57] INFO - pipelines.py - Fusing some of the model's layers. If this takes too much memory, you can deactivate it by setting `fuse_model=False`\n"
          ]
        },
        {
          "output_type": "stream",
          "name": "stdout",
          "text": [
            "Done. (0.142s)\n",
            "inf : (0.0258s/frame)   nms : (0.0013s/frame)\n"
          ]
        },
        {
          "output_type": "stream",
          "name": "stderr",
          "text": [
            "[2024-05-10 16:46:58] INFO - processing.py - Skipping processing `KeypointsLongestMaxSizeRescale` because it resizes the image.\n",
            "[2024-05-10 16:46:58] INFO - processing.py - Skipping processing `KeypointsBottomRightPadding` because it resizes the image.\n",
            "[2024-05-10 16:46:58] INFO - pipelines.py - Fusing some of the model's layers. If this takes too much memory, you can deactivate it by setting `fuse_model=False`\n"
          ]
        },
        {
          "output_type": "stream",
          "name": "stdout",
          "text": [
            "Done. (0.144s)\n",
            "inf : (0.0266s/frame)   nms : (0.0013s/frame)\n"
          ]
        },
        {
          "output_type": "stream",
          "name": "stderr",
          "text": [
            "[2024-05-10 16:46:58] INFO - processing.py - Skipping processing `KeypointsLongestMaxSizeRescale` because it resizes the image.\n",
            "[2024-05-10 16:46:58] INFO - processing.py - Skipping processing `KeypointsBottomRightPadding` because it resizes the image.\n",
            "[2024-05-10 16:46:58] INFO - pipelines.py - Fusing some of the model's layers. If this takes too much memory, you can deactivate it by setting `fuse_model=False`\n"
          ]
        },
        {
          "output_type": "stream",
          "name": "stdout",
          "text": [
            "Done. (0.141s)\n",
            "inf : (0.0261s/frame)   nms : (0.0013s/frame)\n"
          ]
        },
        {
          "output_type": "stream",
          "name": "stderr",
          "text": [
            "[2024-05-10 16:46:59] INFO - processing.py - Skipping processing `KeypointsLongestMaxSizeRescale` because it resizes the image.\n",
            "[2024-05-10 16:46:59] INFO - processing.py - Skipping processing `KeypointsBottomRightPadding` because it resizes the image.\n",
            "[2024-05-10 16:46:59] INFO - pipelines.py - Fusing some of the model's layers. If this takes too much memory, you can deactivate it by setting `fuse_model=False`\n"
          ]
        },
        {
          "output_type": "stream",
          "name": "stdout",
          "text": [
            "Done. (0.144s)\n",
            "inf : (0.0264s/frame)   nms : (0.0021s/frame)\n"
          ]
        },
        {
          "output_type": "stream",
          "name": "stderr",
          "text": [
            "[2024-05-10 16:46:59] INFO - processing.py - Skipping processing `KeypointsLongestMaxSizeRescale` because it resizes the image.\n",
            "[2024-05-10 16:46:59] INFO - processing.py - Skipping processing `KeypointsBottomRightPadding` because it resizes the image.\n",
            "[2024-05-10 16:47:00] INFO - pipelines.py - Fusing some of the model's layers. If this takes too much memory, you can deactivate it by setting `fuse_model=False`\n"
          ]
        },
        {
          "output_type": "stream",
          "name": "stdout",
          "text": [
            "Done. (0.141s)\n",
            "inf : (0.0259s/frame)   nms : (0.0012s/frame)\n"
          ]
        },
        {
          "output_type": "stream",
          "name": "stderr",
          "text": [
            "[2024-05-10 16:47:00] INFO - processing.py - Skipping processing `KeypointsLongestMaxSizeRescale` because it resizes the image.\n",
            "[2024-05-10 16:47:00] INFO - processing.py - Skipping processing `KeypointsBottomRightPadding` because it resizes the image.\n",
            "[2024-05-10 16:47:00] INFO - pipelines.py - Fusing some of the model's layers. If this takes too much memory, you can deactivate it by setting `fuse_model=False`\n"
          ]
        },
        {
          "output_type": "stream",
          "name": "stdout",
          "text": [
            "Done. (0.141s)\n",
            "inf : (0.0264s/frame)   nms : (0.0013s/frame)\n"
          ]
        },
        {
          "output_type": "stream",
          "name": "stderr",
          "text": [
            "[2024-05-10 16:47:00] INFO - processing.py - Skipping processing `KeypointsLongestMaxSizeRescale` because it resizes the image.\n",
            "[2024-05-10 16:47:00] INFO - processing.py - Skipping processing `KeypointsBottomRightPadding` because it resizes the image.\n",
            "[2024-05-10 16:47:01] INFO - pipelines.py - Fusing some of the model's layers. If this takes too much memory, you can deactivate it by setting `fuse_model=False`\n"
          ]
        },
        {
          "output_type": "stream",
          "name": "stdout",
          "text": [
            "Done. (0.144s)\n",
            "inf : (0.0267s/frame)   nms : (0.0013s/frame)\n"
          ]
        },
        {
          "output_type": "stream",
          "name": "stderr",
          "text": [
            "[2024-05-10 16:47:01] INFO - processing.py - Skipping processing `KeypointsLongestMaxSizeRescale` because it resizes the image.\n",
            "[2024-05-10 16:47:01] INFO - processing.py - Skipping processing `KeypointsBottomRightPadding` because it resizes the image.\n",
            "[2024-05-10 16:47:01] INFO - pipelines.py - Fusing some of the model's layers. If this takes too much memory, you can deactivate it by setting `fuse_model=False`\n"
          ]
        },
        {
          "output_type": "stream",
          "name": "stdout",
          "text": [
            "Done. (0.141s)\n",
            "inf : (0.0256s/frame)   nms : (0.0012s/frame)\n"
          ]
        },
        {
          "output_type": "stream",
          "name": "stderr",
          "text": [
            "[2024-05-10 16:47:01] INFO - processing.py - Skipping processing `KeypointsLongestMaxSizeRescale` because it resizes the image.\n",
            "[2024-05-10 16:47:01] INFO - processing.py - Skipping processing `KeypointsBottomRightPadding` because it resizes the image.\n",
            "[2024-05-10 16:47:02] INFO - pipelines.py - Fusing some of the model's layers. If this takes too much memory, you can deactivate it by setting `fuse_model=False`\n"
          ]
        },
        {
          "output_type": "stream",
          "name": "stdout",
          "text": [
            "Done. (0.143s)\n",
            "inf : (0.0264s/frame)   nms : (0.0013s/frame)\n"
          ]
        },
        {
          "output_type": "stream",
          "name": "stderr",
          "text": [
            "[2024-05-10 16:47:02] INFO - processing.py - Skipping processing `KeypointsLongestMaxSizeRescale` because it resizes the image.\n",
            "[2024-05-10 16:47:02] INFO - processing.py - Skipping processing `KeypointsBottomRightPadding` because it resizes the image.\n",
            "[2024-05-10 16:47:02] INFO - pipelines.py - Fusing some of the model's layers. If this takes too much memory, you can deactivate it by setting `fuse_model=False`\n"
          ]
        },
        {
          "output_type": "stream",
          "name": "stdout",
          "text": [
            "Done. (0.141s)\n",
            "inf : (0.0261s/frame)   nms : (0.0013s/frame)\n"
          ]
        },
        {
          "output_type": "stream",
          "name": "stderr",
          "text": [
            "[2024-05-10 16:47:03] INFO - processing.py - Skipping processing `KeypointsLongestMaxSizeRescale` because it resizes the image.\n",
            "[2024-05-10 16:47:03] INFO - processing.py - Skipping processing `KeypointsBottomRightPadding` because it resizes the image.\n",
            "[2024-05-10 16:47:03] INFO - pipelines.py - Fusing some of the model's layers. If this takes too much memory, you can deactivate it by setting `fuse_model=False`\n"
          ]
        },
        {
          "output_type": "stream",
          "name": "stdout",
          "text": [
            "Done. (0.141s)\n",
            "inf : (0.0257s/frame)   nms : (0.0012s/frame)\n"
          ]
        },
        {
          "output_type": "stream",
          "name": "stderr",
          "text": [
            "[2024-05-10 16:47:03] INFO - processing.py - Skipping processing `KeypointsLongestMaxSizeRescale` because it resizes the image.\n",
            "[2024-05-10 16:47:03] INFO - processing.py - Skipping processing `KeypointsBottomRightPadding` because it resizes the image.\n",
            "[2024-05-10 16:47:03] INFO - pipelines.py - Fusing some of the model's layers. If this takes too much memory, you can deactivate it by setting `fuse_model=False`\n"
          ]
        },
        {
          "output_type": "stream",
          "name": "stdout",
          "text": [
            "Done. (0.140s)\n",
            "inf : (0.0260s/frame)   nms : (0.0013s/frame)\n"
          ]
        },
        {
          "output_type": "stream",
          "name": "stderr",
          "text": [
            "[2024-05-10 16:47:04] INFO - processing.py - Skipping processing `KeypointsLongestMaxSizeRescale` because it resizes the image.\n",
            "[2024-05-10 16:47:04] INFO - processing.py - Skipping processing `KeypointsBottomRightPadding` because it resizes the image.\n",
            "[2024-05-10 16:47:04] INFO - pipelines.py - Fusing some of the model's layers. If this takes too much memory, you can deactivate it by setting `fuse_model=False`\n"
          ]
        },
        {
          "output_type": "stream",
          "name": "stdout",
          "text": [
            "Done. (0.140s)\n",
            "inf : (0.0263s/frame)   nms : (0.0013s/frame)\n"
          ]
        },
        {
          "output_type": "stream",
          "name": "stderr",
          "text": [
            "[2024-05-10 16:47:04] INFO - processing.py - Skipping processing `KeypointsLongestMaxSizeRescale` because it resizes the image.\n",
            "[2024-05-10 16:47:04] INFO - processing.py - Skipping processing `KeypointsBottomRightPadding` because it resizes the image.\n",
            "[2024-05-10 16:47:04] INFO - pipelines.py - Fusing some of the model's layers. If this takes too much memory, you can deactivate it by setting `fuse_model=False`\n"
          ]
        },
        {
          "output_type": "stream",
          "name": "stdout",
          "text": [
            "Done. (0.141s)\n",
            "inf : (0.0260s/frame)   nms : (0.0013s/frame)\n"
          ]
        },
        {
          "output_type": "stream",
          "name": "stderr",
          "text": [
            "[2024-05-10 16:47:05] INFO - processing.py - Skipping processing `KeypointsLongestMaxSizeRescale` because it resizes the image.\n",
            "[2024-05-10 16:47:05] INFO - processing.py - Skipping processing `KeypointsBottomRightPadding` because it resizes the image.\n",
            "[2024-05-10 16:47:05] INFO - pipelines.py - Fusing some of the model's layers. If this takes too much memory, you can deactivate it by setting `fuse_model=False`\n"
          ]
        },
        {
          "output_type": "stream",
          "name": "stdout",
          "text": [
            "Done. (0.141s)\n",
            "inf : (0.0260s/frame)   nms : (0.0013s/frame)\n"
          ]
        },
        {
          "output_type": "stream",
          "name": "stderr",
          "text": [
            "[2024-05-10 16:47:05] INFO - processing.py - Skipping processing `KeypointsLongestMaxSizeRescale` because it resizes the image.\n",
            "[2024-05-10 16:47:05] INFO - processing.py - Skipping processing `KeypointsBottomRightPadding` because it resizes the image.\n",
            "[2024-05-10 16:47:05] INFO - pipelines.py - Fusing some of the model's layers. If this takes too much memory, you can deactivate it by setting `fuse_model=False`\n"
          ]
        },
        {
          "output_type": "stream",
          "name": "stdout",
          "text": [
            "Done. (0.135s)\n",
            "inf : (0.0262s/frame)   nms : (0.0013s/frame)\n"
          ]
        },
        {
          "output_type": "stream",
          "name": "stderr",
          "text": [
            "[2024-05-10 16:47:06] INFO - processing.py - Skipping processing `KeypointsLongestMaxSizeRescale` because it resizes the image.\n",
            "[2024-05-10 16:47:06] INFO - processing.py - Skipping processing `KeypointsBottomRightPadding` because it resizes the image.\n",
            "[2024-05-10 16:47:06] INFO - pipelines.py - Fusing some of the model's layers. If this takes too much memory, you can deactivate it by setting `fuse_model=False`\n"
          ]
        },
        {
          "output_type": "stream",
          "name": "stdout",
          "text": [
            "Done. (0.135s)\n",
            "inf : (0.0266s/frame)   nms : (0.0013s/frame)\n"
          ]
        },
        {
          "output_type": "stream",
          "name": "stderr",
          "text": [
            "[2024-05-10 16:47:06] INFO - processing.py - Skipping processing `KeypointsLongestMaxSizeRescale` because it resizes the image.\n",
            "[2024-05-10 16:47:06] INFO - processing.py - Skipping processing `KeypointsBottomRightPadding` because it resizes the image.\n",
            "[2024-05-10 16:47:06] INFO - pipelines.py - Fusing some of the model's layers. If this takes too much memory, you can deactivate it by setting `fuse_model=False`\n"
          ]
        },
        {
          "output_type": "stream",
          "name": "stdout",
          "text": [
            "Done. (0.141s)\n",
            "inf : (0.0268s/frame)   nms : (0.0013s/frame)\n"
          ]
        },
        {
          "output_type": "stream",
          "name": "stderr",
          "text": [
            "[2024-05-10 16:47:07] INFO - processing.py - Skipping processing `KeypointsLongestMaxSizeRescale` because it resizes the image.\n",
            "[2024-05-10 16:47:07] INFO - processing.py - Skipping processing `KeypointsBottomRightPadding` because it resizes the image.\n",
            "[2024-05-10 16:47:07] INFO - pipelines.py - Fusing some of the model's layers. If this takes too much memory, you can deactivate it by setting `fuse_model=False`\n"
          ]
        },
        {
          "output_type": "stream",
          "name": "stdout",
          "text": [
            "Done. (0.141s)\n",
            "inf : (0.0262s/frame)   nms : (0.0014s/frame)\n"
          ]
        },
        {
          "output_type": "stream",
          "name": "stderr",
          "text": [
            "[2024-05-10 16:47:07] INFO - processing.py - Skipping processing `KeypointsLongestMaxSizeRescale` because it resizes the image.\n",
            "[2024-05-10 16:47:07] INFO - processing.py - Skipping processing `KeypointsBottomRightPadding` because it resizes the image.\n",
            "[2024-05-10 16:47:07] INFO - pipelines.py - Fusing some of the model's layers. If this takes too much memory, you can deactivate it by setting `fuse_model=False`\n"
          ]
        },
        {
          "output_type": "stream",
          "name": "stdout",
          "text": [
            "Done. (0.139s)\n",
            "inf : (0.0260s/frame)   nms : (0.0012s/frame)\n"
          ]
        },
        {
          "output_type": "stream",
          "name": "stderr",
          "text": [
            "[2024-05-10 16:47:08] INFO - processing.py - Skipping processing `KeypointsLongestMaxSizeRescale` because it resizes the image.\n",
            "[2024-05-10 16:47:08] INFO - processing.py - Skipping processing `KeypointsBottomRightPadding` because it resizes the image.\n",
            "[2024-05-10 16:47:08] INFO - pipelines.py - Fusing some of the model's layers. If this takes too much memory, you can deactivate it by setting `fuse_model=False`\n"
          ]
        },
        {
          "output_type": "stream",
          "name": "stdout",
          "text": [
            "Done. (0.142s)\n",
            "inf : (0.0263s/frame)   nms : (0.0013s/frame)\n"
          ]
        },
        {
          "output_type": "stream",
          "name": "stderr",
          "text": [
            "[2024-05-10 16:47:08] INFO - processing.py - Skipping processing `KeypointsLongestMaxSizeRescale` because it resizes the image.\n",
            "[2024-05-10 16:47:08] INFO - processing.py - Skipping processing `KeypointsBottomRightPadding` because it resizes the image.\n",
            "[2024-05-10 16:47:08] INFO - pipelines.py - Fusing some of the model's layers. If this takes too much memory, you can deactivate it by setting `fuse_model=False`\n"
          ]
        },
        {
          "output_type": "stream",
          "name": "stdout",
          "text": [
            "Done. (0.141s)\n",
            "inf : (0.0274s/frame)   nms : (0.0013s/frame)\n"
          ]
        },
        {
          "output_type": "stream",
          "name": "stderr",
          "text": [
            "[2024-05-10 16:47:09] INFO - processing.py - Skipping processing `KeypointsLongestMaxSizeRescale` because it resizes the image.\n",
            "[2024-05-10 16:47:09] INFO - processing.py - Skipping processing `KeypointsBottomRightPadding` because it resizes the image.\n",
            "[2024-05-10 16:47:09] INFO - pipelines.py - Fusing some of the model's layers. If this takes too much memory, you can deactivate it by setting `fuse_model=False`\n"
          ]
        },
        {
          "output_type": "stream",
          "name": "stdout",
          "text": [
            "Done. (0.140s)\n",
            "inf : (0.0277s/frame)   nms : (0.0013s/frame)\n"
          ]
        },
        {
          "output_type": "stream",
          "name": "stderr",
          "text": [
            "[2024-05-10 16:47:09] INFO - processing.py - Skipping processing `KeypointsLongestMaxSizeRescale` because it resizes the image.\n",
            "[2024-05-10 16:47:09] INFO - processing.py - Skipping processing `KeypointsBottomRightPadding` because it resizes the image.\n",
            "[2024-05-10 16:47:09] INFO - pipelines.py - Fusing some of the model's layers. If this takes too much memory, you can deactivate it by setting `fuse_model=False`\n"
          ]
        },
        {
          "output_type": "stream",
          "name": "stdout",
          "text": [
            "Done. (0.138s)\n",
            "inf : (0.0261s/frame)   nms : (0.0012s/frame)\n"
          ]
        },
        {
          "output_type": "stream",
          "name": "stderr",
          "text": [
            "[2024-05-10 16:47:10] INFO - processing.py - Skipping processing `KeypointsLongestMaxSizeRescale` because it resizes the image.\n",
            "[2024-05-10 16:47:10] INFO - processing.py - Skipping processing `KeypointsBottomRightPadding` because it resizes the image.\n",
            "[2024-05-10 16:47:10] INFO - pipelines.py - Fusing some of the model's layers. If this takes too much memory, you can deactivate it by setting `fuse_model=False`\n"
          ]
        },
        {
          "output_type": "stream",
          "name": "stdout",
          "text": [
            "Done. (0.133s)\n",
            "inf : (0.0259s/frame)   nms : (0.0013s/frame)\n"
          ]
        },
        {
          "output_type": "stream",
          "name": "stderr",
          "text": [
            "[2024-05-10 16:47:10] INFO - processing.py - Skipping processing `KeypointsLongestMaxSizeRescale` because it resizes the image.\n",
            "[2024-05-10 16:47:10] INFO - processing.py - Skipping processing `KeypointsBottomRightPadding` because it resizes the image.\n",
            "[2024-05-10 16:47:10] INFO - pipelines.py - Fusing some of the model's layers. If this takes too much memory, you can deactivate it by setting `fuse_model=False`\n"
          ]
        },
        {
          "output_type": "stream",
          "name": "stdout",
          "text": [
            "Done. (0.138s)\n",
            "inf : (0.0259s/frame)   nms : (0.0013s/frame)\n"
          ]
        },
        {
          "output_type": "stream",
          "name": "stderr",
          "text": [
            "[2024-05-10 16:47:11] INFO - processing.py - Skipping processing `KeypointsLongestMaxSizeRescale` because it resizes the image.\n",
            "[2024-05-10 16:47:11] INFO - processing.py - Skipping processing `KeypointsBottomRightPadding` because it resizes the image.\n",
            "[2024-05-10 16:47:11] INFO - pipelines.py - Fusing some of the model's layers. If this takes too much memory, you can deactivate it by setting `fuse_model=False`\n"
          ]
        },
        {
          "output_type": "stream",
          "name": "stdout",
          "text": [
            "Done. (0.139s)\n",
            "inf : (0.0263s/frame)   nms : (0.0013s/frame)\n"
          ]
        },
        {
          "output_type": "stream",
          "name": "stderr",
          "text": [
            "[2024-05-10 16:47:11] INFO - processing.py - Skipping processing `KeypointsLongestMaxSizeRescale` because it resizes the image.\n",
            "[2024-05-10 16:47:11] INFO - processing.py - Skipping processing `KeypointsBottomRightPadding` because it resizes the image.\n",
            "[2024-05-10 16:47:11] INFO - pipelines.py - Fusing some of the model's layers. If this takes too much memory, you can deactivate it by setting `fuse_model=False`\n"
          ]
        },
        {
          "output_type": "stream",
          "name": "stdout",
          "text": [
            "Done. (0.135s)\n",
            "inf : (0.0273s/frame)   nms : (0.0012s/frame)\n"
          ]
        },
        {
          "output_type": "stream",
          "name": "stderr",
          "text": [
            "[2024-05-10 16:47:12] INFO - processing.py - Skipping processing `KeypointsLongestMaxSizeRescale` because it resizes the image.\n",
            "[2024-05-10 16:47:12] INFO - processing.py - Skipping processing `KeypointsBottomRightPadding` because it resizes the image.\n",
            "[2024-05-10 16:47:12] INFO - pipelines.py - Fusing some of the model's layers. If this takes too much memory, you can deactivate it by setting `fuse_model=False`\n"
          ]
        },
        {
          "output_type": "stream",
          "name": "stdout",
          "text": [
            "Done. (0.142s)\n",
            "inf : (0.0263s/frame)   nms : (0.0013s/frame)\n"
          ]
        },
        {
          "output_type": "stream",
          "name": "stderr",
          "text": [
            "[2024-05-10 16:47:12] INFO - processing.py - Skipping processing `KeypointsLongestMaxSizeRescale` because it resizes the image.\n",
            "[2024-05-10 16:47:12] INFO - processing.py - Skipping processing `KeypointsBottomRightPadding` because it resizes the image.\n",
            "[2024-05-10 16:47:12] INFO - pipelines.py - Fusing some of the model's layers. If this takes too much memory, you can deactivate it by setting `fuse_model=False`\n"
          ]
        },
        {
          "output_type": "stream",
          "name": "stdout",
          "text": [
            "Done. (0.134s)\n",
            "inf : (0.0262s/frame)   nms : (0.0013s/frame)\n"
          ]
        },
        {
          "output_type": "stream",
          "name": "stderr",
          "text": [
            "[2024-05-10 16:47:13] INFO - processing.py - Skipping processing `KeypointsLongestMaxSizeRescale` because it resizes the image.\n",
            "[2024-05-10 16:47:13] INFO - processing.py - Skipping processing `KeypointsBottomRightPadding` because it resizes the image.\n",
            "[2024-05-10 16:47:13] INFO - pipelines.py - Fusing some of the model's layers. If this takes too much memory, you can deactivate it by setting `fuse_model=False`\n"
          ]
        },
        {
          "output_type": "stream",
          "name": "stdout",
          "text": [
            "Done. (0.135s)\n",
            "inf : (0.0266s/frame)   nms : (0.0013s/frame)\n"
          ]
        },
        {
          "output_type": "stream",
          "name": "stderr",
          "text": [
            "[2024-05-10 16:47:13] INFO - processing.py - Skipping processing `KeypointsLongestMaxSizeRescale` because it resizes the image.\n",
            "[2024-05-10 16:47:13] INFO - processing.py - Skipping processing `KeypointsBottomRightPadding` because it resizes the image.\n",
            "[2024-05-10 16:47:13] INFO - pipelines.py - Fusing some of the model's layers. If this takes too much memory, you can deactivate it by setting `fuse_model=False`\n"
          ]
        },
        {
          "output_type": "stream",
          "name": "stdout",
          "text": [
            "Done. (0.138s)\n",
            "inf : (0.0259s/frame)   nms : (0.0012s/frame)\n"
          ]
        },
        {
          "output_type": "stream",
          "name": "stderr",
          "text": [
            "[2024-05-10 16:47:14] INFO - processing.py - Skipping processing `KeypointsLongestMaxSizeRescale` because it resizes the image.\n",
            "[2024-05-10 16:47:14] INFO - processing.py - Skipping processing `KeypointsBottomRightPadding` because it resizes the image.\n",
            "[2024-05-10 16:47:14] INFO - pipelines.py - Fusing some of the model's layers. If this takes too much memory, you can deactivate it by setting `fuse_model=False`\n"
          ]
        },
        {
          "output_type": "stream",
          "name": "stdout",
          "text": [
            "Done. (0.142s)\n",
            "inf : (0.0261s/frame)   nms : (0.0013s/frame)\n"
          ]
        },
        {
          "output_type": "stream",
          "name": "stderr",
          "text": [
            "[2024-05-10 16:47:14] INFO - processing.py - Skipping processing `KeypointsLongestMaxSizeRescale` because it resizes the image.\n",
            "[2024-05-10 16:47:14] INFO - processing.py - Skipping processing `KeypointsBottomRightPadding` because it resizes the image.\n",
            "[2024-05-10 16:47:15] INFO - pipelines.py - Fusing some of the model's layers. If this takes too much memory, you can deactivate it by setting `fuse_model=False`\n"
          ]
        },
        {
          "output_type": "stream",
          "name": "stdout",
          "text": [
            "Done. (0.142s)\n",
            "inf : (0.0285s/frame)   nms : (0.0013s/frame)\n"
          ]
        },
        {
          "output_type": "stream",
          "name": "stderr",
          "text": [
            "[2024-05-10 16:47:15] INFO - processing.py - Skipping processing `KeypointsLongestMaxSizeRescale` because it resizes the image.\n",
            "[2024-05-10 16:47:15] INFO - processing.py - Skipping processing `KeypointsBottomRightPadding` because it resizes the image.\n",
            "[2024-05-10 16:47:15] INFO - pipelines.py - Fusing some of the model's layers. If this takes too much memory, you can deactivate it by setting `fuse_model=False`\n"
          ]
        },
        {
          "output_type": "stream",
          "name": "stdout",
          "text": [
            "Done. (0.139s)\n",
            "inf : (0.0257s/frame)   nms : (0.0012s/frame)\n"
          ]
        },
        {
          "output_type": "stream",
          "name": "stderr",
          "text": [
            "[2024-05-10 16:47:16] INFO - processing.py - Skipping processing `KeypointsLongestMaxSizeRescale` because it resizes the image.\n",
            "[2024-05-10 16:47:16] INFO - processing.py - Skipping processing `KeypointsBottomRightPadding` because it resizes the image.\n",
            "[2024-05-10 16:47:16] INFO - pipelines.py - Fusing some of the model's layers. If this takes too much memory, you can deactivate it by setting `fuse_model=False`\n"
          ]
        },
        {
          "output_type": "stream",
          "name": "stdout",
          "text": [
            "Done. (0.147s)\n",
            "inf : (0.0330s/frame)   nms : (0.0016s/frame)\n"
          ]
        },
        {
          "output_type": "stream",
          "name": "stderr",
          "text": [
            "[2024-05-10 16:47:16] INFO - processing.py - Skipping processing `KeypointsLongestMaxSizeRescale` because it resizes the image.\n",
            "[2024-05-10 16:47:16] INFO - processing.py - Skipping processing `KeypointsBottomRightPadding` because it resizes the image.\n",
            "[2024-05-10 16:47:16] INFO - pipelines.py - Fusing some of the model's layers. If this takes too much memory, you can deactivate it by setting `fuse_model=False`\n"
          ]
        },
        {
          "output_type": "stream",
          "name": "stdout",
          "text": [
            "Done. (0.139s)\n",
            "inf : (0.0256s/frame)   nms : (0.0012s/frame)\n"
          ]
        },
        {
          "output_type": "stream",
          "name": "stderr",
          "text": [
            "[2024-05-10 16:47:17] INFO - processing.py - Skipping processing `KeypointsLongestMaxSizeRescale` because it resizes the image.\n",
            "[2024-05-10 16:47:17] INFO - processing.py - Skipping processing `KeypointsBottomRightPadding` because it resizes the image.\n",
            "[2024-05-10 16:47:17] INFO - pipelines.py - Fusing some of the model's layers. If this takes too much memory, you can deactivate it by setting `fuse_model=False`\n"
          ]
        },
        {
          "output_type": "stream",
          "name": "stdout",
          "text": [
            "Done. (0.141s)\n",
            "inf : (0.0260s/frame)   nms : (0.0013s/frame)\n"
          ]
        },
        {
          "output_type": "stream",
          "name": "stderr",
          "text": [
            "[2024-05-10 16:47:17] INFO - processing.py - Skipping processing `KeypointsLongestMaxSizeRescale` because it resizes the image.\n",
            "[2024-05-10 16:47:17] INFO - processing.py - Skipping processing `KeypointsBottomRightPadding` because it resizes the image.\n",
            "[2024-05-10 16:47:17] INFO - pipelines.py - Fusing some of the model's layers. If this takes too much memory, you can deactivate it by setting `fuse_model=False`\n"
          ]
        },
        {
          "output_type": "stream",
          "name": "stdout",
          "text": [
            "Done. (0.141s)\n",
            "inf : (0.0261s/frame)   nms : (0.0013s/frame)\n"
          ]
        },
        {
          "output_type": "stream",
          "name": "stderr",
          "text": [
            "[2024-05-10 16:47:18] INFO - processing.py - Skipping processing `KeypointsLongestMaxSizeRescale` because it resizes the image.\n",
            "[2024-05-10 16:47:18] INFO - processing.py - Skipping processing `KeypointsBottomRightPadding` because it resizes the image.\n",
            "[2024-05-10 16:47:18] INFO - pipelines.py - Fusing some of the model's layers. If this takes too much memory, you can deactivate it by setting `fuse_model=False`\n"
          ]
        },
        {
          "output_type": "stream",
          "name": "stdout",
          "text": [
            "Done. (0.140s)\n",
            "inf : (0.0259s/frame)   nms : (0.0013s/frame)\n"
          ]
        },
        {
          "output_type": "stream",
          "name": "stderr",
          "text": [
            "[2024-05-10 16:47:18] INFO - processing.py - Skipping processing `KeypointsLongestMaxSizeRescale` because it resizes the image.\n",
            "[2024-05-10 16:47:18] INFO - processing.py - Skipping processing `KeypointsBottomRightPadding` because it resizes the image.\n",
            "[2024-05-10 16:47:18] INFO - pipelines.py - Fusing some of the model's layers. If this takes too much memory, you can deactivate it by setting `fuse_model=False`\n"
          ]
        },
        {
          "output_type": "stream",
          "name": "stdout",
          "text": [
            "Done. (0.141s)\n",
            "inf : (0.0259s/frame)   nms : (0.0013s/frame)\n"
          ]
        },
        {
          "output_type": "stream",
          "name": "stderr",
          "text": [
            "[2024-05-10 16:47:19] INFO - processing.py - Skipping processing `KeypointsLongestMaxSizeRescale` because it resizes the image.\n",
            "[2024-05-10 16:47:19] INFO - processing.py - Skipping processing `KeypointsBottomRightPadding` because it resizes the image.\n",
            "[2024-05-10 16:47:19] INFO - pipelines.py - Fusing some of the model's layers. If this takes too much memory, you can deactivate it by setting `fuse_model=False`\n"
          ]
        },
        {
          "output_type": "stream",
          "name": "stdout",
          "text": [
            "Done. (0.142s)\n",
            "inf : (0.0265s/frame)   nms : (0.0014s/frame)\n"
          ]
        },
        {
          "output_type": "stream",
          "name": "stderr",
          "text": [
            "[2024-05-10 16:47:19] INFO - processing.py - Skipping processing `KeypointsLongestMaxSizeRescale` because it resizes the image.\n",
            "[2024-05-10 16:47:19] INFO - processing.py - Skipping processing `KeypointsBottomRightPadding` because it resizes the image.\n",
            "[2024-05-10 16:47:19] INFO - pipelines.py - Fusing some of the model's layers. If this takes too much memory, you can deactivate it by setting `fuse_model=False`\n"
          ]
        },
        {
          "output_type": "stream",
          "name": "stdout",
          "text": [
            "Done. (0.140s)\n",
            "inf : (0.0260s/frame)   nms : (0.0012s/frame)\n"
          ]
        },
        {
          "output_type": "stream",
          "name": "stderr",
          "text": [
            "[2024-05-10 16:47:20] INFO - processing.py - Skipping processing `KeypointsLongestMaxSizeRescale` because it resizes the image.\n",
            "[2024-05-10 16:47:20] INFO - processing.py - Skipping processing `KeypointsBottomRightPadding` because it resizes the image.\n",
            "[2024-05-10 16:47:20] INFO - pipelines.py - Fusing some of the model's layers. If this takes too much memory, you can deactivate it by setting `fuse_model=False`\n"
          ]
        },
        {
          "output_type": "stream",
          "name": "stdout",
          "text": [
            "Done. (0.141s)\n",
            "inf : (0.0265s/frame)   nms : (0.0013s/frame)\n"
          ]
        },
        {
          "output_type": "stream",
          "name": "stderr",
          "text": [
            "[2024-05-10 16:47:20] INFO - processing.py - Skipping processing `KeypointsLongestMaxSizeRescale` because it resizes the image.\n",
            "[2024-05-10 16:47:20] INFO - processing.py - Skipping processing `KeypointsBottomRightPadding` because it resizes the image.\n",
            "[2024-05-10 16:47:20] INFO - pipelines.py - Fusing some of the model's layers. If this takes too much memory, you can deactivate it by setting `fuse_model=False`\n"
          ]
        },
        {
          "output_type": "stream",
          "name": "stdout",
          "text": [
            "Done. (0.141s)\n",
            "inf : (0.0261s/frame)   nms : (0.0013s/frame)\n"
          ]
        },
        {
          "output_type": "stream",
          "name": "stderr",
          "text": [
            "[2024-05-10 16:47:21] INFO - processing.py - Skipping processing `KeypointsLongestMaxSizeRescale` because it resizes the image.\n",
            "[2024-05-10 16:47:21] INFO - processing.py - Skipping processing `KeypointsBottomRightPadding` because it resizes the image.\n",
            "[2024-05-10 16:47:21] INFO - pipelines.py - Fusing some of the model's layers. If this takes too much memory, you can deactivate it by setting `fuse_model=False`\n"
          ]
        },
        {
          "output_type": "stream",
          "name": "stdout",
          "text": [
            "Done. (0.142s)\n",
            "inf : (0.0267s/frame)   nms : (0.0013s/frame)\n"
          ]
        },
        {
          "output_type": "stream",
          "name": "stderr",
          "text": [
            "[2024-05-10 16:47:21] INFO - processing.py - Skipping processing `KeypointsLongestMaxSizeRescale` because it resizes the image.\n",
            "[2024-05-10 16:47:21] INFO - processing.py - Skipping processing `KeypointsBottomRightPadding` because it resizes the image.\n",
            "[2024-05-10 16:47:21] INFO - pipelines.py - Fusing some of the model's layers. If this takes too much memory, you can deactivate it by setting `fuse_model=False`\n"
          ]
        },
        {
          "output_type": "stream",
          "name": "stdout",
          "text": [
            "Done. (0.141s)\n",
            "inf : (0.0260s/frame)   nms : (0.0013s/frame)\n"
          ]
        },
        {
          "output_type": "stream",
          "name": "stderr",
          "text": [
            "[2024-05-10 16:47:22] INFO - processing.py - Skipping processing `KeypointsLongestMaxSizeRescale` because it resizes the image.\n",
            "[2024-05-10 16:47:22] INFO - processing.py - Skipping processing `KeypointsBottomRightPadding` because it resizes the image.\n",
            "[2024-05-10 16:47:22] INFO - pipelines.py - Fusing some of the model's layers. If this takes too much memory, you can deactivate it by setting `fuse_model=False`\n"
          ]
        },
        {
          "output_type": "stream",
          "name": "stdout",
          "text": [
            "Done. (0.143s)\n",
            "inf : (0.0263s/frame)   nms : (0.0013s/frame)\n"
          ]
        },
        {
          "output_type": "stream",
          "name": "stderr",
          "text": [
            "[2024-05-10 16:47:22] INFO - processing.py - Skipping processing `KeypointsLongestMaxSizeRescale` because it resizes the image.\n",
            "[2024-05-10 16:47:22] INFO - processing.py - Skipping processing `KeypointsBottomRightPadding` because it resizes the image.\n",
            "[2024-05-10 16:47:22] INFO - pipelines.py - Fusing some of the model's layers. If this takes too much memory, you can deactivate it by setting `fuse_model=False`\n"
          ]
        },
        {
          "output_type": "stream",
          "name": "stdout",
          "text": [
            "Done. (0.141s)\n",
            "inf : (0.0258s/frame)   nms : (0.0013s/frame)\n"
          ]
        },
        {
          "output_type": "stream",
          "name": "stderr",
          "text": [
            "[2024-05-10 16:47:23] INFO - processing.py - Skipping processing `KeypointsLongestMaxSizeRescale` because it resizes the image.\n",
            "[2024-05-10 16:47:23] INFO - processing.py - Skipping processing `KeypointsBottomRightPadding` because it resizes the image.\n",
            "[2024-05-10 16:47:23] INFO - pipelines.py - Fusing some of the model's layers. If this takes too much memory, you can deactivate it by setting `fuse_model=False`\n"
          ]
        },
        {
          "output_type": "stream",
          "name": "stdout",
          "text": [
            "Done. (0.142s)\n",
            "inf : (0.0261s/frame)   nms : (0.0013s/frame)\n"
          ]
        },
        {
          "output_type": "stream",
          "name": "stderr",
          "text": [
            "[2024-05-10 16:47:23] INFO - processing.py - Skipping processing `KeypointsLongestMaxSizeRescale` because it resizes the image.\n",
            "[2024-05-10 16:47:23] INFO - processing.py - Skipping processing `KeypointsBottomRightPadding` because it resizes the image.\n",
            "[2024-05-10 16:47:23] INFO - pipelines.py - Fusing some of the model's layers. If this takes too much memory, you can deactivate it by setting `fuse_model=False`\n"
          ]
        },
        {
          "output_type": "stream",
          "name": "stdout",
          "text": [
            "Done. (0.143s)\n",
            "inf : (0.0259s/frame)   nms : (0.0013s/frame)\n"
          ]
        },
        {
          "output_type": "stream",
          "name": "stderr",
          "text": [
            "[2024-05-10 16:47:24] INFO - processing.py - Skipping processing `KeypointsLongestMaxSizeRescale` because it resizes the image.\n",
            "[2024-05-10 16:47:24] INFO - processing.py - Skipping processing `KeypointsBottomRightPadding` because it resizes the image.\n",
            "[2024-05-10 16:47:24] INFO - pipelines.py - Fusing some of the model's layers. If this takes too much memory, you can deactivate it by setting `fuse_model=False`\n"
          ]
        },
        {
          "output_type": "stream",
          "name": "stdout",
          "text": [
            "Done. (0.143s)\n",
            "inf : (0.0267s/frame)   nms : (0.0013s/frame)\n"
          ]
        },
        {
          "output_type": "stream",
          "name": "stderr",
          "text": [
            "[2024-05-10 16:47:25] INFO - processing.py - Skipping processing `KeypointsLongestMaxSizeRescale` because it resizes the image.\n",
            "[2024-05-10 16:47:25] INFO - processing.py - Skipping processing `KeypointsBottomRightPadding` because it resizes the image.\n",
            "[2024-05-10 16:47:25] INFO - pipelines.py - Fusing some of the model's layers. If this takes too much memory, you can deactivate it by setting `fuse_model=False`\n"
          ]
        },
        {
          "output_type": "stream",
          "name": "stdout",
          "text": [
            "Done. (0.142s)\n",
            "inf : (0.0262s/frame)   nms : (0.0013s/frame)\n"
          ]
        },
        {
          "output_type": "stream",
          "name": "stderr",
          "text": [
            "[2024-05-10 16:47:25] INFO - processing.py - Skipping processing `KeypointsLongestMaxSizeRescale` because it resizes the image.\n",
            "[2024-05-10 16:47:25] INFO - processing.py - Skipping processing `KeypointsBottomRightPadding` because it resizes the image.\n",
            "[2024-05-10 16:47:25] INFO - pipelines.py - Fusing some of the model's layers. If this takes too much memory, you can deactivate it by setting `fuse_model=False`\n"
          ]
        },
        {
          "output_type": "stream",
          "name": "stdout",
          "text": [
            "Done. (0.142s)\n",
            "inf : (0.0264s/frame)   nms : (0.0013s/frame)\n"
          ]
        },
        {
          "output_type": "stream",
          "name": "stderr",
          "text": [
            "[2024-05-10 16:47:26] INFO - processing.py - Skipping processing `KeypointsLongestMaxSizeRescale` because it resizes the image.\n",
            "[2024-05-10 16:47:26] INFO - processing.py - Skipping processing `KeypointsBottomRightPadding` because it resizes the image.\n",
            "[2024-05-10 16:47:26] INFO - pipelines.py - Fusing some of the model's layers. If this takes too much memory, you can deactivate it by setting `fuse_model=False`\n"
          ]
        },
        {
          "output_type": "stream",
          "name": "stdout",
          "text": [
            "Done. (0.142s)\n",
            "inf : (0.0261s/frame)   nms : (0.0013s/frame)\n"
          ]
        },
        {
          "output_type": "stream",
          "name": "stderr",
          "text": [
            "[2024-05-10 16:47:26] INFO - processing.py - Skipping processing `KeypointsLongestMaxSizeRescale` because it resizes the image.\n",
            "[2024-05-10 16:47:26] INFO - processing.py - Skipping processing `KeypointsBottomRightPadding` because it resizes the image.\n",
            "[2024-05-10 16:47:26] INFO - pipelines.py - Fusing some of the model's layers. If this takes too much memory, you can deactivate it by setting `fuse_model=False`\n"
          ]
        },
        {
          "output_type": "stream",
          "name": "stdout",
          "text": [
            "Done. (0.141s)\n",
            "inf : (0.0262s/frame)   nms : (0.0013s/frame)\n"
          ]
        },
        {
          "output_type": "stream",
          "name": "stderr",
          "text": [
            "[2024-05-10 16:47:27] INFO - processing.py - Skipping processing `KeypointsLongestMaxSizeRescale` because it resizes the image.\n",
            "[2024-05-10 16:47:27] INFO - processing.py - Skipping processing `KeypointsBottomRightPadding` because it resizes the image.\n",
            "[2024-05-10 16:47:27] INFO - pipelines.py - Fusing some of the model's layers. If this takes too much memory, you can deactivate it by setting `fuse_model=False`\n"
          ]
        },
        {
          "output_type": "stream",
          "name": "stdout",
          "text": [
            "Done. (0.142s)\n",
            "inf : (0.0271s/frame)   nms : (0.0013s/frame)\n"
          ]
        },
        {
          "output_type": "stream",
          "name": "stderr",
          "text": [
            "[2024-05-10 16:47:27] INFO - processing.py - Skipping processing `KeypointsLongestMaxSizeRescale` because it resizes the image.\n",
            "[2024-05-10 16:47:27] INFO - processing.py - Skipping processing `KeypointsBottomRightPadding` because it resizes the image.\n",
            "[2024-05-10 16:47:27] INFO - pipelines.py - Fusing some of the model's layers. If this takes too much memory, you can deactivate it by setting `fuse_model=False`\n"
          ]
        },
        {
          "output_type": "stream",
          "name": "stdout",
          "text": [
            "Done. (0.143s)\n",
            "inf : (0.0266s/frame)   nms : (0.0013s/frame)\n"
          ]
        },
        {
          "output_type": "stream",
          "name": "stderr",
          "text": [
            "[2024-05-10 16:47:28] INFO - processing.py - Skipping processing `KeypointsLongestMaxSizeRescale` because it resizes the image.\n",
            "[2024-05-10 16:47:28] INFO - processing.py - Skipping processing `KeypointsBottomRightPadding` because it resizes the image.\n",
            "[2024-05-10 16:47:28] INFO - pipelines.py - Fusing some of the model's layers. If this takes too much memory, you can deactivate it by setting `fuse_model=False`\n"
          ]
        },
        {
          "output_type": "stream",
          "name": "stdout",
          "text": [
            "Done. (0.143s)\n",
            "inf : (0.0263s/frame)   nms : (0.0013s/frame)\n"
          ]
        },
        {
          "output_type": "stream",
          "name": "stderr",
          "text": [
            "[2024-05-10 16:47:28] INFO - processing.py - Skipping processing `KeypointsLongestMaxSizeRescale` because it resizes the image.\n",
            "[2024-05-10 16:47:28] INFO - processing.py - Skipping processing `KeypointsBottomRightPadding` because it resizes the image.\n",
            "[2024-05-10 16:47:28] INFO - pipelines.py - Fusing some of the model's layers. If this takes too much memory, you can deactivate it by setting `fuse_model=False`\n"
          ]
        },
        {
          "output_type": "stream",
          "name": "stdout",
          "text": [
            "Done. (0.141s)\n",
            "inf : (0.0259s/frame)   nms : (0.0012s/frame)\n"
          ]
        },
        {
          "output_type": "stream",
          "name": "stderr",
          "text": [
            "[2024-05-10 16:47:29] INFO - processing.py - Skipping processing `KeypointsLongestMaxSizeRescale` because it resizes the image.\n",
            "[2024-05-10 16:47:29] INFO - processing.py - Skipping processing `KeypointsBottomRightPadding` because it resizes the image.\n",
            "[2024-05-10 16:47:29] INFO - pipelines.py - Fusing some of the model's layers. If this takes too much memory, you can deactivate it by setting `fuse_model=False`\n"
          ]
        },
        {
          "output_type": "stream",
          "name": "stdout",
          "text": [
            "Done. (0.143s)\n",
            "inf : (0.0260s/frame)   nms : (0.0013s/frame)\n"
          ]
        },
        {
          "output_type": "stream",
          "name": "stderr",
          "text": [
            "[2024-05-10 16:47:29] INFO - processing.py - Skipping processing `KeypointsLongestMaxSizeRescale` because it resizes the image.\n",
            "[2024-05-10 16:47:29] INFO - processing.py - Skipping processing `KeypointsBottomRightPadding` because it resizes the image.\n",
            "[2024-05-10 16:47:29] INFO - pipelines.py - Fusing some of the model's layers. If this takes too much memory, you can deactivate it by setting `fuse_model=False`\n"
          ]
        },
        {
          "output_type": "stream",
          "name": "stdout",
          "text": [
            "Done. (0.144s)\n",
            "inf : (0.0266s/frame)   nms : (0.0028s/frame)\n"
          ]
        },
        {
          "output_type": "stream",
          "name": "stderr",
          "text": [
            "[2024-05-10 16:47:30] INFO - processing.py - Skipping processing `KeypointsLongestMaxSizeRescale` because it resizes the image.\n",
            "[2024-05-10 16:47:30] INFO - processing.py - Skipping processing `KeypointsBottomRightPadding` because it resizes the image.\n",
            "[2024-05-10 16:47:30] INFO - pipelines.py - Fusing some of the model's layers. If this takes too much memory, you can deactivate it by setting `fuse_model=False`\n"
          ]
        },
        {
          "output_type": "stream",
          "name": "stdout",
          "text": [
            "Done. (0.142s)\n",
            "inf : (0.0259s/frame)   nms : (0.0013s/frame)\n"
          ]
        },
        {
          "output_type": "stream",
          "name": "stderr",
          "text": [
            "[2024-05-10 16:47:30] INFO - processing.py - Skipping processing `KeypointsLongestMaxSizeRescale` because it resizes the image.\n",
            "[2024-05-10 16:47:30] INFO - processing.py - Skipping processing `KeypointsBottomRightPadding` because it resizes the image.\n",
            "[2024-05-10 16:47:30] INFO - pipelines.py - Fusing some of the model's layers. If this takes too much memory, you can deactivate it by setting `fuse_model=False`\n"
          ]
        },
        {
          "output_type": "stream",
          "name": "stdout",
          "text": [
            "Done. (0.142s)\n",
            "inf : (0.0265s/frame)   nms : (0.0013s/frame)\n"
          ]
        },
        {
          "output_type": "stream",
          "name": "stderr",
          "text": [
            "[2024-05-10 16:47:31] INFO - processing.py - Skipping processing `KeypointsLongestMaxSizeRescale` because it resizes the image.\n",
            "[2024-05-10 16:47:31] INFO - processing.py - Skipping processing `KeypointsBottomRightPadding` because it resizes the image.\n",
            "[2024-05-10 16:47:31] INFO - pipelines.py - Fusing some of the model's layers. If this takes too much memory, you can deactivate it by setting `fuse_model=False`\n"
          ]
        },
        {
          "output_type": "stream",
          "name": "stdout",
          "text": [
            "Done. (0.142s)\n",
            "inf : (0.0266s/frame)   nms : (0.0013s/frame)\n"
          ]
        },
        {
          "output_type": "stream",
          "name": "stderr",
          "text": [
            "[2024-05-10 16:47:31] INFO - processing.py - Skipping processing `KeypointsLongestMaxSizeRescale` because it resizes the image.\n",
            "[2024-05-10 16:47:31] INFO - processing.py - Skipping processing `KeypointsBottomRightPadding` because it resizes the image.\n",
            "[2024-05-10 16:47:31] INFO - pipelines.py - Fusing some of the model's layers. If this takes too much memory, you can deactivate it by setting `fuse_model=False`\n"
          ]
        },
        {
          "output_type": "stream",
          "name": "stdout",
          "text": [
            "Done. (0.142s)\n",
            "inf : (0.0261s/frame)   nms : (0.0013s/frame)\n"
          ]
        },
        {
          "output_type": "stream",
          "name": "stderr",
          "text": [
            "[2024-05-10 16:47:32] INFO - processing.py - Skipping processing `KeypointsLongestMaxSizeRescale` because it resizes the image.\n",
            "[2024-05-10 16:47:32] INFO - processing.py - Skipping processing `KeypointsBottomRightPadding` because it resizes the image.\n",
            "[2024-05-10 16:47:32] INFO - pipelines.py - Fusing some of the model's layers. If this takes too much memory, you can deactivate it by setting `fuse_model=False`\n"
          ]
        },
        {
          "output_type": "stream",
          "name": "stdout",
          "text": [
            "Done. (0.144s)\n",
            "inf : (0.0268s/frame)   nms : (0.0013s/frame)\n"
          ]
        },
        {
          "output_type": "stream",
          "name": "stderr",
          "text": [
            "[2024-05-10 16:47:33] INFO - processing.py - Skipping processing `KeypointsLongestMaxSizeRescale` because it resizes the image.\n",
            "[2024-05-10 16:47:33] INFO - processing.py - Skipping processing `KeypointsBottomRightPadding` because it resizes the image.\n",
            "[2024-05-10 16:47:33] INFO - pipelines.py - Fusing some of the model's layers. If this takes too much memory, you can deactivate it by setting `fuse_model=False`\n"
          ]
        },
        {
          "output_type": "stream",
          "name": "stdout",
          "text": [
            "Done. (0.145s)\n",
            "inf : (0.0270s/frame)   nms : (0.0013s/frame)\n"
          ]
        },
        {
          "output_type": "stream",
          "name": "stderr",
          "text": [
            "[2024-05-10 16:47:33] INFO - processing.py - Skipping processing `KeypointsLongestMaxSizeRescale` because it resizes the image.\n",
            "[2024-05-10 16:47:33] INFO - processing.py - Skipping processing `KeypointsBottomRightPadding` because it resizes the image.\n",
            "[2024-05-10 16:47:33] INFO - pipelines.py - Fusing some of the model's layers. If this takes too much memory, you can deactivate it by setting `fuse_model=False`\n"
          ]
        },
        {
          "output_type": "stream",
          "name": "stdout",
          "text": [
            "Done. (0.142s)\n",
            "inf : (0.0258s/frame)   nms : (0.0013s/frame)\n"
          ]
        },
        {
          "output_type": "stream",
          "name": "stderr",
          "text": [
            "[2024-05-10 16:47:34] INFO - processing.py - Skipping processing `KeypointsLongestMaxSizeRescale` because it resizes the image.\n",
            "[2024-05-10 16:47:34] INFO - processing.py - Skipping processing `KeypointsBottomRightPadding` because it resizes the image.\n",
            "[2024-05-10 16:47:34] INFO - pipelines.py - Fusing some of the model's layers. If this takes too much memory, you can deactivate it by setting `fuse_model=False`\n"
          ]
        },
        {
          "output_type": "stream",
          "name": "stdout",
          "text": [
            "Done. (0.143s)\n",
            "inf : (0.0275s/frame)   nms : (0.0013s/frame)\n"
          ]
        },
        {
          "output_type": "stream",
          "name": "stderr",
          "text": [
            "[2024-05-10 16:47:34] INFO - processing.py - Skipping processing `KeypointsLongestMaxSizeRescale` because it resizes the image.\n",
            "[2024-05-10 16:47:34] INFO - processing.py - Skipping processing `KeypointsBottomRightPadding` because it resizes the image.\n",
            "[2024-05-10 16:47:34] INFO - pipelines.py - Fusing some of the model's layers. If this takes too much memory, you can deactivate it by setting `fuse_model=False`\n"
          ]
        },
        {
          "output_type": "stream",
          "name": "stdout",
          "text": [
            "Done. (0.142s)\n",
            "inf : (0.0268s/frame)   nms : (0.0013s/frame)\n"
          ]
        },
        {
          "output_type": "stream",
          "name": "stderr",
          "text": [
            "[2024-05-10 16:47:35] INFO - processing.py - Skipping processing `KeypointsLongestMaxSizeRescale` because it resizes the image.\n",
            "[2024-05-10 16:47:35] INFO - processing.py - Skipping processing `KeypointsBottomRightPadding` because it resizes the image.\n",
            "[2024-05-10 16:47:35] INFO - pipelines.py - Fusing some of the model's layers. If this takes too much memory, you can deactivate it by setting `fuse_model=False`\n"
          ]
        },
        {
          "output_type": "stream",
          "name": "stdout",
          "text": [
            "Done. (0.144s)\n",
            "inf : (0.0263s/frame)   nms : (0.0013s/frame)\n"
          ]
        },
        {
          "output_type": "stream",
          "name": "stderr",
          "text": [
            "[2024-05-10 16:47:35] INFO - processing.py - Skipping processing `KeypointsLongestMaxSizeRescale` because it resizes the image.\n",
            "[2024-05-10 16:47:35] INFO - processing.py - Skipping processing `KeypointsBottomRightPadding` because it resizes the image.\n",
            "[2024-05-10 16:47:35] INFO - pipelines.py - Fusing some of the model's layers. If this takes too much memory, you can deactivate it by setting `fuse_model=False`\n"
          ]
        },
        {
          "output_type": "stream",
          "name": "stdout",
          "text": [
            "Done. (0.144s)\n",
            "inf : (0.0277s/frame)   nms : (0.0013s/frame)\n"
          ]
        },
        {
          "output_type": "stream",
          "name": "stderr",
          "text": [
            "[2024-05-10 16:47:36] INFO - processing.py - Skipping processing `KeypointsLongestMaxSizeRescale` because it resizes the image.\n",
            "[2024-05-10 16:47:36] INFO - processing.py - Skipping processing `KeypointsBottomRightPadding` because it resizes the image.\n",
            "[2024-05-10 16:47:36] INFO - pipelines.py - Fusing some of the model's layers. If this takes too much memory, you can deactivate it by setting `fuse_model=False`\n"
          ]
        },
        {
          "output_type": "stream",
          "name": "stdout",
          "text": [
            "Done. (0.143s)\n",
            "inf : (0.0259s/frame)   nms : (0.0013s/frame)\n"
          ]
        },
        {
          "output_type": "stream",
          "name": "stderr",
          "text": [
            "[2024-05-10 16:47:36] INFO - processing.py - Skipping processing `KeypointsLongestMaxSizeRescale` because it resizes the image.\n",
            "[2024-05-10 16:47:36] INFO - processing.py - Skipping processing `KeypointsBottomRightPadding` because it resizes the image.\n",
            "[2024-05-10 16:47:36] INFO - pipelines.py - Fusing some of the model's layers. If this takes too much memory, you can deactivate it by setting `fuse_model=False`\n"
          ]
        },
        {
          "output_type": "stream",
          "name": "stdout",
          "text": [
            "Done. (0.142s)\n",
            "inf : (0.0258s/frame)   nms : (0.0013s/frame)\n"
          ]
        },
        {
          "output_type": "stream",
          "name": "stderr",
          "text": [
            "[2024-05-10 16:47:37] INFO - processing.py - Skipping processing `KeypointsLongestMaxSizeRescale` because it resizes the image.\n",
            "[2024-05-10 16:47:37] INFO - processing.py - Skipping processing `KeypointsBottomRightPadding` because it resizes the image.\n",
            "[2024-05-10 16:47:37] INFO - pipelines.py - Fusing some of the model's layers. If this takes too much memory, you can deactivate it by setting `fuse_model=False`\n"
          ]
        },
        {
          "output_type": "stream",
          "name": "stdout",
          "text": [
            "Done. (0.143s)\n",
            "inf : (0.0260s/frame)   nms : (0.0013s/frame)\n"
          ]
        },
        {
          "output_type": "stream",
          "name": "stderr",
          "text": [
            "[2024-05-10 16:47:37] INFO - processing.py - Skipping processing `KeypointsLongestMaxSizeRescale` because it resizes the image.\n",
            "[2024-05-10 16:47:37] INFO - processing.py - Skipping processing `KeypointsBottomRightPadding` because it resizes the image.\n",
            "[2024-05-10 16:47:37] INFO - pipelines.py - Fusing some of the model's layers. If this takes too much memory, you can deactivate it by setting `fuse_model=False`\n"
          ]
        },
        {
          "output_type": "stream",
          "name": "stdout",
          "text": [
            "Done. (0.142s)\n",
            "inf : (0.0254s/frame)   nms : (0.0012s/frame)\n"
          ]
        },
        {
          "output_type": "stream",
          "name": "stderr",
          "text": [
            "[2024-05-10 16:47:38] INFO - processing.py - Skipping processing `KeypointsLongestMaxSizeRescale` because it resizes the image.\n",
            "[2024-05-10 16:47:38] INFO - processing.py - Skipping processing `KeypointsBottomRightPadding` because it resizes the image.\n",
            "[2024-05-10 16:47:38] INFO - pipelines.py - Fusing some of the model's layers. If this takes too much memory, you can deactivate it by setting `fuse_model=False`\n"
          ]
        },
        {
          "output_type": "stream",
          "name": "stdout",
          "text": [
            "Done. (0.142s)\n",
            "inf : (0.0256s/frame)   nms : (0.0013s/frame)\n"
          ]
        },
        {
          "output_type": "stream",
          "name": "stderr",
          "text": [
            "[2024-05-10 16:47:38] INFO - processing.py - Skipping processing `KeypointsLongestMaxSizeRescale` because it resizes the image.\n",
            "[2024-05-10 16:47:38] INFO - processing.py - Skipping processing `KeypointsBottomRightPadding` because it resizes the image.\n",
            "[2024-05-10 16:47:38] INFO - pipelines.py - Fusing some of the model's layers. If this takes too much memory, you can deactivate it by setting `fuse_model=False`\n"
          ]
        },
        {
          "output_type": "stream",
          "name": "stdout",
          "text": [
            "Done. (0.142s)\n",
            "inf : (0.0263s/frame)   nms : (0.0013s/frame)\n"
          ]
        },
        {
          "output_type": "stream",
          "name": "stderr",
          "text": [
            "[2024-05-10 16:47:39] INFO - processing.py - Skipping processing `KeypointsLongestMaxSizeRescale` because it resizes the image.\n",
            "[2024-05-10 16:47:39] INFO - processing.py - Skipping processing `KeypointsBottomRightPadding` because it resizes the image.\n",
            "[2024-05-10 16:47:39] INFO - pipelines.py - Fusing some of the model's layers. If this takes too much memory, you can deactivate it by setting `fuse_model=False`\n"
          ]
        },
        {
          "output_type": "stream",
          "name": "stdout",
          "text": [
            "Done. (0.140s)\n",
            "inf : (0.0262s/frame)   nms : (0.0013s/frame)\n"
          ]
        },
        {
          "output_type": "stream",
          "name": "stderr",
          "text": [
            "[2024-05-10 16:47:39] INFO - processing.py - Skipping processing `KeypointsLongestMaxSizeRescale` because it resizes the image.\n",
            "[2024-05-10 16:47:39] INFO - processing.py - Skipping processing `KeypointsBottomRightPadding` because it resizes the image.\n",
            "[2024-05-10 16:47:39] INFO - pipelines.py - Fusing some of the model's layers. If this takes too much memory, you can deactivate it by setting `fuse_model=False`\n"
          ]
        },
        {
          "output_type": "stream",
          "name": "stdout",
          "text": [
            "Done. (0.139s)\n",
            "inf : (0.0262s/frame)   nms : (0.0013s/frame)\n"
          ]
        },
        {
          "output_type": "stream",
          "name": "stderr",
          "text": [
            "[2024-05-10 16:47:40] INFO - processing.py - Skipping processing `KeypointsLongestMaxSizeRescale` because it resizes the image.\n",
            "[2024-05-10 16:47:40] INFO - processing.py - Skipping processing `KeypointsBottomRightPadding` because it resizes the image.\n",
            "[2024-05-10 16:47:40] INFO - pipelines.py - Fusing some of the model's layers. If this takes too much memory, you can deactivate it by setting `fuse_model=False`\n"
          ]
        },
        {
          "output_type": "stream",
          "name": "stdout",
          "text": [
            "Done. (0.143s)\n",
            "inf : (0.0268s/frame)   nms : (0.0013s/frame)\n"
          ]
        },
        {
          "output_type": "stream",
          "name": "stderr",
          "text": [
            "[2024-05-10 16:47:40] INFO - processing.py - Skipping processing `KeypointsLongestMaxSizeRescale` because it resizes the image.\n",
            "[2024-05-10 16:47:40] INFO - processing.py - Skipping processing `KeypointsBottomRightPadding` because it resizes the image.\n",
            "[2024-05-10 16:47:40] INFO - pipelines.py - Fusing some of the model's layers. If this takes too much memory, you can deactivate it by setting `fuse_model=False`\n"
          ]
        },
        {
          "output_type": "stream",
          "name": "stdout",
          "text": [
            "Done. (0.145s)\n",
            "inf : (0.0287s/frame)   nms : (0.0012s/frame)\n"
          ]
        },
        {
          "output_type": "stream",
          "name": "stderr",
          "text": [
            "[2024-05-10 16:47:41] INFO - processing.py - Skipping processing `KeypointsLongestMaxSizeRescale` because it resizes the image.\n",
            "[2024-05-10 16:47:41] INFO - processing.py - Skipping processing `KeypointsBottomRightPadding` because it resizes the image.\n",
            "[2024-05-10 16:47:41] INFO - pipelines.py - Fusing some of the model's layers. If this takes too much memory, you can deactivate it by setting `fuse_model=False`\n"
          ]
        },
        {
          "output_type": "stream",
          "name": "stdout",
          "text": [
            "Done. (0.142s)\n",
            "inf : (0.0267s/frame)   nms : (0.0013s/frame)\n"
          ]
        },
        {
          "output_type": "stream",
          "name": "stderr",
          "text": [
            "[2024-05-10 16:47:42] INFO - processing.py - Skipping processing `KeypointsLongestMaxSizeRescale` because it resizes the image.\n",
            "[2024-05-10 16:47:42] INFO - processing.py - Skipping processing `KeypointsBottomRightPadding` because it resizes the image.\n",
            "[2024-05-10 16:47:42] INFO - pipelines.py - Fusing some of the model's layers. If this takes too much memory, you can deactivate it by setting `fuse_model=False`\n"
          ]
        },
        {
          "output_type": "stream",
          "name": "stdout",
          "text": [
            "Done. (0.143s)\n",
            "inf : (0.0269s/frame)   nms : (0.0013s/frame)\n"
          ]
        },
        {
          "output_type": "stream",
          "name": "stderr",
          "text": [
            "[2024-05-10 16:47:42] INFO - processing.py - Skipping processing `KeypointsLongestMaxSizeRescale` because it resizes the image.\n",
            "[2024-05-10 16:47:42] INFO - processing.py - Skipping processing `KeypointsBottomRightPadding` because it resizes the image.\n",
            "[2024-05-10 16:47:42] INFO - pipelines.py - Fusing some of the model's layers. If this takes too much memory, you can deactivate it by setting `fuse_model=False`\n"
          ]
        },
        {
          "output_type": "stream",
          "name": "stdout",
          "text": [
            "Done. (0.143s)\n",
            "inf : (0.0267s/frame)   nms : (0.0013s/frame)\n"
          ]
        },
        {
          "output_type": "stream",
          "name": "stderr",
          "text": [
            "[2024-05-10 16:47:43] INFO - processing.py - Skipping processing `KeypointsLongestMaxSizeRescale` because it resizes the image.\n",
            "[2024-05-10 16:47:43] INFO - processing.py - Skipping processing `KeypointsBottomRightPadding` because it resizes the image.\n",
            "[2024-05-10 16:47:43] INFO - pipelines.py - Fusing some of the model's layers. If this takes too much memory, you can deactivate it by setting `fuse_model=False`\n"
          ]
        },
        {
          "output_type": "stream",
          "name": "stdout",
          "text": [
            "Done. (0.146s)\n",
            "inf : (0.0278s/frame)   nms : (0.0013s/frame)\n"
          ]
        },
        {
          "output_type": "stream",
          "name": "stderr",
          "text": [
            "[2024-05-10 16:47:43] INFO - processing.py - Skipping processing `KeypointsLongestMaxSizeRescale` because it resizes the image.\n",
            "[2024-05-10 16:47:43] INFO - processing.py - Skipping processing `KeypointsBottomRightPadding` because it resizes the image.\n",
            "[2024-05-10 16:47:43] INFO - pipelines.py - Fusing some of the model's layers. If this takes too much memory, you can deactivate it by setting `fuse_model=False`\n"
          ]
        },
        {
          "output_type": "stream",
          "name": "stdout",
          "text": [
            "Done. (0.143s)\n",
            "inf : (0.0260s/frame)   nms : (0.0013s/frame)\n"
          ]
        },
        {
          "output_type": "stream",
          "name": "stderr",
          "text": [
            "[2024-05-10 16:47:44] INFO - processing.py - Skipping processing `KeypointsLongestMaxSizeRescale` because it resizes the image.\n",
            "[2024-05-10 16:47:44] INFO - processing.py - Skipping processing `KeypointsBottomRightPadding` because it resizes the image.\n",
            "[2024-05-10 16:47:44] INFO - pipelines.py - Fusing some of the model's layers. If this takes too much memory, you can deactivate it by setting `fuse_model=False`\n"
          ]
        },
        {
          "output_type": "stream",
          "name": "stdout",
          "text": [
            "Done. (0.168s)\n",
            "inf : (0.0338s/frame)   nms : (0.0016s/frame)\n"
          ]
        },
        {
          "output_type": "stream",
          "name": "stderr",
          "text": [
            "[2024-05-10 16:47:44] INFO - processing.py - Skipping processing `KeypointsLongestMaxSizeRescale` because it resizes the image.\n",
            "[2024-05-10 16:47:44] INFO - processing.py - Skipping processing `KeypointsBottomRightPadding` because it resizes the image.\n",
            "[2024-05-10 16:47:44] INFO - pipelines.py - Fusing some of the model's layers. If this takes too much memory, you can deactivate it by setting `fuse_model=False`\n"
          ]
        },
        {
          "output_type": "stream",
          "name": "stdout",
          "text": [
            "Done. (0.142s)\n",
            "inf : (0.0258s/frame)   nms : (0.0012s/frame)\n"
          ]
        },
        {
          "output_type": "stream",
          "name": "stderr",
          "text": [
            "[2024-05-10 16:47:45] INFO - processing.py - Skipping processing `KeypointsLongestMaxSizeRescale` because it resizes the image.\n",
            "[2024-05-10 16:47:45] INFO - processing.py - Skipping processing `KeypointsBottomRightPadding` because it resizes the image.\n",
            "[2024-05-10 16:47:45] INFO - pipelines.py - Fusing some of the model's layers. If this takes too much memory, you can deactivate it by setting `fuse_model=False`\n"
          ]
        },
        {
          "output_type": "stream",
          "name": "stdout",
          "text": [
            "Done. (0.144s)\n",
            "inf : (0.0262s/frame)   nms : (0.0013s/frame)\n"
          ]
        },
        {
          "output_type": "stream",
          "name": "stderr",
          "text": [
            "[2024-05-10 16:47:45] INFO - processing.py - Skipping processing `KeypointsLongestMaxSizeRescale` because it resizes the image.\n",
            "[2024-05-10 16:47:45] INFO - processing.py - Skipping processing `KeypointsBottomRightPadding` because it resizes the image.\n",
            "[2024-05-10 16:47:45] INFO - pipelines.py - Fusing some of the model's layers. If this takes too much memory, you can deactivate it by setting `fuse_model=False`\n"
          ]
        },
        {
          "output_type": "stream",
          "name": "stdout",
          "text": [
            "Done. (0.143s)\n",
            "inf : (0.0263s/frame)   nms : (0.0013s/frame)\n"
          ]
        },
        {
          "output_type": "stream",
          "name": "stderr",
          "text": [
            "[2024-05-10 16:47:46] INFO - processing.py - Skipping processing `KeypointsLongestMaxSizeRescale` because it resizes the image.\n",
            "[2024-05-10 16:47:46] INFO - processing.py - Skipping processing `KeypointsBottomRightPadding` because it resizes the image.\n",
            "[2024-05-10 16:47:46] INFO - pipelines.py - Fusing some of the model's layers. If this takes too much memory, you can deactivate it by setting `fuse_model=False`\n"
          ]
        },
        {
          "output_type": "stream",
          "name": "stdout",
          "text": [
            "Done. (0.144s)\n",
            "inf : (0.0257s/frame)   nms : (0.0012s/frame)\n"
          ]
        },
        {
          "output_type": "stream",
          "name": "stderr",
          "text": [
            "[2024-05-10 16:47:46] INFO - processing.py - Skipping processing `KeypointsLongestMaxSizeRescale` because it resizes the image.\n",
            "[2024-05-10 16:47:46] INFO - processing.py - Skipping processing `KeypointsBottomRightPadding` because it resizes the image.\n",
            "[2024-05-10 16:47:46] INFO - pipelines.py - Fusing some of the model's layers. If this takes too much memory, you can deactivate it by setting `fuse_model=False`\n"
          ]
        },
        {
          "output_type": "stream",
          "name": "stdout",
          "text": [
            "Done. (0.142s)\n",
            "inf : (0.0258s/frame)   nms : (0.0013s/frame)\n"
          ]
        },
        {
          "output_type": "stream",
          "name": "stderr",
          "text": [
            "[2024-05-10 16:47:47] INFO - processing.py - Skipping processing `KeypointsLongestMaxSizeRescale` because it resizes the image.\n",
            "[2024-05-10 16:47:47] INFO - processing.py - Skipping processing `KeypointsBottomRightPadding` because it resizes the image.\n",
            "[2024-05-10 16:47:47] INFO - pipelines.py - Fusing some of the model's layers. If this takes too much memory, you can deactivate it by setting `fuse_model=False`\n"
          ]
        },
        {
          "output_type": "stream",
          "name": "stdout",
          "text": [
            "Done. (0.143s)\n",
            "inf : (0.0263s/frame)   nms : (0.0012s/frame)\n"
          ]
        },
        {
          "output_type": "stream",
          "name": "stderr",
          "text": [
            "[2024-05-10 16:47:47] INFO - processing.py - Skipping processing `KeypointsLongestMaxSizeRescale` because it resizes the image.\n",
            "[2024-05-10 16:47:47] INFO - processing.py - Skipping processing `KeypointsBottomRightPadding` because it resizes the image.\n",
            "[2024-05-10 16:47:47] INFO - pipelines.py - Fusing some of the model's layers. If this takes too much memory, you can deactivate it by setting `fuse_model=False`\n"
          ]
        },
        {
          "output_type": "stream",
          "name": "stdout",
          "text": [
            "Done. (0.145s)\n",
            "inf : (0.0263s/frame)   nms : (0.0013s/frame)\n"
          ]
        },
        {
          "output_type": "stream",
          "name": "stderr",
          "text": [
            "[2024-05-10 16:47:48] INFO - processing.py - Skipping processing `KeypointsLongestMaxSizeRescale` because it resizes the image.\n",
            "[2024-05-10 16:47:48] INFO - processing.py - Skipping processing `KeypointsBottomRightPadding` because it resizes the image.\n",
            "[2024-05-10 16:47:48] INFO - pipelines.py - Fusing some of the model's layers. If this takes too much memory, you can deactivate it by setting `fuse_model=False`\n"
          ]
        },
        {
          "output_type": "stream",
          "name": "stdout",
          "text": [
            "Done. (0.145s)\n",
            "inf : (0.0270s/frame)   nms : (0.0013s/frame)\n"
          ]
        },
        {
          "output_type": "stream",
          "name": "stderr",
          "text": [
            "[2024-05-10 16:47:48] INFO - processing.py - Skipping processing `KeypointsLongestMaxSizeRescale` because it resizes the image.\n",
            "[2024-05-10 16:47:48] INFO - processing.py - Skipping processing `KeypointsBottomRightPadding` because it resizes the image.\n",
            "[2024-05-10 16:47:48] INFO - pipelines.py - Fusing some of the model's layers. If this takes too much memory, you can deactivate it by setting `fuse_model=False`\n"
          ]
        },
        {
          "output_type": "stream",
          "name": "stdout",
          "text": [
            "Done. (0.144s)\n",
            "inf : (0.0266s/frame)   nms : (0.0013s/frame)\n"
          ]
        },
        {
          "output_type": "stream",
          "name": "stderr",
          "text": [
            "[2024-05-10 16:47:49] INFO - processing.py - Skipping processing `KeypointsLongestMaxSizeRescale` because it resizes the image.\n",
            "[2024-05-10 16:47:49] INFO - processing.py - Skipping processing `KeypointsBottomRightPadding` because it resizes the image.\n",
            "[2024-05-10 16:47:49] INFO - pipelines.py - Fusing some of the model's layers. If this takes too much memory, you can deactivate it by setting `fuse_model=False`\n"
          ]
        },
        {
          "output_type": "stream",
          "name": "stdout",
          "text": [
            "Done. (0.152s)\n",
            "inf : (0.0339s/frame)   nms : (0.0016s/frame)\n"
          ]
        },
        {
          "output_type": "stream",
          "name": "stderr",
          "text": [
            "[2024-05-10 16:47:49] INFO - processing.py - Skipping processing `KeypointsLongestMaxSizeRescale` because it resizes the image.\n",
            "[2024-05-10 16:47:49] INFO - processing.py - Skipping processing `KeypointsBottomRightPadding` because it resizes the image.\n",
            "[2024-05-10 16:47:49] INFO - pipelines.py - Fusing some of the model's layers. If this takes too much memory, you can deactivate it by setting `fuse_model=False`\n"
          ]
        },
        {
          "output_type": "stream",
          "name": "stdout",
          "text": [
            "Done. (0.142s)\n",
            "inf : (0.0252s/frame)   nms : (0.0012s/frame)\n"
          ]
        },
        {
          "output_type": "stream",
          "name": "stderr",
          "text": [
            "[2024-05-10 16:47:50] INFO - processing.py - Skipping processing `KeypointsLongestMaxSizeRescale` because it resizes the image.\n",
            "[2024-05-10 16:47:50] INFO - processing.py - Skipping processing `KeypointsBottomRightPadding` because it resizes the image.\n",
            "[2024-05-10 16:47:50] INFO - pipelines.py - Fusing some of the model's layers. If this takes too much memory, you can deactivate it by setting `fuse_model=False`\n"
          ]
        },
        {
          "output_type": "stream",
          "name": "stdout",
          "text": [
            "Done. (0.143s)\n",
            "inf : (0.0257s/frame)   nms : (0.0012s/frame)\n"
          ]
        },
        {
          "output_type": "stream",
          "name": "stderr",
          "text": [
            "[2024-05-10 16:47:51] INFO - processing.py - Skipping processing `KeypointsLongestMaxSizeRescale` because it resizes the image.\n",
            "[2024-05-10 16:47:51] INFO - processing.py - Skipping processing `KeypointsBottomRightPadding` because it resizes the image.\n",
            "[2024-05-10 16:47:51] INFO - pipelines.py - Fusing some of the model's layers. If this takes too much memory, you can deactivate it by setting `fuse_model=False`\n"
          ]
        },
        {
          "output_type": "stream",
          "name": "stdout",
          "text": [
            "Done. (0.147s)\n",
            "inf : (0.0267s/frame)   nms : (0.0013s/frame)\n"
          ]
        },
        {
          "output_type": "stream",
          "name": "stderr",
          "text": [
            "[2024-05-10 16:47:51] INFO - processing.py - Skipping processing `KeypointsLongestMaxSizeRescale` because it resizes the image.\n",
            "[2024-05-10 16:47:51] INFO - processing.py - Skipping processing `KeypointsBottomRightPadding` because it resizes the image.\n",
            "[2024-05-10 16:47:51] INFO - pipelines.py - Fusing some of the model's layers. If this takes too much memory, you can deactivate it by setting `fuse_model=False`\n"
          ]
        },
        {
          "output_type": "stream",
          "name": "stdout",
          "text": [
            "Done. (0.147s)\n",
            "inf : (0.0271s/frame)   nms : (0.0013s/frame)\n"
          ]
        },
        {
          "output_type": "stream",
          "name": "stderr",
          "text": [
            "[2024-05-10 16:47:52] INFO - processing.py - Skipping processing `KeypointsLongestMaxSizeRescale` because it resizes the image.\n",
            "[2024-05-10 16:47:52] INFO - processing.py - Skipping processing `KeypointsBottomRightPadding` because it resizes the image.\n",
            "[2024-05-10 16:47:52] INFO - pipelines.py - Fusing some of the model's layers. If this takes too much memory, you can deactivate it by setting `fuse_model=False`\n"
          ]
        },
        {
          "output_type": "stream",
          "name": "stdout",
          "text": [
            "Done. (0.146s)\n",
            "inf : (0.0266s/frame)   nms : (0.0013s/frame)\n"
          ]
        },
        {
          "output_type": "stream",
          "name": "stderr",
          "text": [
            "[2024-05-10 16:47:52] INFO - processing.py - Skipping processing `KeypointsLongestMaxSizeRescale` because it resizes the image.\n",
            "[2024-05-10 16:47:52] INFO - processing.py - Skipping processing `KeypointsBottomRightPadding` because it resizes the image.\n",
            "[2024-05-10 16:47:52] INFO - pipelines.py - Fusing some of the model's layers. If this takes too much memory, you can deactivate it by setting `fuse_model=False`\n"
          ]
        },
        {
          "output_type": "stream",
          "name": "stdout",
          "text": [
            "Done. (0.145s)\n",
            "inf : (0.0257s/frame)   nms : (0.0013s/frame)\n"
          ]
        },
        {
          "output_type": "stream",
          "name": "stderr",
          "text": [
            "[2024-05-10 16:47:53] INFO - processing.py - Skipping processing `KeypointsLongestMaxSizeRescale` because it resizes the image.\n",
            "[2024-05-10 16:47:53] INFO - processing.py - Skipping processing `KeypointsBottomRightPadding` because it resizes the image.\n",
            "[2024-05-10 16:47:53] INFO - pipelines.py - Fusing some of the model's layers. If this takes too much memory, you can deactivate it by setting `fuse_model=False`\n"
          ]
        },
        {
          "output_type": "stream",
          "name": "stdout",
          "text": [
            "Done. (0.148s)\n",
            "inf : (0.0261s/frame)   nms : (0.0013s/frame)\n"
          ]
        },
        {
          "output_type": "stream",
          "name": "stderr",
          "text": [
            "[2024-05-10 16:47:53] INFO - processing.py - Skipping processing `KeypointsLongestMaxSizeRescale` because it resizes the image.\n",
            "[2024-05-10 16:47:53] INFO - processing.py - Skipping processing `KeypointsBottomRightPadding` because it resizes the image.\n",
            "[2024-05-10 16:47:53] INFO - pipelines.py - Fusing some of the model's layers. If this takes too much memory, you can deactivate it by setting `fuse_model=False`\n"
          ]
        },
        {
          "output_type": "stream",
          "name": "stdout",
          "text": [
            "Done. (0.146s)\n",
            "inf : (0.0261s/frame)   nms : (0.0012s/frame)\n"
          ]
        },
        {
          "output_type": "stream",
          "name": "stderr",
          "text": [
            "[2024-05-10 16:47:54] INFO - processing.py - Skipping processing `KeypointsLongestMaxSizeRescale` because it resizes the image.\n",
            "[2024-05-10 16:47:54] INFO - processing.py - Skipping processing `KeypointsBottomRightPadding` because it resizes the image.\n",
            "[2024-05-10 16:47:54] INFO - pipelines.py - Fusing some of the model's layers. If this takes too much memory, you can deactivate it by setting `fuse_model=False`\n"
          ]
        },
        {
          "output_type": "stream",
          "name": "stdout",
          "text": [
            "Done. (0.149s)\n",
            "inf : (0.0260s/frame)   nms : (0.0013s/frame)\n"
          ]
        },
        {
          "output_type": "stream",
          "name": "stderr",
          "text": [
            "[2024-05-10 16:47:54] INFO - processing.py - Skipping processing `KeypointsLongestMaxSizeRescale` because it resizes the image.\n",
            "[2024-05-10 16:47:54] INFO - processing.py - Skipping processing `KeypointsBottomRightPadding` because it resizes the image.\n",
            "[2024-05-10 16:47:54] INFO - pipelines.py - Fusing some of the model's layers. If this takes too much memory, you can deactivate it by setting `fuse_model=False`\n"
          ]
        },
        {
          "output_type": "stream",
          "name": "stdout",
          "text": [
            "Done. (0.144s)\n",
            "inf : (0.0259s/frame)   nms : (0.0013s/frame)\n"
          ]
        },
        {
          "output_type": "stream",
          "name": "stderr",
          "text": [
            "[2024-05-10 16:47:55] INFO - processing.py - Skipping processing `KeypointsLongestMaxSizeRescale` because it resizes the image.\n",
            "[2024-05-10 16:47:55] INFO - processing.py - Skipping processing `KeypointsBottomRightPadding` because it resizes the image.\n",
            "[2024-05-10 16:47:55] INFO - pipelines.py - Fusing some of the model's layers. If this takes too much memory, you can deactivate it by setting `fuse_model=False`\n"
          ]
        },
        {
          "output_type": "stream",
          "name": "stdout",
          "text": [
            "Done. (0.148s)\n",
            "inf : (0.0272s/frame)   nms : (0.0013s/frame)\n"
          ]
        },
        {
          "output_type": "stream",
          "name": "stderr",
          "text": [
            "[2024-05-10 16:47:55] INFO - processing.py - Skipping processing `KeypointsLongestMaxSizeRescale` because it resizes the image.\n",
            "[2024-05-10 16:47:55] INFO - processing.py - Skipping processing `KeypointsBottomRightPadding` because it resizes the image.\n",
            "[2024-05-10 16:47:55] INFO - pipelines.py - Fusing some of the model's layers. If this takes too much memory, you can deactivate it by setting `fuse_model=False`\n"
          ]
        },
        {
          "output_type": "stream",
          "name": "stdout",
          "text": [
            "Done. (0.155s)\n",
            "inf : (0.0329s/frame)   nms : (0.0016s/frame)\n"
          ]
        },
        {
          "output_type": "stream",
          "name": "stderr",
          "text": [
            "[2024-05-10 16:47:56] INFO - processing.py - Skipping processing `KeypointsLongestMaxSizeRescale` because it resizes the image.\n",
            "[2024-05-10 16:47:56] INFO - processing.py - Skipping processing `KeypointsBottomRightPadding` because it resizes the image.\n",
            "[2024-05-10 16:47:56] INFO - pipelines.py - Fusing some of the model's layers. If this takes too much memory, you can deactivate it by setting `fuse_model=False`\n"
          ]
        },
        {
          "output_type": "stream",
          "name": "stdout",
          "text": [
            "Done. (0.148s)\n",
            "inf : (0.0263s/frame)   nms : (0.0013s/frame)\n"
          ]
        },
        {
          "output_type": "stream",
          "name": "stderr",
          "text": [
            "[2024-05-10 16:47:56] INFO - processing.py - Skipping processing `KeypointsLongestMaxSizeRescale` because it resizes the image.\n",
            "[2024-05-10 16:47:56] INFO - processing.py - Skipping processing `KeypointsBottomRightPadding` because it resizes the image.\n",
            "[2024-05-10 16:47:56] INFO - pipelines.py - Fusing some of the model's layers. If this takes too much memory, you can deactivate it by setting `fuse_model=False`\n"
          ]
        },
        {
          "output_type": "stream",
          "name": "stdout",
          "text": [
            "Done. (0.148s)\n",
            "inf : (0.0260s/frame)   nms : (0.0013s/frame)\n"
          ]
        },
        {
          "output_type": "stream",
          "name": "stderr",
          "text": [
            "[2024-05-10 16:47:57] INFO - processing.py - Skipping processing `KeypointsLongestMaxSizeRescale` because it resizes the image.\n",
            "[2024-05-10 16:47:57] INFO - processing.py - Skipping processing `KeypointsBottomRightPadding` because it resizes the image.\n",
            "[2024-05-10 16:47:57] INFO - pipelines.py - Fusing some of the model's layers. If this takes too much memory, you can deactivate it by setting `fuse_model=False`\n"
          ]
        },
        {
          "output_type": "stream",
          "name": "stdout",
          "text": [
            "Done. (0.149s)\n",
            "inf : (0.0259s/frame)   nms : (0.0013s/frame)\n"
          ]
        },
        {
          "output_type": "stream",
          "name": "stderr",
          "text": [
            "[2024-05-10 16:47:57] INFO - processing.py - Skipping processing `KeypointsLongestMaxSizeRescale` because it resizes the image.\n",
            "[2024-05-10 16:47:57] INFO - processing.py - Skipping processing `KeypointsBottomRightPadding` because it resizes the image.\n",
            "[2024-05-10 16:47:57] INFO - pipelines.py - Fusing some of the model's layers. If this takes too much memory, you can deactivate it by setting `fuse_model=False`\n"
          ]
        },
        {
          "output_type": "stream",
          "name": "stdout",
          "text": [
            "Done. (0.147s)\n",
            "inf : (0.0256s/frame)   nms : (0.0013s/frame)\n"
          ]
        },
        {
          "output_type": "stream",
          "name": "stderr",
          "text": [
            "[2024-05-10 16:47:58] INFO - processing.py - Skipping processing `KeypointsLongestMaxSizeRescale` because it resizes the image.\n",
            "[2024-05-10 16:47:58] INFO - processing.py - Skipping processing `KeypointsBottomRightPadding` because it resizes the image.\n",
            "[2024-05-10 16:47:58] INFO - pipelines.py - Fusing some of the model's layers. If this takes too much memory, you can deactivate it by setting `fuse_model=False`\n"
          ]
        },
        {
          "output_type": "stream",
          "name": "stdout",
          "text": [
            "Done. (0.150s)\n",
            "inf : (0.0267s/frame)   nms : (0.0013s/frame)\n"
          ]
        },
        {
          "output_type": "stream",
          "name": "stderr",
          "text": [
            "[2024-05-10 16:47:59] INFO - processing.py - Skipping processing `KeypointsLongestMaxSizeRescale` because it resizes the image.\n",
            "[2024-05-10 16:47:59] INFO - processing.py - Skipping processing `KeypointsBottomRightPadding` because it resizes the image.\n",
            "[2024-05-10 16:47:59] INFO - pipelines.py - Fusing some of the model's layers. If this takes too much memory, you can deactivate it by setting `fuse_model=False`\n"
          ]
        },
        {
          "output_type": "stream",
          "name": "stdout",
          "text": [
            "Done. (0.150s)\n",
            "inf : (0.0266s/frame)   nms : (0.0013s/frame)\n"
          ]
        },
        {
          "output_type": "stream",
          "name": "stderr",
          "text": [
            "[2024-05-10 16:47:59] INFO - processing.py - Skipping processing `KeypointsLongestMaxSizeRescale` because it resizes the image.\n",
            "[2024-05-10 16:47:59] INFO - processing.py - Skipping processing `KeypointsBottomRightPadding` because it resizes the image.\n",
            "[2024-05-10 16:47:59] INFO - pipelines.py - Fusing some of the model's layers. If this takes too much memory, you can deactivate it by setting `fuse_model=False`\n"
          ]
        },
        {
          "output_type": "stream",
          "name": "stdout",
          "text": [
            "Done. (0.158s)\n",
            "inf : (0.0333s/frame)   nms : (0.0016s/frame)\n"
          ]
        },
        {
          "output_type": "stream",
          "name": "stderr",
          "text": [
            "[2024-05-10 16:48:00] INFO - processing.py - Skipping processing `KeypointsLongestMaxSizeRescale` because it resizes the image.\n",
            "[2024-05-10 16:48:00] INFO - processing.py - Skipping processing `KeypointsBottomRightPadding` because it resizes the image.\n",
            "[2024-05-10 16:48:00] INFO - pipelines.py - Fusing some of the model's layers. If this takes too much memory, you can deactivate it by setting `fuse_model=False`\n"
          ]
        },
        {
          "output_type": "stream",
          "name": "stdout",
          "text": [
            "Done. (0.149s)\n",
            "inf : (0.0262s/frame)   nms : (0.0013s/frame)\n"
          ]
        },
        {
          "output_type": "stream",
          "name": "stderr",
          "text": [
            "[2024-05-10 16:48:00] INFO - processing.py - Skipping processing `KeypointsLongestMaxSizeRescale` because it resizes the image.\n",
            "[2024-05-10 16:48:00] INFO - processing.py - Skipping processing `KeypointsBottomRightPadding` because it resizes the image.\n",
            "[2024-05-10 16:48:00] INFO - pipelines.py - Fusing some of the model's layers. If this takes too much memory, you can deactivate it by setting `fuse_model=False`\n"
          ]
        },
        {
          "output_type": "stream",
          "name": "stdout",
          "text": [
            "Done. (0.149s)\n",
            "inf : (0.0258s/frame)   nms : (0.0013s/frame)\n"
          ]
        },
        {
          "output_type": "stream",
          "name": "stderr",
          "text": [
            "[2024-05-10 16:48:01] INFO - processing.py - Skipping processing `KeypointsLongestMaxSizeRescale` because it resizes the image.\n",
            "[2024-05-10 16:48:01] INFO - processing.py - Skipping processing `KeypointsBottomRightPadding` because it resizes the image.\n",
            "[2024-05-10 16:48:01] INFO - pipelines.py - Fusing some of the model's layers. If this takes too much memory, you can deactivate it by setting `fuse_model=False`\n"
          ]
        },
        {
          "output_type": "stream",
          "name": "stdout",
          "text": [
            "Done. (0.150s)\n",
            "inf : (0.0255s/frame)   nms : (0.0012s/frame)\n"
          ]
        },
        {
          "output_type": "stream",
          "name": "stderr",
          "text": [
            "[2024-05-10 16:48:01] INFO - processing.py - Skipping processing `KeypointsLongestMaxSizeRescale` because it resizes the image.\n",
            "[2024-05-10 16:48:01] INFO - processing.py - Skipping processing `KeypointsBottomRightPadding` because it resizes the image.\n",
            "[2024-05-10 16:48:01] INFO - pipelines.py - Fusing some of the model's layers. If this takes too much memory, you can deactivate it by setting `fuse_model=False`\n"
          ]
        },
        {
          "output_type": "stream",
          "name": "stdout",
          "text": [
            "Done. (0.150s)\n",
            "inf : (0.0274s/frame)   nms : (0.0013s/frame)\n"
          ]
        },
        {
          "output_type": "stream",
          "name": "stderr",
          "text": [
            "[2024-05-10 16:48:02] INFO - processing.py - Skipping processing `KeypointsLongestMaxSizeRescale` because it resizes the image.\n",
            "[2024-05-10 16:48:02] INFO - processing.py - Skipping processing `KeypointsBottomRightPadding` because it resizes the image.\n",
            "[2024-05-10 16:48:02] INFO - pipelines.py - Fusing some of the model's layers. If this takes too much memory, you can deactivate it by setting `fuse_model=False`\n"
          ]
        },
        {
          "output_type": "stream",
          "name": "stdout",
          "text": [
            "Done. (0.149s)\n",
            "inf : (0.0263s/frame)   nms : (0.0013s/frame)\n"
          ]
        },
        {
          "output_type": "stream",
          "name": "stderr",
          "text": [
            "[2024-05-10 16:48:02] INFO - processing.py - Skipping processing `KeypointsLongestMaxSizeRescale` because it resizes the image.\n",
            "[2024-05-10 16:48:02] INFO - processing.py - Skipping processing `KeypointsBottomRightPadding` because it resizes the image.\n",
            "[2024-05-10 16:48:02] INFO - pipelines.py - Fusing some of the model's layers. If this takes too much memory, you can deactivate it by setting `fuse_model=False`\n"
          ]
        },
        {
          "output_type": "stream",
          "name": "stdout",
          "text": [
            "Done. (0.148s)\n",
            "inf : (0.0264s/frame)   nms : (0.0013s/frame)\n"
          ]
        },
        {
          "output_type": "stream",
          "name": "stderr",
          "text": [
            "[2024-05-10 16:48:03] INFO - processing.py - Skipping processing `KeypointsLongestMaxSizeRescale` because it resizes the image.\n",
            "[2024-05-10 16:48:03] INFO - processing.py - Skipping processing `KeypointsBottomRightPadding` because it resizes the image.\n",
            "[2024-05-10 16:48:03] INFO - pipelines.py - Fusing some of the model's layers. If this takes too much memory, you can deactivate it by setting `fuse_model=False`\n"
          ]
        },
        {
          "output_type": "stream",
          "name": "stdout",
          "text": [
            "Done. (0.162s)\n",
            "inf : (0.0334s/frame)   nms : (0.0016s/frame)\n"
          ]
        },
        {
          "output_type": "stream",
          "name": "stderr",
          "text": [
            "[2024-05-10 16:48:03] INFO - processing.py - Skipping processing `KeypointsLongestMaxSizeRescale` because it resizes the image.\n",
            "[2024-05-10 16:48:03] INFO - processing.py - Skipping processing `KeypointsBottomRightPadding` because it resizes the image.\n",
            "[2024-05-10 16:48:03] INFO - pipelines.py - Fusing some of the model's layers. If this takes too much memory, you can deactivate it by setting `fuse_model=False`\n"
          ]
        },
        {
          "output_type": "stream",
          "name": "stdout",
          "text": [
            "Done. (0.147s)\n",
            "inf : (0.0257s/frame)   nms : (0.0012s/frame)\n"
          ]
        },
        {
          "output_type": "stream",
          "name": "stderr",
          "text": [
            "[2024-05-10 16:48:04] INFO - processing.py - Skipping processing `KeypointsLongestMaxSizeRescale` because it resizes the image.\n",
            "[2024-05-10 16:48:04] INFO - processing.py - Skipping processing `KeypointsBottomRightPadding` because it resizes the image.\n",
            "[2024-05-10 16:48:04] INFO - pipelines.py - Fusing some of the model's layers. If this takes too much memory, you can deactivate it by setting `fuse_model=False`\n"
          ]
        },
        {
          "output_type": "stream",
          "name": "stdout",
          "text": [
            "Done. (0.149s)\n",
            "inf : (0.0262s/frame)   nms : (0.0013s/frame)\n"
          ]
        },
        {
          "output_type": "stream",
          "name": "stderr",
          "text": [
            "[2024-05-10 16:48:04] INFO - processing.py - Skipping processing `KeypointsLongestMaxSizeRescale` because it resizes the image.\n",
            "[2024-05-10 16:48:04] INFO - processing.py - Skipping processing `KeypointsBottomRightPadding` because it resizes the image.\n",
            "[2024-05-10 16:48:05] INFO - pipelines.py - Fusing some of the model's layers. If this takes too much memory, you can deactivate it by setting `fuse_model=False`\n"
          ]
        },
        {
          "output_type": "stream",
          "name": "stdout",
          "text": [
            "Done. (0.147s)\n",
            "inf : (0.0259s/frame)   nms : (0.0012s/frame)\n"
          ]
        },
        {
          "output_type": "stream",
          "name": "stderr",
          "text": [
            "[2024-05-10 16:48:05] INFO - processing.py - Skipping processing `KeypointsLongestMaxSizeRescale` because it resizes the image.\n",
            "[2024-05-10 16:48:05] INFO - processing.py - Skipping processing `KeypointsBottomRightPadding` because it resizes the image.\n",
            "[2024-05-10 16:48:05] INFO - pipelines.py - Fusing some of the model's layers. If this takes too much memory, you can deactivate it by setting `fuse_model=False`\n"
          ]
        },
        {
          "output_type": "stream",
          "name": "stdout",
          "text": [
            "Done. (0.148s)\n",
            "inf : (0.0263s/frame)   nms : (0.0013s/frame)\n"
          ]
        },
        {
          "output_type": "stream",
          "name": "stderr",
          "text": [
            "[2024-05-10 16:48:05] INFO - processing.py - Skipping processing `KeypointsLongestMaxSizeRescale` because it resizes the image.\n",
            "[2024-05-10 16:48:05] INFO - processing.py - Skipping processing `KeypointsBottomRightPadding` because it resizes the image.\n",
            "[2024-05-10 16:48:06] INFO - pipelines.py - Fusing some of the model's layers. If this takes too much memory, you can deactivate it by setting `fuse_model=False`\n"
          ]
        },
        {
          "output_type": "stream",
          "name": "stdout",
          "text": [
            "Done. (0.148s)\n",
            "inf : (0.0261s/frame)   nms : (0.0013s/frame)\n"
          ]
        },
        {
          "output_type": "stream",
          "name": "stderr",
          "text": [
            "[2024-05-10 16:48:06] INFO - processing.py - Skipping processing `KeypointsLongestMaxSizeRescale` because it resizes the image.\n",
            "[2024-05-10 16:48:06] INFO - processing.py - Skipping processing `KeypointsBottomRightPadding` because it resizes the image.\n",
            "[2024-05-10 16:48:06] INFO - pipelines.py - Fusing some of the model's layers. If this takes too much memory, you can deactivate it by setting `fuse_model=False`\n"
          ]
        },
        {
          "output_type": "stream",
          "name": "stdout",
          "text": [
            "Done. (0.151s)\n",
            "inf : (0.0268s/frame)   nms : (0.0013s/frame)\n"
          ]
        },
        {
          "output_type": "stream",
          "name": "stderr",
          "text": [
            "[2024-05-10 16:48:07] INFO - processing.py - Skipping processing `KeypointsLongestMaxSizeRescale` because it resizes the image.\n",
            "[2024-05-10 16:48:07] INFO - processing.py - Skipping processing `KeypointsBottomRightPadding` because it resizes the image.\n",
            "[2024-05-10 16:48:07] INFO - pipelines.py - Fusing some of the model's layers. If this takes too much memory, you can deactivate it by setting `fuse_model=False`\n"
          ]
        },
        {
          "output_type": "stream",
          "name": "stdout",
          "text": [
            "Done. (0.150s)\n",
            "inf : (0.0260s/frame)   nms : (0.0012s/frame)\n"
          ]
        },
        {
          "output_type": "stream",
          "name": "stderr",
          "text": [
            "[2024-05-10 16:48:07] INFO - processing.py - Skipping processing `KeypointsLongestMaxSizeRescale` because it resizes the image.\n",
            "[2024-05-10 16:48:07] INFO - processing.py - Skipping processing `KeypointsBottomRightPadding` because it resizes the image.\n",
            "[2024-05-10 16:48:07] INFO - pipelines.py - Fusing some of the model's layers. If this takes too much memory, you can deactivate it by setting `fuse_model=False`\n"
          ]
        },
        {
          "output_type": "stream",
          "name": "stdout",
          "text": [
            "Done. (0.148s)\n",
            "inf : (0.0261s/frame)   nms : (0.0012s/frame)\n"
          ]
        },
        {
          "output_type": "stream",
          "name": "stderr",
          "text": [
            "[2024-05-10 16:48:08] INFO - processing.py - Skipping processing `KeypointsLongestMaxSizeRescale` because it resizes the image.\n",
            "[2024-05-10 16:48:08] INFO - processing.py - Skipping processing `KeypointsBottomRightPadding` because it resizes the image.\n",
            "[2024-05-10 16:48:08] INFO - pipelines.py - Fusing some of the model's layers. If this takes too much memory, you can deactivate it by setting `fuse_model=False`\n"
          ]
        },
        {
          "output_type": "stream",
          "name": "stdout",
          "text": [
            "Done. (0.150s)\n",
            "inf : (0.0271s/frame)   nms : (0.0014s/frame)\n"
          ]
        },
        {
          "output_type": "stream",
          "name": "stderr",
          "text": [
            "[2024-05-10 16:48:08] INFO - processing.py - Skipping processing `KeypointsLongestMaxSizeRescale` because it resizes the image.\n",
            "[2024-05-10 16:48:08] INFO - processing.py - Skipping processing `KeypointsBottomRightPadding` because it resizes the image.\n",
            "[2024-05-10 16:48:08] INFO - pipelines.py - Fusing some of the model's layers. If this takes too much memory, you can deactivate it by setting `fuse_model=False`\n"
          ]
        },
        {
          "output_type": "stream",
          "name": "stdout",
          "text": [
            "Done. (0.150s)\n",
            "inf : (0.0266s/frame)   nms : (0.0012s/frame)\n"
          ]
        },
        {
          "output_type": "stream",
          "name": "stderr",
          "text": [
            "[2024-05-10 16:48:09] INFO - processing.py - Skipping processing `KeypointsLongestMaxSizeRescale` because it resizes the image.\n",
            "[2024-05-10 16:48:09] INFO - processing.py - Skipping processing `KeypointsBottomRightPadding` because it resizes the image.\n",
            "[2024-05-10 16:48:09] INFO - pipelines.py - Fusing some of the model's layers. If this takes too much memory, you can deactivate it by setting `fuse_model=False`\n"
          ]
        },
        {
          "output_type": "stream",
          "name": "stdout",
          "text": [
            "Done. (0.148s)\n",
            "inf : (0.0266s/frame)   nms : (0.0016s/frame)\n"
          ]
        },
        {
          "output_type": "stream",
          "name": "stderr",
          "text": [
            "[2024-05-10 16:48:09] INFO - processing.py - Skipping processing `KeypointsLongestMaxSizeRescale` because it resizes the image.\n",
            "[2024-05-10 16:48:09] INFO - processing.py - Skipping processing `KeypointsBottomRightPadding` because it resizes the image.\n",
            "[2024-05-10 16:48:09] INFO - pipelines.py - Fusing some of the model's layers. If this takes too much memory, you can deactivate it by setting `fuse_model=False`\n"
          ]
        },
        {
          "output_type": "stream",
          "name": "stdout",
          "text": [
            "Done. (0.147s)\n",
            "inf : (0.0260s/frame)   nms : (0.0013s/frame)\n"
          ]
        },
        {
          "output_type": "stream",
          "name": "stderr",
          "text": [
            "[2024-05-10 16:48:10] INFO - processing.py - Skipping processing `KeypointsLongestMaxSizeRescale` because it resizes the image.\n",
            "[2024-05-10 16:48:10] INFO - processing.py - Skipping processing `KeypointsBottomRightPadding` because it resizes the image.\n",
            "[2024-05-10 16:48:10] INFO - pipelines.py - Fusing some of the model's layers. If this takes too much memory, you can deactivate it by setting `fuse_model=False`\n"
          ]
        },
        {
          "output_type": "stream",
          "name": "stdout",
          "text": [
            "Done. (0.146s)\n",
            "inf : (0.0258s/frame)   nms : (0.0013s/frame)\n"
          ]
        },
        {
          "output_type": "stream",
          "name": "stderr",
          "text": [
            "[2024-05-10 16:48:10] INFO - processing.py - Skipping processing `KeypointsLongestMaxSizeRescale` because it resizes the image.\n",
            "[2024-05-10 16:48:10] INFO - processing.py - Skipping processing `KeypointsBottomRightPadding` because it resizes the image.\n",
            "[2024-05-10 16:48:11] INFO - pipelines.py - Fusing some of the model's layers. If this takes too much memory, you can deactivate it by setting `fuse_model=False`\n"
          ]
        },
        {
          "output_type": "stream",
          "name": "stdout",
          "text": [
            "Done. (0.145s)\n",
            "inf : (0.0261s/frame)   nms : (0.0013s/frame)\n"
          ]
        },
        {
          "output_type": "stream",
          "name": "stderr",
          "text": [
            "[2024-05-10 16:48:11] INFO - processing.py - Skipping processing `KeypointsLongestMaxSizeRescale` because it resizes the image.\n",
            "[2024-05-10 16:48:11] INFO - processing.py - Skipping processing `KeypointsBottomRightPadding` because it resizes the image.\n",
            "[2024-05-10 16:48:11] INFO - pipelines.py - Fusing some of the model's layers. If this takes too much memory, you can deactivate it by setting `fuse_model=False`\n"
          ]
        },
        {
          "output_type": "stream",
          "name": "stdout",
          "text": [
            "Done. (0.145s)\n",
            "inf : (0.0267s/frame)   nms : (0.0013s/frame)\n"
          ]
        },
        {
          "output_type": "stream",
          "name": "stderr",
          "text": [
            "[2024-05-10 16:48:11] INFO - processing.py - Skipping processing `KeypointsLongestMaxSizeRescale` because it resizes the image.\n",
            "[2024-05-10 16:48:11] INFO - processing.py - Skipping processing `KeypointsBottomRightPadding` because it resizes the image.\n",
            "[2024-05-10 16:48:12] INFO - pipelines.py - Fusing some of the model's layers. If this takes too much memory, you can deactivate it by setting `fuse_model=False`\n"
          ]
        },
        {
          "output_type": "stream",
          "name": "stdout",
          "text": [
            "Done. (0.144s)\n",
            "inf : (0.0271s/frame)   nms : (0.0013s/frame)\n"
          ]
        },
        {
          "output_type": "stream",
          "name": "stderr",
          "text": [
            "[2024-05-10 16:48:12] INFO - processing.py - Skipping processing `KeypointsLongestMaxSizeRescale` because it resizes the image.\n",
            "[2024-05-10 16:48:12] INFO - processing.py - Skipping processing `KeypointsBottomRightPadding` because it resizes the image.\n",
            "[2024-05-10 16:48:12] INFO - pipelines.py - Fusing some of the model's layers. If this takes too much memory, you can deactivate it by setting `fuse_model=False`\n"
          ]
        },
        {
          "output_type": "stream",
          "name": "stdout",
          "text": [
            "Done. (0.144s)\n",
            "inf : (0.0267s/frame)   nms : (0.0013s/frame)\n"
          ]
        },
        {
          "output_type": "stream",
          "name": "stderr",
          "text": [
            "[2024-05-10 16:48:13] INFO - processing.py - Skipping processing `KeypointsLongestMaxSizeRescale` because it resizes the image.\n",
            "[2024-05-10 16:48:13] INFO - processing.py - Skipping processing `KeypointsBottomRightPadding` because it resizes the image.\n",
            "[2024-05-10 16:48:13] INFO - pipelines.py - Fusing some of the model's layers. If this takes too much memory, you can deactivate it by setting `fuse_model=False`\n"
          ]
        },
        {
          "output_type": "stream",
          "name": "stdout",
          "text": [
            "Done. (0.141s)\n",
            "inf : (0.0262s/frame)   nms : (0.0012s/frame)\n"
          ]
        },
        {
          "output_type": "stream",
          "name": "stderr",
          "text": [
            "[2024-05-10 16:48:13] INFO - processing.py - Skipping processing `KeypointsLongestMaxSizeRescale` because it resizes the image.\n",
            "[2024-05-10 16:48:13] INFO - processing.py - Skipping processing `KeypointsBottomRightPadding` because it resizes the image.\n",
            "[2024-05-10 16:48:13] INFO - pipelines.py - Fusing some of the model's layers. If this takes too much memory, you can deactivate it by setting `fuse_model=False`\n"
          ]
        },
        {
          "output_type": "stream",
          "name": "stdout",
          "text": [
            "Done. (0.142s)\n",
            "inf : (0.0259s/frame)   nms : (0.0013s/frame)\n"
          ]
        },
        {
          "output_type": "stream",
          "name": "stderr",
          "text": [
            "[2024-05-10 16:48:14] INFO - processing.py - Skipping processing `KeypointsLongestMaxSizeRescale` because it resizes the image.\n",
            "[2024-05-10 16:48:14] INFO - processing.py - Skipping processing `KeypointsBottomRightPadding` because it resizes the image.\n",
            "[2024-05-10 16:48:14] INFO - pipelines.py - Fusing some of the model's layers. If this takes too much memory, you can deactivate it by setting `fuse_model=False`\n"
          ]
        },
        {
          "output_type": "stream",
          "name": "stdout",
          "text": [
            "Done. (0.141s)\n",
            "inf : (0.0256s/frame)   nms : (0.0012s/frame)\n"
          ]
        },
        {
          "output_type": "stream",
          "name": "stderr",
          "text": [
            "[2024-05-10 16:48:14] INFO - processing.py - Skipping processing `KeypointsLongestMaxSizeRescale` because it resizes the image.\n",
            "[2024-05-10 16:48:14] INFO - processing.py - Skipping processing `KeypointsBottomRightPadding` because it resizes the image.\n",
            "[2024-05-10 16:48:14] INFO - pipelines.py - Fusing some of the model's layers. If this takes too much memory, you can deactivate it by setting `fuse_model=False`\n"
          ]
        },
        {
          "output_type": "stream",
          "name": "stdout",
          "text": [
            "Done. (0.141s)\n",
            "inf : (0.0259s/frame)   nms : (0.0013s/frame)\n"
          ]
        },
        {
          "output_type": "stream",
          "name": "stderr",
          "text": [
            "[2024-05-10 16:48:15] INFO - processing.py - Skipping processing `KeypointsLongestMaxSizeRescale` because it resizes the image.\n",
            "[2024-05-10 16:48:15] INFO - processing.py - Skipping processing `KeypointsBottomRightPadding` because it resizes the image.\n",
            "[2024-05-10 16:48:15] INFO - pipelines.py - Fusing some of the model's layers. If this takes too much memory, you can deactivate it by setting `fuse_model=False`\n"
          ]
        },
        {
          "output_type": "stream",
          "name": "stdout",
          "text": [
            "Done. (0.144s)\n",
            "inf : (0.0264s/frame)   nms : (0.0018s/frame)\n"
          ]
        },
        {
          "output_type": "stream",
          "name": "stderr",
          "text": [
            "[2024-05-10 16:48:15] INFO - processing.py - Skipping processing `KeypointsLongestMaxSizeRescale` because it resizes the image.\n",
            "[2024-05-10 16:48:15] INFO - processing.py - Skipping processing `KeypointsBottomRightPadding` because it resizes the image.\n",
            "[2024-05-10 16:48:15] INFO - pipelines.py - Fusing some of the model's layers. If this takes too much memory, you can deactivate it by setting `fuse_model=False`\n"
          ]
        },
        {
          "output_type": "stream",
          "name": "stdout",
          "text": [
            "Done. (0.139s)\n",
            "inf : (0.0255s/frame)   nms : (0.0012s/frame)\n"
          ]
        },
        {
          "output_type": "stream",
          "name": "stderr",
          "text": [
            "[2024-05-10 16:48:16] INFO - processing.py - Skipping processing `KeypointsLongestMaxSizeRescale` because it resizes the image.\n",
            "[2024-05-10 16:48:16] INFO - processing.py - Skipping processing `KeypointsBottomRightPadding` because it resizes the image.\n",
            "[2024-05-10 16:48:16] INFO - pipelines.py - Fusing some of the model's layers. If this takes too much memory, you can deactivate it by setting `fuse_model=False`\n"
          ]
        },
        {
          "output_type": "stream",
          "name": "stdout",
          "text": [
            "Done. (0.145s)\n",
            "inf : (0.0254s/frame)   nms : (0.0012s/frame)\n"
          ]
        },
        {
          "output_type": "stream",
          "name": "stderr",
          "text": [
            "[2024-05-10 16:48:16] INFO - processing.py - Skipping processing `KeypointsLongestMaxSizeRescale` because it resizes the image.\n",
            "[2024-05-10 16:48:16] INFO - processing.py - Skipping processing `KeypointsBottomRightPadding` because it resizes the image.\n",
            "[2024-05-10 16:48:17] INFO - pipelines.py - Fusing some of the model's layers. If this takes too much memory, you can deactivate it by setting `fuse_model=False`\n"
          ]
        },
        {
          "output_type": "stream",
          "name": "stdout",
          "text": [
            "Done. (0.142s)\n",
            "inf : (0.0256s/frame)   nms : (0.0013s/frame)\n"
          ]
        },
        {
          "output_type": "stream",
          "name": "stderr",
          "text": [
            "[2024-05-10 16:48:17] INFO - processing.py - Skipping processing `KeypointsLongestMaxSizeRescale` because it resizes the image.\n",
            "[2024-05-10 16:48:17] INFO - processing.py - Skipping processing `KeypointsBottomRightPadding` because it resizes the image.\n",
            "[2024-05-10 16:48:17] INFO - pipelines.py - Fusing some of the model's layers. If this takes too much memory, you can deactivate it by setting `fuse_model=False`\n"
          ]
        },
        {
          "output_type": "stream",
          "name": "stdout",
          "text": [
            "Done. (0.146s)\n",
            "inf : (0.0263s/frame)   nms : (0.0013s/frame)\n"
          ]
        },
        {
          "output_type": "stream",
          "name": "stderr",
          "text": [
            "[2024-05-10 16:48:18] INFO - processing.py - Skipping processing `KeypointsLongestMaxSizeRescale` because it resizes the image.\n",
            "[2024-05-10 16:48:18] INFO - processing.py - Skipping processing `KeypointsBottomRightPadding` because it resizes the image.\n",
            "[2024-05-10 16:48:18] INFO - pipelines.py - Fusing some of the model's layers. If this takes too much memory, you can deactivate it by setting `fuse_model=False`\n"
          ]
        },
        {
          "output_type": "stream",
          "name": "stdout",
          "text": [
            "Done. (0.141s)\n",
            "inf : (0.0263s/frame)   nms : (0.0013s/frame)\n"
          ]
        },
        {
          "output_type": "stream",
          "name": "stderr",
          "text": [
            "[2024-05-10 16:48:18] INFO - processing.py - Skipping processing `KeypointsLongestMaxSizeRescale` because it resizes the image.\n",
            "[2024-05-10 16:48:18] INFO - processing.py - Skipping processing `KeypointsBottomRightPadding` because it resizes the image.\n",
            "[2024-05-10 16:48:18] INFO - pipelines.py - Fusing some of the model's layers. If this takes too much memory, you can deactivate it by setting `fuse_model=False`\n"
          ]
        },
        {
          "output_type": "stream",
          "name": "stdout",
          "text": [
            "Done. (0.140s)\n",
            "inf : (0.0265s/frame)   nms : (0.0013s/frame)\n"
          ]
        },
        {
          "output_type": "stream",
          "name": "stderr",
          "text": [
            "[2024-05-10 16:48:19] INFO - processing.py - Skipping processing `KeypointsLongestMaxSizeRescale` because it resizes the image.\n",
            "[2024-05-10 16:48:19] INFO - processing.py - Skipping processing `KeypointsBottomRightPadding` because it resizes the image.\n",
            "[2024-05-10 16:48:19] INFO - pipelines.py - Fusing some of the model's layers. If this takes too much memory, you can deactivate it by setting `fuse_model=False`\n"
          ]
        },
        {
          "output_type": "stream",
          "name": "stdout",
          "text": [
            "Done. (0.141s)\n",
            "inf : (0.0258s/frame)   nms : (0.0012s/frame)\n"
          ]
        },
        {
          "output_type": "stream",
          "name": "stderr",
          "text": [
            "[2024-05-10 16:48:19] INFO - processing.py - Skipping processing `KeypointsLongestMaxSizeRescale` because it resizes the image.\n",
            "[2024-05-10 16:48:19] INFO - processing.py - Skipping processing `KeypointsBottomRightPadding` because it resizes the image.\n",
            "[2024-05-10 16:48:19] INFO - pipelines.py - Fusing some of the model's layers. If this takes too much memory, you can deactivate it by setting `fuse_model=False`\n"
          ]
        },
        {
          "output_type": "stream",
          "name": "stdout",
          "text": [
            "Done. (0.141s)\n",
            "inf : (0.0259s/frame)   nms : (0.0013s/frame)\n"
          ]
        },
        {
          "output_type": "stream",
          "name": "stderr",
          "text": [
            "[2024-05-10 16:48:20] INFO - processing.py - Skipping processing `KeypointsLongestMaxSizeRescale` because it resizes the image.\n",
            "[2024-05-10 16:48:20] INFO - processing.py - Skipping processing `KeypointsBottomRightPadding` because it resizes the image.\n",
            "[2024-05-10 16:48:20] INFO - pipelines.py - Fusing some of the model's layers. If this takes too much memory, you can deactivate it by setting `fuse_model=False`\n"
          ]
        },
        {
          "output_type": "stream",
          "name": "stdout",
          "text": [
            "Done. (0.140s)\n",
            "inf : (0.0255s/frame)   nms : (0.0013s/frame)\n"
          ]
        },
        {
          "output_type": "stream",
          "name": "stderr",
          "text": [
            "[2024-05-10 16:48:20] INFO - processing.py - Skipping processing `KeypointsLongestMaxSizeRescale` because it resizes the image.\n",
            "[2024-05-10 16:48:20] INFO - processing.py - Skipping processing `KeypointsBottomRightPadding` because it resizes the image.\n",
            "[2024-05-10 16:48:20] INFO - pipelines.py - Fusing some of the model's layers. If this takes too much memory, you can deactivate it by setting `fuse_model=False`\n"
          ]
        },
        {
          "output_type": "stream",
          "name": "stdout",
          "text": [
            "Done. (0.139s)\n",
            "inf : (0.0256s/frame)   nms : (0.0012s/frame)\n",
            "Done. (0.142s)\n",
            "inf : (0.0268s/frame)   nms : (0.0013s/frame)\n"
          ]
        }
      ],
      "source": [
        "jaad = JAAD(data_path='/content/JAAD')\n",
        "\n",
        "for video_id in range(1,31):\n",
        "\n",
        "    # Capture JAAD clip from video ID\n",
        "    video_id_two_digit = f\"0{video_id}\" if video_id < 10 else f\"{video_id}\"\n",
        "    video_name=\"video_00\" + video_id_two_digit + \".mp4\"\n",
        "    vid = cv2.VideoCapture(f\"/content/JAAD_clips/{video_name}\")\n",
        "    ret, img = vid.read()\n",
        "\n",
        "    # Initialize a variable to store the time of the previous frame.\n",
        "    time1 = 0\n",
        "    frame = 0;\n",
        "\n",
        "    # Initialize arrays\n",
        "    img_array = []\n",
        "    rolling_data = {}\n",
        "\n",
        "    # Loop through every frame in the video\n",
        "    while vid.isOpened():\n",
        "        ret, img = vid.read()\n",
        "\n",
        "        if not ret:\n",
        "            break\n",
        "\n",
        "        h, w, _ = img.shape\n",
        "\n",
        "        # Detect pose keypoints and bounding boxes\n",
        "        media_predictions = yolo_model.predict(img, conf=0.2, skip_image_resizing=True)\n",
        "        poses= media_predictions.prediction.poses\n",
        "        bboxes= media_predictions.prediction.bboxes_xyxy\n",
        "        conf = media_predictions.prediction.scores\n",
        "        edge_links= media_predictions.prediction.edge_links\n",
        "        edge_colors=media_predictions.prediction.edge_colors\n",
        "        keypoint_colors=media_predictions.prediction.keypoint_colors\n",
        "\n",
        "        # Construct skeletal graph\n",
        "        for i in range(len(poses)):\n",
        "            img = draw_skeleton(img,poses[i],conf[i],edge_links,edge_colors,2,keypoint_colors,4,0.0,False)\n",
        "\n",
        "        # Add bounding boxes to array dets for Deep OC-Sort input\n",
        "        dets = np.empty((0,6))\n",
        "        for i, bbox in enumerate(bboxes):\n",
        "            det = np.concatenate((bbox,[conf[i]],[0]))\n",
        "            dets = np.append(dets, [det], axis=0)\n",
        "\n",
        "        if(dets.size!=0):\n",
        "            # Run Deep OC-Sort (update tracker)\n",
        "            tracks = tracker.update(dets, img) # --> M X (x, y, x, y, id, conf, cls, ind)\n",
        "\n",
        "            # Highlight drivable area and lane segmentation onto frame\n",
        "            img = YOLOPdetect(img)\n",
        "\n",
        "            if(tracks.size!=0):\n",
        "                xyxys = tracks[:, 0:4].astype('int') # float64 to int\n",
        "                ids = tracks[:, 4].astype('int') # float64 to int\n",
        "                confs = tracks[:, 5]\n",
        "                clss = tracks[:, 6].astype('int') # float64 to int\n",
        "                inds = tracks[:, 7].astype('int') # float64 to int\n",
        "\n",
        "                # Loop over every bounding box\n",
        "                for i, bbox in enumerate(xyxys):\n",
        "\n",
        "                    # Expand bounding box\n",
        "                    x1 = bbox[0] - 10 if bbox[0]  - 10 > 0 else 0\n",
        "                    y1 = bbox[1] - 10 if bbox[1]  - 10 > 0 else 0\n",
        "                    x2 = bbox[2] + 10 if bbox[2]  + 10 < img.shape[1] else img.shape[1]\n",
        "                    y2 = bbox[3] + 10 if bbox[3]  + 10 < img.shape[0] else img.shape[0]\n",
        "                    bbox = [x1, y1, x2, y2]\n",
        "\n",
        "                    y = 0\n",
        "\n",
        "                    # Crop frame to bounding box\n",
        "                    cropped_img = img[bbox[1]:bbox[3], bbox[0]:bbox[2]]\n",
        "                    if(cropped_img.size==0):\n",
        "                        continue\n",
        "\n",
        "                    # Resize to 100x100\n",
        "                    cropped_img = cv2.resize(cropped_img,(100,100))\n",
        "\n",
        "                    # Place cropped image onto rolling data\n",
        "                    if ids[i] in list(rolling_data.keys()):\n",
        "                        if len(rolling_data[ids[i]]) < 16: # bboxes values for 16 frames\n",
        "                           rolling_data[ids[i]].append(np.asarray(cropped_img)) # append the image\n",
        "                        else:\n",
        "                           del rolling_data[ids[i]][0] # delete oldest frame bbox and append latest frame bbox\n",
        "                           rolling_data[ids[i]].append(np.asarray(cropped_img))\n",
        "                    else:\n",
        "                      rolling_data[ids[i]] = [np.asarray(cropped_img)]\n",
        "\n",
        "                    # Extract 16 consecutive 100x100 images for the pedestrian from the rolling data\n",
        "                    if len(rolling_data[ids[i]]) == 16:\n",
        "                      seq = np.stack(np.array(rolling_data[ids[i]]),axis=2) # (100*100*16*3)\n",
        "                      seq = np.expand_dims(seq, axis=0)\n",
        "                      y = pred_func(seq) # classification output\n",
        "                    else:\n",
        "                      seq = np.stack(np.array([rolling_data[ids[i]][-1]] * 16),axis=2)\n",
        "                      seq = np.expand_dims(seq, axis=0)\n",
        "                      y = pred_func(seq)\n",
        "\n",
        "                    # Draw bounding box and ID label (color is based on prediction)\n",
        "                    if y == 1:\n",
        "                      color = (0, 0, 255) # red if crossing\n",
        "                    else:\n",
        "                      color = (0, 255, 0) # green if not crossing\n",
        "                    img = cv2.rectangle(img, (bbox[0],bbox[1]), (bbox[2],bbox[3]), color, 2)\n",
        "                    img = cv2.putText(img, str(ids[i]), org = (bbox[0],bbox[1]-5) , fontFace = cv2.FONT_HERSHEY_SIMPLEX, fontScale=1, color=color, thickness=2)\n",
        "        else:\n",
        "          img = YOLOPdetect(img)\n",
        "\n",
        "        frame+=1\n",
        "\n",
        "\n",
        "        # Set the time for this frame to the current time.\n",
        "        time2 = time.time()\n",
        "\n",
        "        # Check if the difference between the previous and this frame time > 0 to avoid division by zero.\n",
        "        if (time2 - time1) > 0:\n",
        "\n",
        "            # Calculate the number of frames per second.\n",
        "            frames_per_second = 1.0 / (time2 - time1)\n",
        "\n",
        "            # Write the calculated number of frames per second on the frame.\n",
        "            cv2.putText(img, 'FPS: {}'.format(int(frames_per_second)), (10, 30),cv2.FONT_HERSHEY_PLAIN, 2, (0, 255, 0), 3)\n",
        "\n",
        "        # Update the previous frame time to this frame time.\n",
        "        # As this frame will become previous frame in next iteration.\n",
        "        time1 = time2\n",
        "\n",
        "        img = cv2.putText(img, \"Frame No: {}\".format(frame), (120, 20),cv2.FONT_HERSHEY_COMPLEX_SMALL, 1, (255, 0, 0), 2)\n",
        "\n",
        "        # cv2.imshow('BoxMOT detection', img)\n",
        "\n",
        "        img_array = img_array+[img]\n",
        "        key = cv2.waitKey(1) & 0xFF\n",
        "        if key == ord(' ') or key == ord('q'):\n",
        "            break\n",
        "\n",
        "    vid.release()\n",
        "\n",
        "    # Write output video into google drive folder\n",
        "    output_video = cv2.VideoWriter(f\"/content/drive/My Drive/pid_model_output/{video_name}\", fourcc=cv2.VideoWriter_fourcc(*'MP4V'), fps=30,frameSize=(w,h))\n",
        "    for img_ in img_array:\n",
        "        output_video.write(img_)\n",
        "\n",
        "    output_video.release()"
      ]
    }
  ],
  "metadata": {
    "accelerator": "GPU",
    "colab": {
      "gpuType": "L4",
      "machine_shape": "hm",
      "provenance": []
    },
    "kernelspec": {
      "display_name": "Python 3",
      "name": "python3"
    },
    "language_info": {
      "name": "python"
    }
  },
  "nbformat": 4,
  "nbformat_minor": 0
}